{
 "cells": [
  {
   "cell_type": "markdown",
   "metadata": {
    "id": "Du0zEcHWp_CK"
   },
   "source": [
    "### S14 Group 6 Members <br>\n",
    "Chan, Kendrick Martin <br>\n",
    "Dy, Fatima Kriselle <br>\n",
    "Vitan, Layne Ashley <br>\n",
    "Wu, Waynes Weyner <br>"
   ]
  },
  {
   "cell_type": "markdown",
   "metadata": {
    "id": "ZjLsqx1Xf3nJ"
   },
   "source": [
    "# Introduction"
   ]
  },
  {
   "cell_type": "markdown",
   "metadata": {
    "id": "A_PEaz2NhTKy"
   },
   "source": [
    "This notebook explores the Philippine Statistics Authority's (PSA) Labor Force Survey 2016, a comprehensive dataset that offers insights into the Philippine labor market. The project involves data preprocessing, exploratory data analysis (EDA), and model development to predict key labor outcomes. Three distinct machine learning models are trained and evaluated, followed by error analysis and hyperparameter tuning to improve performance. Finally, the project concludes with a summary of findings and insights drawn from the analysis.   "
   ]
  },
  {
   "cell_type": "markdown",
   "metadata": {
    "id": "0-g5JmAsgRtT"
   },
   "source": [
    "# Dataset Description"
   ]
  },
  {
   "cell_type": "markdown",
   "metadata": {
    "id": "Jlj9pgPHhWXq"
   },
   "source": [
    "The Labor Force Survey (LFS) is a nationwide quarterly survey conducted by the Philippine Statistics Authority (PSA) to gather labor market statistics. It provides insights into the levels and trends of employment, unemployment, and underemployment in the Philippines. The data serves as a quantitative framework for developing labor-related policies and programs.\n",
    "\n",
    "For the April 2016 LFS, data collection was carried out between April 8, 2016, and April 30, 2016. The survey followed a structured methodology to ensure data accuracy and reliability. The sampling design was based on the 2013 Master Sample Design, ensuring comprehensive representation at both the national and regional levels. Data collection was conducted through face-to-face interviews using standardized questionnaires. The process was closely supervised by Regional Directors (RDs) and Provincial Statistics Officers (PSOs) to ensure consistency and adherence to survey protocols. The survey targeted household members aged 15 and older, focusing on individuals within the labor force.\n",
    "This rigorous data collection process enhances the reliability of the survey's findings, making it a valuable resource for policymakers, economists, and researchers examining the Philippine labor market.\n",
    "\n",
    "### Dataset Structure\n",
    "The dataset consists of **180,862** instances and **50** features with rows representing an individual's responses to each question and columns pertaining to the data for a specific attribute across multiple respondents. The features and their respective descriptions are as follows.\n",
    "\n",
    "1.   `PUFREG` - Region the participant belongs to\n",
    "2.   `PUFPRV` - Province code of where the participant resides in\n",
    "3.   `PUFPRRCD` - Recoded province code\n",
    "4.   `PUFHHNUM` - Unique sequential number assigned to each household\n",
    "5.   `PUFURB2K10` - Urban or rural classification based on the 2010 FIES survey\n",
    "6.   `PUFPWGTFIN` - Final weight based on provincial projections\n",
    "7.   `PUFSVYMO` - Month when the survey was conducted\n",
    "8.   `PUFSVYYR` - Year when the survey was conducted\n",
    "9.   `PUFPSU` - Primary Sampling Unit (PSU) number\n",
    "10.   `PUFRPL` - Replication number used for variance estimation\n",
    "11.   `PUFHHSIZE` - Number of household members\n",
    "12.   `PUFC01_LNO` - Line number used to identify each member of the household in the survey\n",
    "13.   `PUFC03_REL` - Relationship of the participant to the head of the household\n",
    "14.   `PUFC04_SEX` - Gender of the participant\n",
    "15.   `PUFC05_AGE` - Age of the participant\n",
    "16.   `PUFC06_MSTAT` - Marital status of the participant\n",
    "17.   `PUFC07_GRADE` - Educational attainment of the participant\n",
    "18.   `PUFC08_CURSCH` - Indicates if the participant is currently attending school\n",
    "19.   `PUFC09_GRADTECH` - Indicates whether the participant is a graduate of a technical/vocational course\n",
    "20.   `PUFC10_CONWR` - Overseas Filipino Worker (OFW) Classification\n",
    "21. `PUFC11_WORK` - Indicates if the participant worked at least one hour in the past week\n",
    "22. `PUFC12_JOB` - Indicates if the participant had a job or business during the past week despite not working\n",
    "23. `PUFC14_PROCC` - Primary occupation of the participant during the past week\n",
    "24. `PUFC16_PKB` - Type of business or industry the participant is involved in\n",
    "25. `PUFC17_NATEM` - Nature of employment of the participant (permanent, short-term).\n",
    "26. `PUFC18_PNWHRS` - Normal working hours per day in the participant’s primary job\n",
    "27. `PUFC19_PHOURS` - Total hours worked by the participant during the past week\n",
    "28. `PUFC20_PWMORE` - Indicates if the participant wanted to work more hours in the past week\n",
    "29. `PUFC21_PLADDW` - Indicates whether the participant looked for additional work during the past week\n",
    "30. `PUFC22_PFWRK` - Indicates whether this was the participant’s first time doing any work\n",
    "31. `PUFC23_PCLASS` - Class of worker for the participant’s primary occupation\n",
    "32. `PUFC24_PBASIS` - Payment basis for the participant’s primary occupation\n",
    "33. `PUFC25_PBASIC` - Basic pay per day for the participant’s primary occupation\n",
    "34. `PUFC26_OJOB` - Indicates if the participant had another job or business during the past week\n",
    "35. `PUFC27_NJOBS` - Number of jobs the participant had during the past week\n",
    "36. `PUFC28_THOURS` - Total hours worked by the participant across all jobs during the past week\n",
    "37. `PUFC29_WWM48H` - Participant's main reason for not working more than 48 hours in the past week\n",
    "38. `PUFC30_LOOKW` - Indicates if the participant looked for work or tried to start a business in the past week\n",
    "39. `PUFC31_FLWRK` - Indicates if it was the participant’s first time looking for work or starting a business\n",
    "40. `PUFC32_JOBSM` - Method the participant used to search for work\n",
    "41. `PUFC33_WEEKS` - Number of weeks the participant spent looking for work\n",
    "42. `PUFC34_WYNOT` - Reason the participant did not look for work\n",
    "43. `PUFC35_LTLOOKW` - Period of the participant’s last job search attempt\n",
    "44. `PUFC36_AVAIL` - Indicates if the participant would have been available for work had an opportunity existed\n",
    "45. `PUFC37_WILLING` - Indicates if the participant was willing to take up work in the past week or within two weeks\n",
    "46. `PUFC38_PREVJOB` - Indicates if the participant had worked at any time before\n",
    "47. `PUFC40_POCC` - Last occupation held by the participant\n",
    "48. `PUFC41_WQTR` - Indicates if the participant worked at all or had a job/business during the past quarter\n",
    "49. `PUFC43_QKB` - Type of business the participant engaged in during the past quarter\n",
    "50. `PUFNEWEMPSTAT` - Employment status based on new employment criteria (employed, unemployed, not in labor force)"
   ]
  },
  {
   "cell_type": "markdown",
   "metadata": {
    "id": "kSYfagjOgeTG"
   },
   "source": [
    "# List of Requirements"
   ]
  },
  {
   "cell_type": "markdown",
   "metadata": {
    "id": "cW7H0he6iPjX"
   },
   "source": [
    "List all the Python libraries and modules that the project used."
   ]
  },
  {
   "cell_type": "code",
   "execution_count": 485,
   "metadata": {},
   "outputs": [],
   "source": [
    "import pandas as pd\n",
    "import numpy as np\n",
    "import seaborn as sns\n",
    "import matplotlib.pyplot as plt\n",
    "from sklearn.preprocessing import StandardScaler\n",
    "import statsmodels.api as sm"
   ]
  },
  {
   "cell_type": "markdown",
   "metadata": {},
   "source": [
    "The rest that will be shown are for the group to use."
   ]
  },
  {
   "cell_type": "code",
   "execution_count": 486,
   "metadata": {},
   "outputs": [],
   "source": [
    "# 1 Windows\n",
    "# 2 Linux\n",
    "# 3 Google Collab\n",
    "ENV = 1\n",
    "sns.set(style=\"whitegrid\")\n",
    "# google drive\n",
    "DRIVE_PATH = '/content/drive/MyDrive/STINTSY/Datasets/'\n",
    "\n",
    "FILENAME = 'LFS PUF April 2016.CSV'\n",
    "LOCAL_PATH = 'data/'\n",
    "\n",
    "import Utils\n",
    "\n",
    "labor_df = Utils.load_data(FILENAME, LOCAL_PATH, ENV)"
   ]
  },
  {
   "cell_type": "markdown",
   "metadata": {
    "id": "eoZIoxlTgiZh"
   },
   "source": [
    "# Data Preprocessing and Cleaning"
   ]
  },
  {
   "cell_type": "markdown",
   "metadata": {
    "id": "bo5-uzK9iaNQ"
   },
   "source": [
    "To be able to clean the data, first we must identify for any inconsistencies, errors, or missing values that need to be addressed.\n",
    "\n",
    " The process involves using data observability tools to look for various types of problems, including:\n",
    "\n",
    "- Missing or empty data points\n",
    "- Incorrect values\n",
    "- Mismatched data types\n",
    "- Duplicate entries\n",
    "- Inconsistent formatting"
   ]
  },
  {
   "cell_type": "markdown",
   "metadata": {},
   "source": [
    "#### Information about the data"
   ]
  },
  {
   "cell_type": "code",
   "execution_count": 487,
   "metadata": {},
   "outputs": [
    {
     "data": {
      "text/html": [
       "<div>\n",
       "<style scoped>\n",
       "    .dataframe tbody tr th:only-of-type {\n",
       "        vertical-align: middle;\n",
       "    }\n",
       "\n",
       "    .dataframe tbody tr th {\n",
       "        vertical-align: top;\n",
       "    }\n",
       "\n",
       "    .dataframe thead th {\n",
       "        text-align: right;\n",
       "    }\n",
       "</style>\n",
       "<table border=\"1\" class=\"dataframe\">\n",
       "  <thead>\n",
       "    <tr style=\"text-align: right;\">\n",
       "      <th></th>\n",
       "      <th>PUFREG</th>\n",
       "      <th>PUFPRV</th>\n",
       "      <th>PUFPRRCD</th>\n",
       "      <th>PUFHHNUM</th>\n",
       "      <th>PUFURB2K10</th>\n",
       "      <th>PUFPWGTFIN</th>\n",
       "      <th>PUFSVYMO</th>\n",
       "      <th>PUFSVYYR</th>\n",
       "      <th>PUFPSU</th>\n",
       "      <th>PUFRPL</th>\n",
       "      <th>...</th>\n",
       "      <th>PUFC33_WEEKS</th>\n",
       "      <th>PUFC34_WYNOT</th>\n",
       "      <th>PUFC35_LTLOOKW</th>\n",
       "      <th>PUFC36_AVAIL</th>\n",
       "      <th>PUFC37_WILLING</th>\n",
       "      <th>PUFC38_PREVJOB</th>\n",
       "      <th>PUFC40_POCC</th>\n",
       "      <th>PUFC41_WQTR</th>\n",
       "      <th>PUFC43_QKB</th>\n",
       "      <th>PUFNEWEMPSTAT</th>\n",
       "    </tr>\n",
       "  </thead>\n",
       "  <tbody>\n",
       "    <tr>\n",
       "      <th>0</th>\n",
       "      <td>1</td>\n",
       "      <td>28</td>\n",
       "      <td>2800</td>\n",
       "      <td>1</td>\n",
       "      <td>2</td>\n",
       "      <td>405.2219</td>\n",
       "      <td>4</td>\n",
       "      <td>2016</td>\n",
       "      <td>217</td>\n",
       "      <td>1</td>\n",
       "      <td>...</td>\n",
       "      <td></td>\n",
       "      <td></td>\n",
       "      <td></td>\n",
       "      <td></td>\n",
       "      <td></td>\n",
       "      <td></td>\n",
       "      <td></td>\n",
       "      <td>1</td>\n",
       "      <td>01</td>\n",
       "      <td>1</td>\n",
       "    </tr>\n",
       "    <tr>\n",
       "      <th>1</th>\n",
       "      <td>1</td>\n",
       "      <td>28</td>\n",
       "      <td>2800</td>\n",
       "      <td>1</td>\n",
       "      <td>2</td>\n",
       "      <td>388.8280</td>\n",
       "      <td>4</td>\n",
       "      <td>2016</td>\n",
       "      <td>217</td>\n",
       "      <td>1</td>\n",
       "      <td>...</td>\n",
       "      <td></td>\n",
       "      <td></td>\n",
       "      <td></td>\n",
       "      <td></td>\n",
       "      <td></td>\n",
       "      <td></td>\n",
       "      <td></td>\n",
       "      <td>1</td>\n",
       "      <td>01</td>\n",
       "      <td>1</td>\n",
       "    </tr>\n",
       "    <tr>\n",
       "      <th>2</th>\n",
       "      <td>1</td>\n",
       "      <td>28</td>\n",
       "      <td>2800</td>\n",
       "      <td>1</td>\n",
       "      <td>2</td>\n",
       "      <td>406.1194</td>\n",
       "      <td>4</td>\n",
       "      <td>2016</td>\n",
       "      <td>217</td>\n",
       "      <td>1</td>\n",
       "      <td>...</td>\n",
       "      <td></td>\n",
       "      <td></td>\n",
       "      <td></td>\n",
       "      <td></td>\n",
       "      <td></td>\n",
       "      <td></td>\n",
       "      <td></td>\n",
       "      <td>1</td>\n",
       "      <td>01</td>\n",
       "      <td>1</td>\n",
       "    </tr>\n",
       "    <tr>\n",
       "      <th>3</th>\n",
       "      <td>1</td>\n",
       "      <td>28</td>\n",
       "      <td>2800</td>\n",
       "      <td>2</td>\n",
       "      <td>2</td>\n",
       "      <td>405.2219</td>\n",
       "      <td>4</td>\n",
       "      <td>2016</td>\n",
       "      <td>217</td>\n",
       "      <td>1</td>\n",
       "      <td>...</td>\n",
       "      <td></td>\n",
       "      <td></td>\n",
       "      <td></td>\n",
       "      <td></td>\n",
       "      <td></td>\n",
       "      <td></td>\n",
       "      <td></td>\n",
       "      <td>1</td>\n",
       "      <td>01</td>\n",
       "      <td>1</td>\n",
       "    </tr>\n",
       "    <tr>\n",
       "      <th>4</th>\n",
       "      <td>1</td>\n",
       "      <td>28</td>\n",
       "      <td>2800</td>\n",
       "      <td>2</td>\n",
       "      <td>2</td>\n",
       "      <td>384.3556</td>\n",
       "      <td>4</td>\n",
       "      <td>2016</td>\n",
       "      <td>217</td>\n",
       "      <td>1</td>\n",
       "      <td>...</td>\n",
       "      <td></td>\n",
       "      <td></td>\n",
       "      <td></td>\n",
       "      <td></td>\n",
       "      <td></td>\n",
       "      <td></td>\n",
       "      <td></td>\n",
       "      <td>1</td>\n",
       "      <td>96</td>\n",
       "      <td>1</td>\n",
       "    </tr>\n",
       "  </tbody>\n",
       "</table>\n",
       "<p>5 rows × 50 columns</p>\n",
       "</div>"
      ],
      "text/plain": [
       "   PUFREG  PUFPRV  PUFPRRCD  PUFHHNUM  PUFURB2K10  PUFPWGTFIN  PUFSVYMO  \\\n",
       "0       1      28      2800         1           2    405.2219         4   \n",
       "1       1      28      2800         1           2    388.8280         4   \n",
       "2       1      28      2800         1           2    406.1194         4   \n",
       "3       1      28      2800         2           2    405.2219         4   \n",
       "4       1      28      2800         2           2    384.3556         4   \n",
       "\n",
       "   PUFSVYYR  PUFPSU  PUFRPL  ...  PUFC33_WEEKS  PUFC34_WYNOT  PUFC35_LTLOOKW  \\\n",
       "0      2016     217       1  ...                                               \n",
       "1      2016     217       1  ...                                               \n",
       "2      2016     217       1  ...                                               \n",
       "3      2016     217       1  ...                                               \n",
       "4      2016     217       1  ...                                               \n",
       "\n",
       "   PUFC36_AVAIL  PUFC37_WILLING PUFC38_PREVJOB PUFC40_POCC PUFC41_WQTR  \\\n",
       "0                                                                    1   \n",
       "1                                                                    1   \n",
       "2                                                                    1   \n",
       "3                                                                    1   \n",
       "4                                                                    1   \n",
       "\n",
       "  PUFC43_QKB PUFNEWEMPSTAT  \n",
       "0         01             1  \n",
       "1         01             1  \n",
       "2         01             1  \n",
       "3         01             1  \n",
       "4         96             1  \n",
       "\n",
       "[5 rows x 50 columns]"
      ]
     },
     "execution_count": 487,
     "metadata": {},
     "output_type": "execute_result"
    }
   ],
   "source": [
    "labor_df.head(5)"
   ]
  },
  {
   "cell_type": "code",
   "execution_count": 488,
   "metadata": {},
   "outputs": [
    {
     "data": {
      "text/html": [
       "<div>\n",
       "<style scoped>\n",
       "    .dataframe tbody tr th:only-of-type {\n",
       "        vertical-align: middle;\n",
       "    }\n",
       "\n",
       "    .dataframe tbody tr th {\n",
       "        vertical-align: top;\n",
       "    }\n",
       "\n",
       "    .dataframe thead th {\n",
       "        text-align: right;\n",
       "    }\n",
       "</style>\n",
       "<table border=\"1\" class=\"dataframe\">\n",
       "  <thead>\n",
       "    <tr style=\"text-align: right;\">\n",
       "      <th></th>\n",
       "      <th>PUFREG</th>\n",
       "      <th>PUFPRV</th>\n",
       "      <th>PUFPRRCD</th>\n",
       "      <th>PUFHHNUM</th>\n",
       "      <th>PUFURB2K10</th>\n",
       "      <th>PUFPWGTFIN</th>\n",
       "      <th>PUFSVYMO</th>\n",
       "      <th>PUFSVYYR</th>\n",
       "      <th>PUFPSU</th>\n",
       "      <th>PUFRPL</th>\n",
       "      <th>...</th>\n",
       "      <th>PUFC33_WEEKS</th>\n",
       "      <th>PUFC34_WYNOT</th>\n",
       "      <th>PUFC35_LTLOOKW</th>\n",
       "      <th>PUFC36_AVAIL</th>\n",
       "      <th>PUFC37_WILLING</th>\n",
       "      <th>PUFC38_PREVJOB</th>\n",
       "      <th>PUFC40_POCC</th>\n",
       "      <th>PUFC41_WQTR</th>\n",
       "      <th>PUFC43_QKB</th>\n",
       "      <th>PUFNEWEMPSTAT</th>\n",
       "    </tr>\n",
       "  </thead>\n",
       "  <tbody>\n",
       "    <tr>\n",
       "      <th>180857</th>\n",
       "      <td>17</td>\n",
       "      <td>59</td>\n",
       "      <td>5900</td>\n",
       "      <td>40880</td>\n",
       "      <td>2</td>\n",
       "      <td>239.4341</td>\n",
       "      <td>4</td>\n",
       "      <td>2016</td>\n",
       "      <td>258</td>\n",
       "      <td>1</td>\n",
       "      <td>...</td>\n",
       "      <td></td>\n",
       "      <td></td>\n",
       "      <td></td>\n",
       "      <td></td>\n",
       "      <td></td>\n",
       "      <td></td>\n",
       "      <td></td>\n",
       "      <td>1</td>\n",
       "      <td>50</td>\n",
       "      <td>1</td>\n",
       "    </tr>\n",
       "    <tr>\n",
       "      <th>180858</th>\n",
       "      <td>17</td>\n",
       "      <td>59</td>\n",
       "      <td>5900</td>\n",
       "      <td>40880</td>\n",
       "      <td>2</td>\n",
       "      <td>189.8885</td>\n",
       "      <td>4</td>\n",
       "      <td>2016</td>\n",
       "      <td>258</td>\n",
       "      <td>1</td>\n",
       "      <td>...</td>\n",
       "      <td></td>\n",
       "      <td>8</td>\n",
       "      <td></td>\n",
       "      <td></td>\n",
       "      <td></td>\n",
       "      <td>2</td>\n",
       "      <td></td>\n",
       "      <td></td>\n",
       "      <td></td>\n",
       "      <td>3</td>\n",
       "    </tr>\n",
       "    <tr>\n",
       "      <th>180859</th>\n",
       "      <td>17</td>\n",
       "      <td>59</td>\n",
       "      <td>5900</td>\n",
       "      <td>40880</td>\n",
       "      <td>2</td>\n",
       "      <td>207.7395</td>\n",
       "      <td>4</td>\n",
       "      <td>2016</td>\n",
       "      <td>258</td>\n",
       "      <td>1</td>\n",
       "      <td>...</td>\n",
       "      <td></td>\n",
       "      <td></td>\n",
       "      <td></td>\n",
       "      <td></td>\n",
       "      <td></td>\n",
       "      <td></td>\n",
       "      <td></td>\n",
       "      <td></td>\n",
       "      <td></td>\n",
       "      <td></td>\n",
       "    </tr>\n",
       "    <tr>\n",
       "      <th>180860</th>\n",
       "      <td>17</td>\n",
       "      <td>59</td>\n",
       "      <td>5900</td>\n",
       "      <td>40880</td>\n",
       "      <td>2</td>\n",
       "      <td>207.7395</td>\n",
       "      <td>4</td>\n",
       "      <td>2016</td>\n",
       "      <td>258</td>\n",
       "      <td>1</td>\n",
       "      <td>...</td>\n",
       "      <td></td>\n",
       "      <td></td>\n",
       "      <td></td>\n",
       "      <td></td>\n",
       "      <td></td>\n",
       "      <td></td>\n",
       "      <td></td>\n",
       "      <td></td>\n",
       "      <td></td>\n",
       "      <td></td>\n",
       "    </tr>\n",
       "    <tr>\n",
       "      <th>180861</th>\n",
       "      <td>17</td>\n",
       "      <td>59</td>\n",
       "      <td>5900</td>\n",
       "      <td>40880</td>\n",
       "      <td>2</td>\n",
       "      <td>277.5219</td>\n",
       "      <td>4</td>\n",
       "      <td>2016</td>\n",
       "      <td>258</td>\n",
       "      <td>1</td>\n",
       "      <td>...</td>\n",
       "      <td></td>\n",
       "      <td></td>\n",
       "      <td></td>\n",
       "      <td></td>\n",
       "      <td></td>\n",
       "      <td></td>\n",
       "      <td></td>\n",
       "      <td>1</td>\n",
       "      <td>01</td>\n",
       "      <td>1</td>\n",
       "    </tr>\n",
       "  </tbody>\n",
       "</table>\n",
       "<p>5 rows × 50 columns</p>\n",
       "</div>"
      ],
      "text/plain": [
       "        PUFREG  PUFPRV  PUFPRRCD  PUFHHNUM  PUFURB2K10  PUFPWGTFIN  PUFSVYMO  \\\n",
       "180857      17      59      5900     40880           2    239.4341         4   \n",
       "180858      17      59      5900     40880           2    189.8885         4   \n",
       "180859      17      59      5900     40880           2    207.7395         4   \n",
       "180860      17      59      5900     40880           2    207.7395         4   \n",
       "180861      17      59      5900     40880           2    277.5219         4   \n",
       "\n",
       "        PUFSVYYR  PUFPSU  PUFRPL  ...  PUFC33_WEEKS  PUFC34_WYNOT  \\\n",
       "180857      2016     258       1  ...                               \n",
       "180858      2016     258       1  ...                           8   \n",
       "180859      2016     258       1  ...                               \n",
       "180860      2016     258       1  ...                               \n",
       "180861      2016     258       1  ...                               \n",
       "\n",
       "        PUFC35_LTLOOKW  PUFC36_AVAIL  PUFC37_WILLING PUFC38_PREVJOB  \\\n",
       "180857                                                                \n",
       "180858                                                            2   \n",
       "180859                                                                \n",
       "180860                                                                \n",
       "180861                                                                \n",
       "\n",
       "       PUFC40_POCC PUFC41_WQTR PUFC43_QKB PUFNEWEMPSTAT  \n",
       "180857                       1         50             1  \n",
       "180858                                                3  \n",
       "180859                                                   \n",
       "180860                                                   \n",
       "180861                       1         01             1  \n",
       "\n",
       "[5 rows x 50 columns]"
      ]
     },
     "execution_count": 488,
     "metadata": {},
     "output_type": "execute_result"
    }
   ],
   "source": [
    "labor_df.tail(5)"
   ]
  },
  {
   "cell_type": "code",
   "execution_count": 489,
   "metadata": {},
   "outputs": [
    {
     "data": {
      "text/html": [
       "<div>\n",
       "<style scoped>\n",
       "    .dataframe tbody tr th:only-of-type {\n",
       "        vertical-align: middle;\n",
       "    }\n",
       "\n",
       "    .dataframe tbody tr th {\n",
       "        vertical-align: top;\n",
       "    }\n",
       "\n",
       "    .dataframe thead th {\n",
       "        text-align: right;\n",
       "    }\n",
       "</style>\n",
       "<table border=\"1\" class=\"dataframe\">\n",
       "  <thead>\n",
       "    <tr style=\"text-align: right;\">\n",
       "      <th></th>\n",
       "      <th>PUFREG</th>\n",
       "      <th>PUFPRV</th>\n",
       "      <th>PUFPRRCD</th>\n",
       "      <th>PUFHHNUM</th>\n",
       "      <th>PUFURB2K10</th>\n",
       "      <th>PUFPWGTFIN</th>\n",
       "      <th>PUFSVYMO</th>\n",
       "      <th>PUFSVYYR</th>\n",
       "      <th>PUFPSU</th>\n",
       "      <th>PUFRPL</th>\n",
       "      <th>PUFHHSIZE</th>\n",
       "      <th>PUFC01_LNO</th>\n",
       "      <th>PUFC03_REL</th>\n",
       "      <th>PUFC04_SEX</th>\n",
       "      <th>PUFC05_AGE</th>\n",
       "    </tr>\n",
       "  </thead>\n",
       "  <tbody>\n",
       "    <tr>\n",
       "      <th>count</th>\n",
       "      <td>180862.000000</td>\n",
       "      <td>180862.000000</td>\n",
       "      <td>180862.000000</td>\n",
       "      <td>180862.000000</td>\n",
       "      <td>180862.000000</td>\n",
       "      <td>180862.000000</td>\n",
       "      <td>180862.0</td>\n",
       "      <td>180862.0</td>\n",
       "      <td>180862.000000</td>\n",
       "      <td>180862.000000</td>\n",
       "      <td>180862.000000</td>\n",
       "      <td>180862.000000</td>\n",
       "      <td>180862.000000</td>\n",
       "      <td>180862.000000</td>\n",
       "      <td>180862.000000</td>\n",
       "    </tr>\n",
       "    <tr>\n",
       "      <th>mean</th>\n",
       "      <td>9.398801</td>\n",
       "      <td>45.825309</td>\n",
       "      <td>4585.055324</td>\n",
       "      <td>20528.231873</td>\n",
       "      <td>1.574947</td>\n",
       "      <td>568.527169</td>\n",
       "      <td>4.0</td>\n",
       "      <td>2016.0</td>\n",
       "      <td>386.270272</td>\n",
       "      <td>2.490379</td>\n",
       "      <td>5.504783</td>\n",
       "      <td>3.252391</td>\n",
       "      <td>2.931489</td>\n",
       "      <td>1.493874</td>\n",
       "      <td>27.889772</td>\n",
       "    </tr>\n",
       "    <tr>\n",
       "      <th>std</th>\n",
       "      <td>4.667034</td>\n",
       "      <td>24.939767</td>\n",
       "      <td>2494.028733</td>\n",
       "      <td>11827.708144</td>\n",
       "      <td>0.494352</td>\n",
       "      <td>508.519331</td>\n",
       "      <td>0.0</td>\n",
       "      <td>0.0</td>\n",
       "      <td>440.160045</td>\n",
       "      <td>1.118970</td>\n",
       "      <td>2.370169</td>\n",
       "      <td>2.077130</td>\n",
       "      <td>1.832299</td>\n",
       "      <td>0.499964</td>\n",
       "      <td>20.052132</td>\n",
       "    </tr>\n",
       "    <tr>\n",
       "      <th>min</th>\n",
       "      <td>1.000000</td>\n",
       "      <td>1.000000</td>\n",
       "      <td>100.000000</td>\n",
       "      <td>1.000000</td>\n",
       "      <td>1.000000</td>\n",
       "      <td>34.998400</td>\n",
       "      <td>4.0</td>\n",
       "      <td>2016.0</td>\n",
       "      <td>1.000000</td>\n",
       "      <td>1.000000</td>\n",
       "      <td>1.000000</td>\n",
       "      <td>1.000000</td>\n",
       "      <td>1.000000</td>\n",
       "      <td>1.000000</td>\n",
       "      <td>0.000000</td>\n",
       "    </tr>\n",
       "    <tr>\n",
       "      <th>25%</th>\n",
       "      <td>5.000000</td>\n",
       "      <td>24.000000</td>\n",
       "      <td>2402.000000</td>\n",
       "      <td>10256.250000</td>\n",
       "      <td>1.000000</td>\n",
       "      <td>245.065975</td>\n",
       "      <td>4.0</td>\n",
       "      <td>2016.0</td>\n",
       "      <td>107.000000</td>\n",
       "      <td>1.000000</td>\n",
       "      <td>4.000000</td>\n",
       "      <td>2.000000</td>\n",
       "      <td>2.000000</td>\n",
       "      <td>1.000000</td>\n",
       "      <td>11.000000</td>\n",
       "    </tr>\n",
       "    <tr>\n",
       "      <th>50%</th>\n",
       "      <td>10.000000</td>\n",
       "      <td>46.000000</td>\n",
       "      <td>4600.000000</td>\n",
       "      <td>20406.000000</td>\n",
       "      <td>2.000000</td>\n",
       "      <td>392.993500</td>\n",
       "      <td>4.0</td>\n",
       "      <td>2016.0</td>\n",
       "      <td>243.000000</td>\n",
       "      <td>2.000000</td>\n",
       "      <td>5.000000</td>\n",
       "      <td>3.000000</td>\n",
       "      <td>3.000000</td>\n",
       "      <td>1.000000</td>\n",
       "      <td>24.000000</td>\n",
       "    </tr>\n",
       "    <tr>\n",
       "      <th>75%</th>\n",
       "      <td>13.000000</td>\n",
       "      <td>71.000000</td>\n",
       "      <td>7100.000000</td>\n",
       "      <td>30962.000000</td>\n",
       "      <td>2.000000</td>\n",
       "      <td>679.526775</td>\n",
       "      <td>4.0</td>\n",
       "      <td>2016.0</td>\n",
       "      <td>482.000000</td>\n",
       "      <td>3.000000</td>\n",
       "      <td>7.000000</td>\n",
       "      <td>4.000000</td>\n",
       "      <td>3.000000</td>\n",
       "      <td>2.000000</td>\n",
       "      <td>42.000000</td>\n",
       "    </tr>\n",
       "    <tr>\n",
       "      <th>max</th>\n",
       "      <td>17.000000</td>\n",
       "      <td>98.000000</td>\n",
       "      <td>9804.000000</td>\n",
       "      <td>40880.000000</td>\n",
       "      <td>2.000000</td>\n",
       "      <td>4509.316000</td>\n",
       "      <td>4.0</td>\n",
       "      <td>2016.0</td>\n",
       "      <td>3053.000000</td>\n",
       "      <td>4.000000</td>\n",
       "      <td>23.000000</td>\n",
       "      <td>23.000000</td>\n",
       "      <td>11.000000</td>\n",
       "      <td>2.000000</td>\n",
       "      <td>99.000000</td>\n",
       "    </tr>\n",
       "  </tbody>\n",
       "</table>\n",
       "</div>"
      ],
      "text/plain": [
       "              PUFREG         PUFPRV       PUFPRRCD       PUFHHNUM  \\\n",
       "count  180862.000000  180862.000000  180862.000000  180862.000000   \n",
       "mean        9.398801      45.825309    4585.055324   20528.231873   \n",
       "std         4.667034      24.939767    2494.028733   11827.708144   \n",
       "min         1.000000       1.000000     100.000000       1.000000   \n",
       "25%         5.000000      24.000000    2402.000000   10256.250000   \n",
       "50%        10.000000      46.000000    4600.000000   20406.000000   \n",
       "75%        13.000000      71.000000    7100.000000   30962.000000   \n",
       "max        17.000000      98.000000    9804.000000   40880.000000   \n",
       "\n",
       "          PUFURB2K10     PUFPWGTFIN  PUFSVYMO  PUFSVYYR         PUFPSU  \\\n",
       "count  180862.000000  180862.000000  180862.0  180862.0  180862.000000   \n",
       "mean        1.574947     568.527169       4.0    2016.0     386.270272   \n",
       "std         0.494352     508.519331       0.0       0.0     440.160045   \n",
       "min         1.000000      34.998400       4.0    2016.0       1.000000   \n",
       "25%         1.000000     245.065975       4.0    2016.0     107.000000   \n",
       "50%         2.000000     392.993500       4.0    2016.0     243.000000   \n",
       "75%         2.000000     679.526775       4.0    2016.0     482.000000   \n",
       "max         2.000000    4509.316000       4.0    2016.0    3053.000000   \n",
       "\n",
       "              PUFRPL      PUFHHSIZE     PUFC01_LNO     PUFC03_REL  \\\n",
       "count  180862.000000  180862.000000  180862.000000  180862.000000   \n",
       "mean        2.490379       5.504783       3.252391       2.931489   \n",
       "std         1.118970       2.370169       2.077130       1.832299   \n",
       "min         1.000000       1.000000       1.000000       1.000000   \n",
       "25%         1.000000       4.000000       2.000000       2.000000   \n",
       "50%         2.000000       5.000000       3.000000       3.000000   \n",
       "75%         3.000000       7.000000       4.000000       3.000000   \n",
       "max         4.000000      23.000000      23.000000      11.000000   \n",
       "\n",
       "          PUFC04_SEX     PUFC05_AGE  \n",
       "count  180862.000000  180862.000000  \n",
       "mean        1.493874      27.889772  \n",
       "std         0.499964      20.052132  \n",
       "min         1.000000       0.000000  \n",
       "25%         1.000000      11.000000  \n",
       "50%         1.000000      24.000000  \n",
       "75%         2.000000      42.000000  \n",
       "max         2.000000      99.000000  "
      ]
     },
     "execution_count": 489,
     "metadata": {},
     "output_type": "execute_result"
    }
   ],
   "source": [
    "labor_df.describe()"
   ]
  },
  {
   "cell_type": "code",
   "execution_count": 490,
   "metadata": {},
   "outputs": [
    {
     "name": "stdout",
     "output_type": "stream",
     "text": [
      "<class 'pandas.core.frame.DataFrame'>\n",
      "RangeIndex: 180862 entries, 0 to 180861\n",
      "Data columns (total 50 columns):\n",
      " #   Column           Non-Null Count   Dtype  \n",
      "---  ------           --------------   -----  \n",
      " 0   PUFREG           180862 non-null  int64  \n",
      " 1   PUFPRV           180862 non-null  int64  \n",
      " 2   PUFPRRCD         180862 non-null  int64  \n",
      " 3   PUFHHNUM         180862 non-null  int64  \n",
      " 4   PUFURB2K10       180862 non-null  int64  \n",
      " 5   PUFPWGTFIN       180862 non-null  float64\n",
      " 6   PUFSVYMO         180862 non-null  int64  \n",
      " 7   PUFSVYYR         180862 non-null  int64  \n",
      " 8   PUFPSU           180862 non-null  int64  \n",
      " 9   PUFRPL           180862 non-null  int64  \n",
      " 10  PUFHHSIZE        180862 non-null  int64  \n",
      " 11  PUFC01_LNO       180862 non-null  int64  \n",
      " 12  PUFC03_REL       180862 non-null  int64  \n",
      " 13  PUFC04_SEX       180862 non-null  int64  \n",
      " 14  PUFC05_AGE       180862 non-null  int64  \n",
      " 15  PUFC06_MSTAT     180862 non-null  object \n",
      " 16  PUFC07_GRADE     180862 non-null  object \n",
      " 17  PUFC08_CURSCH    180862 non-null  object \n",
      " 18  PUFC09_GRADTECH  180862 non-null  object \n",
      " 19  PUFC10_CONWR     180862 non-null  object \n",
      " 20  PUFC11_WORK      180862 non-null  object \n",
      " 21  PUFC12_JOB       180862 non-null  object \n",
      " 22  PUFC14_PROCC     180862 non-null  object \n",
      " 23  PUFC16_PKB       180862 non-null  object \n",
      " 24  PUFC17_NATEM     180862 non-null  object \n",
      " 25  PUFC18_PNWHRS    180862 non-null  object \n",
      " 26  PUFC19_PHOURS    180862 non-null  object \n",
      " 27  PUFC20_PWMORE    180862 non-null  object \n",
      " 28  PUFC21_PLADDW    180862 non-null  object \n",
      " 29  PUFC22_PFWRK     180862 non-null  object \n",
      " 30  PUFC23_PCLASS    180862 non-null  object \n",
      " 31  PUFC24_PBASIS    180862 non-null  object \n",
      " 32  PUFC25_PBASIC    180862 non-null  object \n",
      " 33  PUFC26_OJOB      180862 non-null  object \n",
      " 34  PUFC27_NJOBS     180862 non-null  object \n",
      " 35  PUFC28_THOURS    180862 non-null  object \n",
      " 36  PUFC29_WWM48H    180862 non-null  object \n",
      " 37  PUFC30_LOOKW     180862 non-null  object \n",
      " 38  PUFC31_FLWRK     180862 non-null  object \n",
      " 39  PUFC32_JOBSM     180862 non-null  object \n",
      " 40  PUFC33_WEEKS     180862 non-null  object \n",
      " 41  PUFC34_WYNOT     180862 non-null  object \n",
      " 42  PUFC35_LTLOOKW   180862 non-null  object \n",
      " 43  PUFC36_AVAIL     180862 non-null  object \n",
      " 44  PUFC37_WILLING   180862 non-null  object \n",
      " 45  PUFC38_PREVJOB   180862 non-null  object \n",
      " 46  PUFC40_POCC      180862 non-null  object \n",
      " 47  PUFC41_WQTR      180862 non-null  object \n",
      " 48  PUFC43_QKB       180862 non-null  object \n",
      " 49  PUFNEWEMPSTAT    180862 non-null  object \n",
      "dtypes: float64(1), int64(14), object(35)\n",
      "memory usage: 69.0+ MB\n"
     ]
    }
   ],
   "source": [
    "labor_df.info()"
   ]
  },
  {
   "cell_type": "markdown",
   "metadata": {},
   "source": [
    "Now that we are able to manually observe the dataset, we can now move on to querying for data inconsistencies"
   ]
  },
  {
   "cell_type": "markdown",
   "metadata": {},
   "source": [
    "#### Inconsistencies Overview"
   ]
  },
  {
   "cell_type": "markdown",
   "metadata": {},
   "source": [
    "Before we continue, let's first convert object to category type.\n"
   ]
  },
  {
   "cell_type": "code",
   "execution_count": 491,
   "metadata": {},
   "outputs": [],
   "source": [
    "# for col in labor_df.select_dtypes(include=['object']).columns:\n",
    "#     labor_df[col] = labor_df[col].astype('category')"
   ]
  },
  {
   "cell_type": "code",
   "execution_count": 492,
   "metadata": {},
   "outputs": [
    {
     "name": "stdout",
     "output_type": "stream",
     "text": [
      "                 Missing Values  Percentage\n",
      "PUFC06_MSTAT              18339   10.139775\n",
      "PUFC08_CURSCH            107137   59.236877\n",
      "PUFC09_GRADTECH           57782   31.948115\n",
      "PUFC10_CONWR              57782   31.948115\n",
      "PUFC11_WORK               21894   12.105362\n",
      "PUFC12_JOB                93306   51.589610\n",
      "PUFC17_NATEM             109507   60.547268\n",
      "PUFC20_PWMORE            109507   60.547268\n",
      "PUFC21_PLADDW            109507   60.547268\n",
      "PUFC22_PFWRK             109507   60.547268\n",
      "PUFC23_PCLASS            109507   60.547268\n",
      "PUFC24_PBASIS            138947   76.824872\n",
      "PUFC26_OJOB              109507   60.547268\n",
      "PUFC27_NJOBS             174924   96.716834\n",
      "PUFC29_WWM48H            163629   90.471741\n",
      "PUFC30_LOOKW             132692   73.366434\n",
      "PUFC31_FLWRK             178569   98.732183\n",
      "PUFC32_JOBSM             178569   98.732183\n",
      "PUFC34_WYNOT             134985   74.634252\n",
      "PUFC35_LTLOOKW           179269   99.119218\n",
      "PUFC36_AVAIL             174893   96.699694\n",
      "PUFC37_WILLING           174893   96.699694\n",
      "PUFC38_PREVJOB           132692   73.366434\n",
      "PUFC41_WQTR               81627   45.132200\n",
      "PUFNEWEMPSTAT             61337   33.913702\n"
     ]
    }
   ],
   "source": [
    "labor_df.replace(\" \", np.nan, inplace=True)\n",
    "\n",
    "missing_data = labor_df.isnull().sum()\n",
    "missing_percentage = (missing_data / len(labor_df)) * 100\n",
    "\n",
    "missing_df = pd.DataFrame({'Missing Values': missing_data, 'Percentage': missing_percentage})\n",
    "missing_df = missing_df[missing_df['Missing Values'] > 0]\n",
    "\n",
    "print(missing_df)"
   ]
  },
  {
   "cell_type": "markdown",
   "metadata": {},
   "source": [
    "First, we look if there are any missing values in case we need to impute or remove. Here we can see that there is a lot of missing data from specific features. But how do we choose which to impute and which to remove. By looking at the percentages, and considering which features are of importance we can start removing data with missing values greater or equal to 40%. But for those with data missing less than 40%, we can opt to impute."
   ]
  },
  {
   "cell_type": "code",
   "execution_count": 493,
   "metadata": {},
   "outputs": [],
   "source": [
    "columns_to_drop = [\n",
    "    'PUFC08_CURSCH', 'PUFC12_JOB', 'PUFC17_NATEM', 'PUFC20_PWMORE', 'PUFC21_PLADDW',\n",
    "    'PUFC22_PFWRK', 'PUFC23_PCLASS', 'PUFC24_PBASIS', 'PUFC26_OJOB', 'PUFC27_NJOBS',\n",
    "    'PUFC29_WWM48H', 'PUFC30_LOOKW', 'PUFC31_FLWRK', 'PUFC32_JOBSM', 'PUFC34_WYNOT',\n",
    "    'PUFC35_LTLOOKW', 'PUFC36_AVAIL', 'PUFC37_WILLING', 'PUFC38_PREVJOB', 'PUFC41_WQTR'\n",
    "]\n",
    "\n",
    "labor_df.drop(columns=columns_to_drop, inplace=True)"
   ]
  },
  {
   "cell_type": "code",
   "execution_count": 494,
   "metadata": {},
   "outputs": [],
   "source": [
    "categorical_cols_to_impute = ['PUFC06_MSTAT', 'PUFC09_GRADTECH', 'PUFC10_CONWR', 'PUFC11_WORK', 'PUFNEWEMPSTAT']\n",
    "\n",
    "for col in categorical_cols_to_impute:\n",
    "    labor_df.loc[:, col] = labor_df[col].fillna(labor_df[col].mode()[0])"
   ]
  },
  {
   "cell_type": "markdown",
   "metadata": {},
   "source": [
    "Now we will fix datatypes of some important features that we will be using "
   ]
  },
  {
   "cell_type": "markdown",
   "metadata": {},
   "source": [
    "Based on https://elibrary.judiciary.gov.ph/thebookshelf/showdocs/10/74561, it is said that any people under the age of 15 are not allowed to work/part time. So we plan to remove all ages under 15 in the dataset."
   ]
  },
  {
   "cell_type": "code",
   "execution_count": 495,
   "metadata": {},
   "outputs": [],
   "source": [
    "labor_df = labor_df[labor_df['PUFC05_AGE'] >= 15]"
   ]
  },
  {
   "cell_type": "markdown",
   "metadata": {},
   "source": [
    "Basic income will be our target for models, there are a lot of whitespaces/empty string and it is not in the correct datatype."
   ]
  },
  {
   "cell_type": "code",
   "execution_count": 496,
   "metadata": {},
   "outputs": [],
   "source": [
    "# contains many whitespaces as null values\n",
    "\n",
    "labor_df['PUFC25_PBASIC'] = labor_df['PUFC25_PBASIC'].astype(str).replace('     ','')\n",
    "\n",
    "# remove rows where user is employed but no pay (38322 rows)\n",
    "labor_df = labor_df[~ ((labor_df['PUFNEWEMPSTAT'] == '1') & (labor_df['PUFC25_PBASIC'] == '')) ]\n",
    "\n",
    "# # default value of 0\n",
    "labor_df['PUFC25_PBASIC'] = labor_df['PUFC25_PBASIC'].replace('', '0').astype(int)\n",
    "assert (labor_df.shape[0] == (123080 - 38322))"
   ]
  },
  {
   "cell_type": "code",
   "execution_count": 497,
   "metadata": {},
   "outputs": [
    {
     "name": "stdout",
     "output_type": "stream",
     "text": [
      "Remaining Missing Values After Cleaning:\n",
      "Series([], dtype: int64)\n"
     ]
    }
   ],
   "source": [
    "missing_values = labor_df.isnull().sum()  # Compute once\n",
    "missing_values = missing_values[missing_values > 0]  # Filter only missing columns\n",
    "\n",
    "print(\"Remaining Missing Values After Cleaning:\")\n",
    "print(missing_values)\n"
   ]
  },
  {
   "cell_type": "markdown",
   "metadata": {},
   "source": [
    "After dropping features and imputing for some, there are no more missing data. We can now proceed for checking if there are any duplicated data. For this dataset, there should be little concern over duplicated data unless there are records of the same person from the same household, which can be seen as such below."
   ]
  },
  {
   "cell_type": "code",
   "execution_count": 498,
   "metadata": {},
   "outputs": [
    {
     "name": "stdout",
     "output_type": "stream",
     "text": [
      "Number of duplicate individual records in the same household: 0\n"
     ]
    }
   ],
   "source": [
    "duplicate_household_members = labor_df.duplicated(subset=['PUFHHNUM', 'PUFC01_LNO'], keep=False)\n",
    "\n",
    "print(\"Number of duplicate individual records in the same household:\", duplicate_household_members.sum())"
   ]
  },
  {
   "cell_type": "markdown",
   "metadata": {},
   "source": [
    "Finally, now that we've dropped and imputed the missing data we can now deal with outliers."
   ]
  },
  {
   "cell_type": "code",
   "execution_count": 499,
   "metadata": {},
   "outputs": [
    {
     "name": "stdout",
     "output_type": "stream",
     "text": [
      "Skewness: \n",
      "PUFREG           -0.146002\n",
      "PUFPRV           -0.156649\n",
      "PUFPRRCD         -0.157409\n",
      "PUFHHNUM         -0.028835\n",
      "PUFURB2K10       -0.024260\n",
      "PUFPWGTFIN        1.976632\n",
      "PUFSVYMO          0.000000\n",
      "PUFSVYYR          0.000000\n",
      "PUFPSU            2.329415\n",
      "PUFRPL            0.008026\n",
      "PUFHHSIZE         0.932853\n",
      "PUFC01_LNO        1.615803\n",
      "PUFC03_REL        1.915582\n",
      "PUFC04_SEX       -0.166508\n",
      "PUFC05_AGE        0.913579\n",
      "PUFC25_PBASIC    40.782024\n",
      "dtype: float64\n"
     ]
    }
   ],
   "source": [
    "print(\"Skewness: \")\n",
    "numeric_labor_df = labor_df.select_dtypes(include=np.number)\n",
    "print(numeric_labor_df.skew())"
   ]
  },
  {
   "cell_type": "code",
   "execution_count": 500,
   "metadata": {},
   "outputs": [
    {
     "name": "stdout",
     "output_type": "stream",
     "text": [
      "PUFPWGTFIN    0.264673\n",
      "PUFPSU       -0.647807\n",
      "PUFC03_REL    0.661569\n",
      "dtype: float64\n"
     ]
    }
   ],
   "source": [
    "log_transform_cols = ['PUFPWGTFIN', 'PUFPSU', 'PUFC03_REL']\n",
    "for col in log_transform_cols:\n",
    "    labor_df[col] = np.log1p(labor_df[col])\n",
    "\n",
    "print(labor_df[log_transform_cols].skew())"
   ]
  },
  {
   "cell_type": "markdown",
   "metadata": {},
   "source": [
    "# Exploratory Data Analysis\n"
   ]
  },
  {
   "cell_type": "markdown",
   "metadata": {},
   "source": [
    "First, let us view the columns that are left after the Data Cleaning and Processing."
   ]
  },
  {
   "cell_type": "code",
   "execution_count": 501,
   "metadata": {},
   "outputs": [
    {
     "name": "stdout",
     "output_type": "stream",
     "text": [
      "<class 'pandas.core.frame.DataFrame'>\n",
      "Index: 84758 entries, 2 to 180858\n",
      "Data columns (total 30 columns):\n",
      " #   Column           Non-Null Count  Dtype  \n",
      "---  ------           --------------  -----  \n",
      " 0   PUFREG           84758 non-null  int64  \n",
      " 1   PUFPRV           84758 non-null  int64  \n",
      " 2   PUFPRRCD         84758 non-null  int64  \n",
      " 3   PUFHHNUM         84758 non-null  int64  \n",
      " 4   PUFURB2K10       84758 non-null  int64  \n",
      " 5   PUFPWGTFIN       84758 non-null  float64\n",
      " 6   PUFSVYMO         84758 non-null  int64  \n",
      " 7   PUFSVYYR         84758 non-null  int64  \n",
      " 8   PUFPSU           84758 non-null  float64\n",
      " 9   PUFRPL           84758 non-null  int64  \n",
      " 10  PUFHHSIZE        84758 non-null  int64  \n",
      " 11  PUFC01_LNO       84758 non-null  int64  \n",
      " 12  PUFC03_REL       84758 non-null  float64\n",
      " 13  PUFC04_SEX       84758 non-null  int64  \n",
      " 14  PUFC05_AGE       84758 non-null  int64  \n",
      " 15  PUFC06_MSTAT     84758 non-null  object \n",
      " 16  PUFC07_GRADE     84758 non-null  object \n",
      " 17  PUFC09_GRADTECH  84758 non-null  object \n",
      " 18  PUFC10_CONWR     84758 non-null  object \n",
      " 19  PUFC11_WORK      84758 non-null  object \n",
      " 20  PUFC14_PROCC     84758 non-null  object \n",
      " 21  PUFC16_PKB       84758 non-null  object \n",
      " 22  PUFC18_PNWHRS    84758 non-null  object \n",
      " 23  PUFC19_PHOURS    84758 non-null  object \n",
      " 24  PUFC25_PBASIC    84758 non-null  int32  \n",
      " 25  PUFC28_THOURS    84758 non-null  object \n",
      " 26  PUFC33_WEEKS     84758 non-null  object \n",
      " 27  PUFC40_POCC      84758 non-null  object \n",
      " 28  PUFC43_QKB       84758 non-null  object \n",
      " 29  PUFNEWEMPSTAT    84758 non-null  object \n",
      "dtypes: float64(3), int32(1), int64(12), object(14)\n",
      "memory usage: 19.7+ MB\n"
     ]
    }
   ],
   "source": [
    "labor_df.info()"
   ]
  },
  {
   "cell_type": "markdown",
   "metadata": {},
   "source": [
    "1. For the first one, let us see the Age Distribution of the Dataset. "
   ]
  },
  {
   "cell_type": "code",
   "execution_count": 502,
   "metadata": {},
   "outputs": [
    {
     "data": {
      "image/png": "[encoded data removed]",
      "text/plain": [
       "<Figure size 800x500 with 1 Axes>"
      ]
     },
     "metadata": {},
     "output_type": "display_data"
    }
   ],
   "source": [
    "plt.figure(figsize=(8, 5))\n",
    "sns.histplot(labor_df['PUFC05_AGE'], bins=30, kde=True, color='blue')\n",
    "plt.title(\"Age Distribution in Dataset\")\n",
    "plt.xlabel(\"Age\")\n",
    "plt.ylabel(\"Count\")\n",
    "plt.show()"
   ]
  },
  {
   "cell_type": "markdown",
   "metadata": {},
   "source": [
    "2. Age VS Martial Status"
   ]
  },
  {
   "cell_type": "code",
   "execution_count": 503,
   "metadata": {},
   "outputs": [
    {
     "data": {
      "text/plain": [
       "array(['1', '2', '3', '4', '6', '5'], dtype=object)"
      ]
     },
     "execution_count": 503,
     "metadata": {},
     "output_type": "execute_result"
    }
   ],
   "source": [
    "labor_df['PUFC06_MSTAT'].unique()"
   ]
  },
  {
   "cell_type": "markdown",
   "metadata": {},
   "source": [
    "Here we see that the categories are 1-6. Which based on the metadata 1 is to Single and so on and so forth. Which is included in the map below and changed for better visualization for our boxplot."
   ]
  },
  {
   "cell_type": "code",
   "execution_count": 504,
   "metadata": {},
   "outputs": [],
   "source": [
    "marital_status_map = {\n",
    "    \"1\": \"Single\",\n",
    "    \"2\": \"Married\",\n",
    "    \"3\": \"Widowed\",\n",
    "    \"4\": \"Divorced\",\n",
    "    \"5\": \"Annuled\",\n",
    "    \"6\": \"Unknown\"\n",
    "}\n",
    "\n",
    "labor_df['PUFC06_MSTAT'] = labor_df['PUFC06_MSTAT'].map(marital_status_map)"
   ]
  },
  {
   "cell_type": "code",
   "execution_count": 505,
   "metadata": {},
   "outputs": [
    {
     "data": {
      "text/plain": [
       "array(['Single', 'Married', 'Widowed', 'Divorced', 'Unknown', 'Annuled'],\n",
       "      dtype=object)"
      ]
     },
     "execution_count": 505,
     "metadata": {},
     "output_type": "execute_result"
    }
   ],
   "source": [
    "labor_df['PUFC06_MSTAT'].unique()"
   ]
  },
  {
   "cell_type": "markdown",
   "metadata": {},
   "source": [
    "As we can see here, it has been changed. we will now do a boxplot for Age and Martial Status."
   ]
  },
  {
   "cell_type": "code",
   "execution_count": 506,
   "metadata": {},
   "outputs": [
    {
     "data": {
      "image/png": "[encoded data removed]",
      "text/plain": [
       "<Figure size 1200x600 with 1 Axes>"
      ]
     },
     "metadata": {},
     "output_type": "display_data"
    }
   ],
   "source": [
    "plt.figure(figsize=(12, 6))\n",
    "sns.boxplot(x='PUFC06_MSTAT', y='PUFC05_AGE', data=labor_df)\n",
    "plt.title(\"Age Distribution by Marital Status\")\n",
    "plt.xlabel(\"Marital Status\")\n",
    "plt.ylabel(\"Age\")\n",
    "plt.show()\n"
   ]
  },
  {
   "cell_type": "markdown",
   "metadata": {},
   "source": [
    "3. Here lets take a look at the Gender Breakdown and their Employment Status"
   ]
  },
  {
   "cell_type": "markdown",
   "metadata": {},
   "source": [
    "Here it is similar to the previous EDA, let us start by mapping it to make it more visually appealing."
   ]
  },
  {
   "cell_type": "code",
   "execution_count": 507,
   "metadata": {},
   "outputs": [
    {
     "data": {
      "text/plain": [
       "array(['1', '3', '2'], dtype=object)"
      ]
     },
     "execution_count": 507,
     "metadata": {},
     "output_type": "execute_result"
    }
   ],
   "source": [
    "labor_df['PUFNEWEMPSTAT'].unique()"
   ]
  },
  {
   "cell_type": "code",
   "execution_count": 508,
   "metadata": {},
   "outputs": [
    {
     "data": {
      "text/plain": [
       "array([1, 2], dtype=int64)"
      ]
     },
     "execution_count": 508,
     "metadata": {},
     "output_type": "execute_result"
    }
   ],
   "source": [
    "labor_df['PUFC04_SEX'].unique() "
   ]
  },
  {
   "cell_type": "code",
   "execution_count": 509,
   "metadata": {},
   "outputs": [],
   "source": [
    "gender = {\n",
    "    1: \"Male\",\n",
    "    2: \"Female\",\n",
    "}\n",
    "employment_status = {\n",
    "    \"1\": \"Employed\",\n",
    "    \"2\": \"Unemployed\",\n",
    "    \"3\": \"Not in the labor force\",\n",
    "}\n",
    "labor_df['PUFC04_SEX'] = labor_df['PUFC04_SEX'].map(gender)\n",
    "labor_df['PUFNEWEMPSTAT'] = labor_df['PUFNEWEMPSTAT'].map(employment_status)"
   ]
  },
  {
   "cell_type": "code",
   "execution_count": 510,
   "metadata": {},
   "outputs": [
    {
     "data": {
      "text/plain": [
       "array(['Male', 'Female'], dtype=object)"
      ]
     },
     "execution_count": 510,
     "metadata": {},
     "output_type": "execute_result"
    }
   ],
   "source": [
    "labor_df['PUFC04_SEX'].unique() \n"
   ]
  },
  {
   "cell_type": "markdown",
   "metadata": {},
   "source": [
    "After we are done with mapping them, we show a countplot with employment status by gender"
   ]
  },
  {
   "cell_type": "code",
   "execution_count": 511,
   "metadata": {},
   "outputs": [
    {
     "data": {
      "image/png": "[encoded data removed]",
      "text/plain": [
       "<Figure size 800x500 with 1 Axes>"
      ]
     },
     "metadata": {},
     "output_type": "display_data"
    }
   ],
   "source": [
    "plt.figure(figsize=(8, 5))\n",
    "sns.countplot(x='PUFNEWEMPSTAT', hue='PUFC04_SEX', data=labor_df)\n",
    "plt.title(\"Employment Status by Gender\")\n",
    "plt.xlabel(\"Employment Status\")\n",
    "plt.ylabel(\"Count\")\n",
    "plt.show()"
   ]
  },
  {
   "cell_type": "markdown",
   "metadata": {},
   "source": [
    "4. Income Distribution by Gender"
   ]
  },
  {
   "cell_type": "code",
   "execution_count": 512,
   "metadata": {},
   "outputs": [
    {
     "data": {
      "text/plain": [
       "array([ 250,  115,  200, ...,  728, 1573,  922])"
      ]
     },
     "execution_count": 512,
     "metadata": {},
     "output_type": "execute_result"
    }
   ],
   "source": [
    "labor_df['PUFC25_PBASIC'].unique()"
   ]
  },
  {
   "cell_type": "code",
   "execution_count": 513,
   "metadata": {},
   "outputs": [
    {
     "data": {
      "image/png": "[encoded data removed]",
      "text/plain": [
       "<Figure size 800x500 with 1 Axes>"
      ]
     },
     "metadata": {},
     "output_type": "display_data"
    }
   ],
   "source": [
    "plt.figure(figsize=(8, 5))\n",
    "sns.boxplot(x='PUFC04_SEX', y='PUFC25_PBASIC', data=labor_df)\n",
    "plt.title(\"Income Distribution by Gender\")\n",
    "plt.xlabel(\"Gender\")\n",
    "plt.ylabel(\"Basic Pay\")\n",
    "plt.show()"
   ]
  },
  {
   "cell_type": "markdown",
   "metadata": {},
   "source": [
    "# Initial model training\n"
   ]
  },
  {
   "cell_type": "code",
   "execution_count": 514,
   "metadata": {},
   "outputs": [
    {
     "data": {
      "text/plain": [
       "PUFREG               int64\n",
       "PUFPRV               int64\n",
       "PUFPRRCD             int64\n",
       "PUFHHNUM             int64\n",
       "PUFURB2K10           int64\n",
       "PUFPWGTFIN         float64\n",
       "PUFSVYMO             int64\n",
       "PUFSVYYR             int64\n",
       "PUFPSU             float64\n",
       "PUFRPL               int64\n",
       "PUFHHSIZE            int64\n",
       "PUFC01_LNO           int64\n",
       "PUFC03_REL         float64\n",
       "PUFC04_SEX          object\n",
       "PUFC05_AGE           int64\n",
       "PUFC06_MSTAT        object\n",
       "PUFC07_GRADE        object\n",
       "PUFC09_GRADTECH     object\n",
       "PUFC10_CONWR        object\n",
       "PUFC11_WORK         object\n",
       "PUFC14_PROCC        object\n",
       "PUFC16_PKB          object\n",
       "PUFC18_PNWHRS       object\n",
       "PUFC19_PHOURS       object\n",
       "PUFC25_PBASIC        int32\n",
       "PUFC28_THOURS       object\n",
       "PUFC33_WEEKS        object\n",
       "PUFC40_POCC         object\n",
       "PUFC43_QKB          object\n",
       "PUFNEWEMPSTAT       object\n",
       "dtype: object"
      ]
     },
     "execution_count": 514,
     "metadata": {},
     "output_type": "execute_result"
    }
   ],
   "source": [
    "labor_df.dtypes"
   ]
  },
  {
   "cell_type": "code",
   "execution_count": 515,
   "metadata": {},
   "outputs": [
    {
     "data": {
      "image/png": "[encoded data removed]",
      "text/plain": [
       "<Figure size 1000x800 with 2 Axes>"
      ]
     },
     "metadata": {},
     "output_type": "display_data"
    }
   ],
   "source": [
    "import seaborn as sns\n",
    "import matplotlib.pyplot as plt\n",
    "import pandas as pd\n",
    "\n",
    "# Compute correlation matrix\n",
    "corr_matrix = labor_df[['PUFREG','PUFPRV','PUFPRRCD','PUFHHNUM','PUFURB2K10','PUFPWGTFIN','PUFRPL','PUFHHSIZE','PUFC01_LNO','PUFC03_REL','PUFC05_AGE','PUFC25_PBASIC']].corr()\n",
    "\n",
    "# Plot heatmap\n",
    "plt.figure(figsize=(10, 8))\n",
    "sns.heatmap(corr_matrix, annot=True, cmap='coolwarm', fmt='.2f')\n",
    "plt.show()\n"
   ]
  },
  {
   "cell_type": "markdown",
   "metadata": {},
   "source": [
    "| Correlation  | Feature 1     | Feature 2     |\n",
    "|-------------|--------------|--------------|\n",
    "| 0.999995    | PUFPRV       | PUFPRRCD     |\n",
    "| 0.994715    | PUFHHNUM     | PUFREG       |\n",
    "| 0.728336    | PUFC01_LNO   | PUFC03_REL   |\n",
    "| 0.535723    | PUFHHSIZE    | PUFC01_LNO   |\n",
    "| -0.377008   | PUFC05_AGE   | PUFC01_LNO   |\n",
    "| -0.361713   | PUFPWGTFIN   | PUFHHNUM     |\n",
    "\n",
    "\n",
    "Checking each variable one by one, we see that these aren't real correlation or at least won't be used in modelling. Some of these variables are identification like `PUFPRV, PUFPRRCD, PUFHHNUM, PUFC01_LNO, PUFC03_REL,` which is ordinal data "
   ]
  },
  {
   "cell_type": "code",
   "execution_count": 524,
   "metadata": {},
   "outputs": [],
   "source": [
    "scaler = StandardScaler()\n",
    "normalize_labor_df = labor_df.copy()\n",
    "\n",
    "cols = labor_df.select_dtypes(include=['float64', 'int64', 'int']).columns\n",
    "\n",
    "normalize_labor_df[cols] = labor_df[cols]\n",
    "# normalize_labor_df[cols] = scaler.fit_transform(labor_df[cols])\n",
    "normalize_labor_df = normalize_labor_df[normalize_labor_df['PUFC25_PBASIC']<40000]\n",
    "# normalize_labor_df = normalize_labor_df[(np.abs(normalize_labor_df[cols]) <= 3).all(axis=1)]"
   ]
  },
  {
   "cell_type": "code",
   "execution_count": 525,
   "metadata": {},
   "outputs": [
    {
     "data": {
      "text/html": [
       "<div>\n",
       "<style scoped>\n",
       "    .dataframe tbody tr th:only-of-type {\n",
       "        vertical-align: middle;\n",
       "    }\n",
       "\n",
       "    .dataframe tbody tr th {\n",
       "        vertical-align: top;\n",
       "    }\n",
       "\n",
       "    .dataframe thead th {\n",
       "        text-align: right;\n",
       "    }\n",
       "</style>\n",
       "<table border=\"1\" class=\"dataframe\">\n",
       "  <thead>\n",
       "    <tr style=\"text-align: right;\">\n",
       "      <th></th>\n",
       "      <th>PUFREG</th>\n",
       "      <th>PUFPRV</th>\n",
       "      <th>PUFPRRCD</th>\n",
       "      <th>PUFHHNUM</th>\n",
       "      <th>PUFURB2K10</th>\n",
       "      <th>PUFPWGTFIN</th>\n",
       "      <th>PUFSVYMO</th>\n",
       "      <th>PUFSVYYR</th>\n",
       "      <th>PUFPSU</th>\n",
       "      <th>PUFRPL</th>\n",
       "      <th>...</th>\n",
       "      <th>PUFC14_PROCC</th>\n",
       "      <th>PUFC16_PKB</th>\n",
       "      <th>PUFC18_PNWHRS</th>\n",
       "      <th>PUFC19_PHOURS</th>\n",
       "      <th>PUFC25_PBASIC</th>\n",
       "      <th>PUFC28_THOURS</th>\n",
       "      <th>PUFC33_WEEKS</th>\n",
       "      <th>PUFC40_POCC</th>\n",
       "      <th>PUFC43_QKB</th>\n",
       "      <th>PUFNEWEMPSTAT</th>\n",
       "    </tr>\n",
       "  </thead>\n",
       "  <tbody>\n",
       "    <tr>\n",
       "      <th>2</th>\n",
       "      <td>1</td>\n",
       "      <td>28</td>\n",
       "      <td>2800</td>\n",
       "      <td>1</td>\n",
       "      <td>2</td>\n",
       "      <td>6.009107</td>\n",
       "      <td>4</td>\n",
       "      <td>2016</td>\n",
       "      <td>5.384495</td>\n",
       "      <td>1</td>\n",
       "      <td>...</td>\n",
       "      <td>92</td>\n",
       "      <td>01</td>\n",
       "      <td>08</td>\n",
       "      <td>024</td>\n",
       "      <td>250</td>\n",
       "      <td>034</td>\n",
       "      <td></td>\n",
       "      <td></td>\n",
       "      <td>01</td>\n",
       "      <td>Employed</td>\n",
       "    </tr>\n",
       "    <tr>\n",
       "      <th>4</th>\n",
       "      <td>1</td>\n",
       "      <td>28</td>\n",
       "      <td>2800</td>\n",
       "      <td>2</td>\n",
       "      <td>2</td>\n",
       "      <td>5.954167</td>\n",
       "      <td>4</td>\n",
       "      <td>2016</td>\n",
       "      <td>5.384495</td>\n",
       "      <td>1</td>\n",
       "      <td>...</td>\n",
       "      <td>91</td>\n",
       "      <td>96</td>\n",
       "      <td>12</td>\n",
       "      <td>072</td>\n",
       "      <td>115</td>\n",
       "      <td>072</td>\n",
       "      <td></td>\n",
       "      <td></td>\n",
       "      <td>96</td>\n",
       "      <td>Employed</td>\n",
       "    </tr>\n",
       "    <tr>\n",
       "      <th>5</th>\n",
       "      <td>1</td>\n",
       "      <td>28</td>\n",
       "      <td>2800</td>\n",
       "      <td>2</td>\n",
       "      <td>2</td>\n",
       "      <td>6.009107</td>\n",
       "      <td>4</td>\n",
       "      <td>2016</td>\n",
       "      <td>5.384495</td>\n",
       "      <td>1</td>\n",
       "      <td>...</td>\n",
       "      <td>52</td>\n",
       "      <td>47</td>\n",
       "      <td>08</td>\n",
       "      <td>048</td>\n",
       "      <td>200</td>\n",
       "      <td>048</td>\n",
       "      <td></td>\n",
       "      <td></td>\n",
       "      <td>01</td>\n",
       "      <td>Employed</td>\n",
       "    </tr>\n",
       "    <tr>\n",
       "      <th>6</th>\n",
       "      <td>1</td>\n",
       "      <td>28</td>\n",
       "      <td>2800</td>\n",
       "      <td>2</td>\n",
       "      <td>2</td>\n",
       "      <td>5.921399</td>\n",
       "      <td>4</td>\n",
       "      <td>2016</td>\n",
       "      <td>5.384495</td>\n",
       "      <td>1</td>\n",
       "      <td>...</td>\n",
       "      <td></td>\n",
       "      <td></td>\n",
       "      <td></td>\n",
       "      <td></td>\n",
       "      <td>0</td>\n",
       "      <td></td>\n",
       "      <td></td>\n",
       "      <td></td>\n",
       "      <td></td>\n",
       "      <td>Not in the labor force</td>\n",
       "    </tr>\n",
       "    <tr>\n",
       "      <th>12</th>\n",
       "      <td>1</td>\n",
       "      <td>28</td>\n",
       "      <td>2800</td>\n",
       "      <td>4</td>\n",
       "      <td>2</td>\n",
       "      <td>5.928624</td>\n",
       "      <td>4</td>\n",
       "      <td>2016</td>\n",
       "      <td>5.384495</td>\n",
       "      <td>1</td>\n",
       "      <td>...</td>\n",
       "      <td></td>\n",
       "      <td></td>\n",
       "      <td></td>\n",
       "      <td></td>\n",
       "      <td>0</td>\n",
       "      <td></td>\n",
       "      <td></td>\n",
       "      <td>52</td>\n",
       "      <td></td>\n",
       "      <td>Not in the labor force</td>\n",
       "    </tr>\n",
       "    <tr>\n",
       "      <th>...</th>\n",
       "      <td>...</td>\n",
       "      <td>...</td>\n",
       "      <td>...</td>\n",
       "      <td>...</td>\n",
       "      <td>...</td>\n",
       "      <td>...</td>\n",
       "      <td>...</td>\n",
       "      <td>...</td>\n",
       "      <td>...</td>\n",
       "      <td>...</td>\n",
       "      <td>...</td>\n",
       "      <td>...</td>\n",
       "      <td>...</td>\n",
       "      <td>...</td>\n",
       "      <td>...</td>\n",
       "      <td>...</td>\n",
       "      <td>...</td>\n",
       "      <td>...</td>\n",
       "      <td>...</td>\n",
       "      <td>...</td>\n",
       "      <td>...</td>\n",
       "    </tr>\n",
       "    <tr>\n",
       "      <th>180845</th>\n",
       "      <td>17</td>\n",
       "      <td>59</td>\n",
       "      <td>5900</td>\n",
       "      <td>40878</td>\n",
       "      <td>2</td>\n",
       "      <td>5.284870</td>\n",
       "      <td>4</td>\n",
       "      <td>2016</td>\n",
       "      <td>5.556828</td>\n",
       "      <td>1</td>\n",
       "      <td>...</td>\n",
       "      <td>23</td>\n",
       "      <td>85</td>\n",
       "      <td>08</td>\n",
       "      <td>040</td>\n",
       "      <td>903</td>\n",
       "      <td>040</td>\n",
       "      <td></td>\n",
       "      <td></td>\n",
       "      <td>85</td>\n",
       "      <td>Employed</td>\n",
       "    </tr>\n",
       "    <tr>\n",
       "      <th>180846</th>\n",
       "      <td>17</td>\n",
       "      <td>59</td>\n",
       "      <td>5900</td>\n",
       "      <td>40878</td>\n",
       "      <td>2</td>\n",
       "      <td>5.251689</td>\n",
       "      <td>4</td>\n",
       "      <td>2016</td>\n",
       "      <td>5.556828</td>\n",
       "      <td>1</td>\n",
       "      <td>...</td>\n",
       "      <td></td>\n",
       "      <td></td>\n",
       "      <td></td>\n",
       "      <td></td>\n",
       "      <td>0</td>\n",
       "      <td></td>\n",
       "      <td></td>\n",
       "      <td></td>\n",
       "      <td></td>\n",
       "      <td>Not in the labor force</td>\n",
       "    </tr>\n",
       "    <tr>\n",
       "      <th>180847</th>\n",
       "      <td>17</td>\n",
       "      <td>59</td>\n",
       "      <td>5900</td>\n",
       "      <td>40878</td>\n",
       "      <td>2</td>\n",
       "      <td>5.251689</td>\n",
       "      <td>4</td>\n",
       "      <td>2016</td>\n",
       "      <td>5.556828</td>\n",
       "      <td>1</td>\n",
       "      <td>...</td>\n",
       "      <td>22</td>\n",
       "      <td>86</td>\n",
       "      <td>08</td>\n",
       "      <td>048</td>\n",
       "      <td>320</td>\n",
       "      <td>048</td>\n",
       "      <td></td>\n",
       "      <td></td>\n",
       "      <td>86</td>\n",
       "      <td>Employed</td>\n",
       "    </tr>\n",
       "    <tr>\n",
       "      <th>180848</th>\n",
       "      <td>17</td>\n",
       "      <td>59</td>\n",
       "      <td>5900</td>\n",
       "      <td>40878</td>\n",
       "      <td>2</td>\n",
       "      <td>5.482446</td>\n",
       "      <td>4</td>\n",
       "      <td>2016</td>\n",
       "      <td>5.556828</td>\n",
       "      <td>1</td>\n",
       "      <td>...</td>\n",
       "      <td>33</td>\n",
       "      <td>85</td>\n",
       "      <td>08</td>\n",
       "      <td>045</td>\n",
       "      <td>520</td>\n",
       "      <td>045</td>\n",
       "      <td></td>\n",
       "      <td></td>\n",
       "      <td>85</td>\n",
       "      <td>Employed</td>\n",
       "    </tr>\n",
       "    <tr>\n",
       "      <th>180858</th>\n",
       "      <td>17</td>\n",
       "      <td>59</td>\n",
       "      <td>5900</td>\n",
       "      <td>40880</td>\n",
       "      <td>2</td>\n",
       "      <td>5.251689</td>\n",
       "      <td>4</td>\n",
       "      <td>2016</td>\n",
       "      <td>5.556828</td>\n",
       "      <td>1</td>\n",
       "      <td>...</td>\n",
       "      <td></td>\n",
       "      <td></td>\n",
       "      <td></td>\n",
       "      <td></td>\n",
       "      <td>0</td>\n",
       "      <td></td>\n",
       "      <td></td>\n",
       "      <td></td>\n",
       "      <td></td>\n",
       "      <td>Not in the labor force</td>\n",
       "    </tr>\n",
       "  </tbody>\n",
       "</table>\n",
       "<p>84757 rows × 30 columns</p>\n",
       "</div>"
      ],
      "text/plain": [
       "        PUFREG  PUFPRV  PUFPRRCD  PUFHHNUM  PUFURB2K10  PUFPWGTFIN  PUFSVYMO  \\\n",
       "2            1      28      2800         1           2    6.009107         4   \n",
       "4            1      28      2800         2           2    5.954167         4   \n",
       "5            1      28      2800         2           2    6.009107         4   \n",
       "6            1      28      2800         2           2    5.921399         4   \n",
       "12           1      28      2800         4           2    5.928624         4   \n",
       "...        ...     ...       ...       ...         ...         ...       ...   \n",
       "180845      17      59      5900     40878           2    5.284870         4   \n",
       "180846      17      59      5900     40878           2    5.251689         4   \n",
       "180847      17      59      5900     40878           2    5.251689         4   \n",
       "180848      17      59      5900     40878           2    5.482446         4   \n",
       "180858      17      59      5900     40880           2    5.251689         4   \n",
       "\n",
       "        PUFSVYYR    PUFPSU  PUFRPL  ...  PUFC14_PROCC  PUFC16_PKB  \\\n",
       "2           2016  5.384495       1  ...            92          01   \n",
       "4           2016  5.384495       1  ...            91          96   \n",
       "5           2016  5.384495       1  ...            52          47   \n",
       "6           2016  5.384495       1  ...                             \n",
       "12          2016  5.384495       1  ...                             \n",
       "...          ...       ...     ...  ...           ...         ...   \n",
       "180845      2016  5.556828       1  ...            23          85   \n",
       "180846      2016  5.556828       1  ...                             \n",
       "180847      2016  5.556828       1  ...            22          86   \n",
       "180848      2016  5.556828       1  ...            33          85   \n",
       "180858      2016  5.556828       1  ...                             \n",
       "\n",
       "        PUFC18_PNWHRS PUFC19_PHOURS  PUFC25_PBASIC PUFC28_THOURS PUFC33_WEEKS  \\\n",
       "2                  08           024            250           034                \n",
       "4                  12           072            115           072                \n",
       "5                  08           048            200           048                \n",
       "6                                                0                              \n",
       "12                                               0                              \n",
       "...               ...           ...            ...           ...          ...   \n",
       "180845             08           040            903           040                \n",
       "180846                                           0                              \n",
       "180847             08           048            320           048                \n",
       "180848             08           045            520           045                \n",
       "180858                                           0                              \n",
       "\n",
       "       PUFC40_POCC PUFC43_QKB           PUFNEWEMPSTAT  \n",
       "2                          01                Employed  \n",
       "4                          96                Employed  \n",
       "5                          01                Employed  \n",
       "6                              Not in the labor force  \n",
       "12              52             Not in the labor force  \n",
       "...            ...        ...                     ...  \n",
       "180845                     85                Employed  \n",
       "180846                         Not in the labor force  \n",
       "180847                     86                Employed  \n",
       "180848                     85                Employed  \n",
       "180858                         Not in the labor force  \n",
       "\n",
       "[84757 rows x 30 columns]"
      ]
     },
     "execution_count": 525,
     "metadata": {},
     "output_type": "execute_result"
    }
   ],
   "source": [
    "normalize_labor_df"
   ]
  },
  {
   "cell_type": "code",
   "execution_count": 526,
   "metadata": {},
   "outputs": [],
   "source": [
    "# columns_to_drop =[]\n",
    "columns_to_drop = ['PUFC25_PBASIC']\n",
    "columns_to_drop += ['PUFREG', 'PUFPRV', 'PUFPRRCD', 'PUFHHNUM', 'PUFURB2K10', 'PUFPWGTFIN', ]\n",
    "\n",
    "# weird values [month,year,unit, variance est, member role]\n",
    "columns_to_drop += ['PUFSVYMO', 'PUFSVYYR', 'PUFPSU', 'PUFRPL', 'PUFC01_LNO', 'PUFC03_REL']\n",
    "# columns_to_drop += ['PUFHHSIZE', 'PUFC05_AGE']"
   ]
  },
  {
   "cell_type": "code",
   "execution_count": 527,
   "metadata": {},
   "outputs": [],
   "source": [
    "X = normalize_labor_df[cols].drop(columns=columns_to_drop)\n",
    "X = sm.add_constant(X)\n",
    "# y = normalize_labor_df['PUFC25_PBASIC']\n",
    "y = normalize_labor_df['PUFC25_PBASIC']\n"
   ]
  },
  {
   "cell_type": "code",
   "execution_count": 528,
   "metadata": {},
   "outputs": [],
   "source": [
    "model = sm.OLS(y,X).fit()"
   ]
  },
  {
   "cell_type": "code",
   "execution_count": 529,
   "metadata": {},
   "outputs": [
    {
     "data": {
      "text/html": [
       "<table class=\"simpletable\">\n",
       "<caption>OLS Regression Results</caption>\n",
       "<tr>\n",
       "  <th>Dep. Variable:</th>      <td>PUFC25_PBASIC</td>  <th>  R-squared:         </th>  <td>   0.004</td>  \n",
       "</tr>\n",
       "<tr>\n",
       "  <th>Model:</th>                   <td>OLS</td>       <th>  Adj. R-squared:    </th>  <td>   0.004</td>  \n",
       "</tr>\n",
       "<tr>\n",
       "  <th>Method:</th>             <td>Least Squares</td>  <th>  F-statistic:       </th>  <td>   165.0</td>  \n",
       "</tr>\n",
       "<tr>\n",
       "  <th>Date:</th>             <td>Tue, 11 Mar 2025</td> <th>  Prob (F-statistic):</th>  <td>3.09e-72</td>  \n",
       "</tr>\n",
       "<tr>\n",
       "  <th>Time:</th>                 <td>03:22:51</td>     <th>  Log-Likelihood:    </th> <td>-6.0798e+05</td>\n",
       "</tr>\n",
       "<tr>\n",
       "  <th>No. Observations:</th>      <td> 84757</td>      <th>  AIC:               </th>  <td>1.216e+06</td> \n",
       "</tr>\n",
       "<tr>\n",
       "  <th>Df Residuals:</th>          <td> 84754</td>      <th>  BIC:               </th>  <td>1.216e+06</td> \n",
       "</tr>\n",
       "<tr>\n",
       "  <th>Df Model:</th>              <td>     2</td>      <th>                     </th>      <td> </td>     \n",
       "</tr>\n",
       "<tr>\n",
       "  <th>Covariance Type:</th>      <td>nonrobust</td>    <th>                     </th>      <td> </td>     \n",
       "</tr>\n",
       "</table>\n",
       "<table class=\"simpletable\">\n",
       "<tr>\n",
       "       <td></td>         <th>coef</th>     <th>std err</th>      <th>t</th>      <th>P>|t|</th>  <th>[0.025</th>    <th>0.975]</th>  \n",
       "</tr>\n",
       "<tr>\n",
       "  <th>const</th>      <td>  178.6915</td> <td>    3.799</td> <td>   47.042</td> <td> 0.000</td> <td>  171.246</td> <td>  186.137</td>\n",
       "</tr>\n",
       "<tr>\n",
       "  <th>PUFHHSIZE</th>  <td>   -5.4298</td> <td>    0.459</td> <td>  -11.832</td> <td> 0.000</td> <td>   -6.329</td> <td>   -4.530</td>\n",
       "</tr>\n",
       "<tr>\n",
       "  <th>PUFC05_AGE</th> <td>    0.7166</td> <td>    0.064</td> <td>   11.227</td> <td> 0.000</td> <td>    0.592</td> <td>    0.842</td>\n",
       "</tr>\n",
       "</table>\n",
       "<table class=\"simpletable\">\n",
       "<tr>\n",
       "  <th>Omnibus:</th>       <td>96993.851</td> <th>  Durbin-Watson:     </th>   <td>   1.724</td>  \n",
       "</tr>\n",
       "<tr>\n",
       "  <th>Prob(Omnibus):</th>  <td> 0.000</td>   <th>  Jarque-Bera (JB):  </th> <td>28421365.132</td>\n",
       "</tr>\n",
       "<tr>\n",
       "  <th>Skew:</th>           <td> 5.591</td>   <th>  Prob(JB):          </th>   <td>    0.00</td>  \n",
       "</tr>\n",
       "<tr>\n",
       "  <th>Kurtosis:</th>       <td>92.010</td>   <th>  Cond. No.          </th>   <td>    140.</td>  \n",
       "</tr>\n",
       "</table><br/><br/>Notes:<br/>[1] Standard Errors assume that the covariance matrix of the errors is correctly specified."
      ],
      "text/latex": [
       "\\begin{center}\n",
       "\\begin{tabular}{lclc}\n",
       "\\toprule\n",
       "\\textbf{Dep. Variable:}    &  PUFC25\\_PBASIC  & \\textbf{  R-squared:         } &      0.004    \\\\\n",
       "\\textbf{Model:}            &       OLS        & \\textbf{  Adj. R-squared:    } &      0.004    \\\\\n",
       "\\textbf{Method:}           &  Least Squares   & \\textbf{  F-statistic:       } &      165.0    \\\\\n",
       "\\textbf{Date:}             & Tue, 11 Mar 2025 & \\textbf{  Prob (F-statistic):} &   3.09e-72    \\\\\n",
       "\\textbf{Time:}             &     03:22:51     & \\textbf{  Log-Likelihood:    } & -6.0798e+05   \\\\\n",
       "\\textbf{No. Observations:} &       84757      & \\textbf{  AIC:               } &  1.216e+06    \\\\\n",
       "\\textbf{Df Residuals:}     &       84754      & \\textbf{  BIC:               } &  1.216e+06    \\\\\n",
       "\\textbf{Df Model:}         &           2      & \\textbf{                     } &               \\\\\n",
       "\\textbf{Covariance Type:}  &    nonrobust     & \\textbf{                     } &               \\\\\n",
       "\\bottomrule\n",
       "\\end{tabular}\n",
       "\\begin{tabular}{lcccccc}\n",
       "                     & \\textbf{coef} & \\textbf{std err} & \\textbf{t} & \\textbf{P$> |$t$|$} & \\textbf{[0.025} & \\textbf{0.975]}  \\\\\n",
       "\\midrule\n",
       "\\textbf{const}       &     178.6915  &        3.799     &    47.042  &         0.000        &      171.246    &      186.137     \\\\\n",
       "\\textbf{PUFHHSIZE}   &      -5.4298  &        0.459     &   -11.832  &         0.000        &       -6.329    &       -4.530     \\\\\n",
       "\\textbf{PUFC05\\_AGE} &       0.7166  &        0.064     &    11.227  &         0.000        &        0.592    &        0.842     \\\\\n",
       "\\bottomrule\n",
       "\\end{tabular}\n",
       "\\begin{tabular}{lclc}\n",
       "\\textbf{Omnibus:}       & 96993.851 & \\textbf{  Durbin-Watson:     } &      1.724    \\\\\n",
       "\\textbf{Prob(Omnibus):} &    0.000  & \\textbf{  Jarque-Bera (JB):  } & 28421365.132  \\\\\n",
       "\\textbf{Skew:}          &    5.591  & \\textbf{  Prob(JB):          } &       0.00    \\\\\n",
       "\\textbf{Kurtosis:}      &   92.010  & \\textbf{  Cond. No.          } &       140.    \\\\\n",
       "\\bottomrule\n",
       "\\end{tabular}\n",
       "%\\caption{OLS Regression Results}\n",
       "\\end{center}\n",
       "\n",
       "Notes: \\newline\n",
       " [1] Standard Errors assume that the covariance matrix of the errors is correctly specified."
      ],
      "text/plain": [
       "<class 'statsmodels.iolib.summary.Summary'>\n",
       "\"\"\"\n",
       "                            OLS Regression Results                            \n",
       "==============================================================================\n",
       "Dep. Variable:          PUFC25_PBASIC   R-squared:                       0.004\n",
       "Model:                            OLS   Adj. R-squared:                  0.004\n",
       "Method:                 Least Squares   F-statistic:                     165.0\n",
       "Date:                Tue, 11 Mar 2025   Prob (F-statistic):           3.09e-72\n",
       "Time:                        03:22:51   Log-Likelihood:            -6.0798e+05\n",
       "No. Observations:               84757   AIC:                         1.216e+06\n",
       "Df Residuals:                   84754   BIC:                         1.216e+06\n",
       "Df Model:                           2                                         \n",
       "Covariance Type:            nonrobust                                         \n",
       "==============================================================================\n",
       "                 coef    std err          t      P>|t|      [0.025      0.975]\n",
       "------------------------------------------------------------------------------\n",
       "const        178.6915      3.799     47.042      0.000     171.246     186.137\n",
       "PUFHHSIZE     -5.4298      0.459    -11.832      0.000      -6.329      -4.530\n",
       "PUFC05_AGE     0.7166      0.064     11.227      0.000       0.592       0.842\n",
       "==============================================================================\n",
       "Omnibus:                    96993.851   Durbin-Watson:                   1.724\n",
       "Prob(Omnibus):                  0.000   Jarque-Bera (JB):         28421365.132\n",
       "Skew:                           5.591   Prob(JB):                         0.00\n",
       "Kurtosis:                      92.010   Cond. No.                         140.\n",
       "==============================================================================\n",
       "\n",
       "Notes:\n",
       "[1] Standard Errors assume that the covariance matrix of the errors is correctly specified.\n",
       "\"\"\""
      ]
     },
     "execution_count": 529,
     "metadata": {},
     "output_type": "execute_result"
    }
   ],
   "source": [
    "model.summary()"
   ]
  },
  {
   "cell_type": "code",
   "execution_count": 530,
   "metadata": {},
   "outputs": [
    {
     "data": {
      "image/png": "[encoded data removed]",
      "text/plain": [
       "<Figure size 800x600 with 1 Axes>"
      ]
     },
     "metadata": {},
     "output_type": "display_data"
    }
   ],
   "source": [
    "y_pred = model.predict(X)\n",
    "\n",
    "# Get the true values (the actual salary values)\n",
    "y_true = y\n",
    "\n",
    "# Plotting Output vs Prediction\n",
    "plt.figure(figsize=(8, 6))\n",
    "plt.scatter(y_true, y_pred, alpha=0.5, label=\"Predicted vs True\")\n",
    "plt.plot([min(y_true), max(y_true)], [min(y_true), max(y_true)], color=\"red\", linestyle=\"--\", label=\"Perfect Prediction\")\n",
    "plt.title(\"Actual vs Predicted Salary\")\n",
    "plt.xlabel(\"Actual Salary\")\n",
    "plt.ylabel(\"Predicted Salary\")\n",
    "plt.legend()\n",
    "plt.show()\n"
   ]
  },
  {
   "cell_type": "code",
   "execution_count": null,
   "metadata": {},
   "outputs": [],
   "source": []
  }
 ],
 "metadata": {
  "colab": {
   "authorship_tag": "ABX9TyOeRKcmPgsIB86Q4ZR7AqB5",
   "provenance": []
  },
  "kernelspec": {
   "display_name": "Python 3",
   "name": "python3"
  },
  "language_info": {
   "codemirror_mode": {
    "name": "ipython",
    "version": 3
   },
   "file_extension": ".py",
   "mimetype": "text/x-python",
   "name": "python",
   "nbconvert_exporter": "python",
   "pygments_lexer": "ipython3",
   "version": "3.10.11"
  }
 },
 "nbformat": 4,
 "nbformat_minor": 0
}
