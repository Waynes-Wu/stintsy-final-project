{
 "cells": [
  {
   "cell_type": "markdown",
   "metadata": {
    "id": "Du0zEcHWp_CK"
   },
   "source": [
    "### S14 Group 6 Members <br>\n",
    "Chan, Kendrick Martin <br>\n",
    "Dy, Fatima Kriselle <br>\n",
    "Vitan, Layne Ashley <br>\n",
    "Wu, Waynes Weyner <br>"
   ]
  },
  {
   "cell_type": "markdown",
   "metadata": {
    "id": "ZjLsqx1Xf3nJ"
   },
   "source": [
    "# **Section 1. Introduction**"
   ]
  },
  {
   "cell_type": "markdown",
   "metadata": {
    "id": "A_PEaz2NhTKy"
   },
   "source": [
    "This notebook explores the Philippine Statistics Authority's (PSA) Labor Force Survey 2016, a comprehensive dataset that offers insights into the Philippine labor market. The project involves data preprocessing, exploratory data analysis (EDA), and model development to predict key labor outcomes. Three distinct machine learning models are trained and evaluated, followed by error analysis and hyperparameter tuning to improve performance. Finally, the project concludes with a summary of findings and insights drawn from the analysis.   "
   ]
  },
  {
   "cell_type": "markdown",
   "metadata": {
    "id": "0-g5JmAsgRtT"
   },
   "source": [
    "# **Section 2. Dataset Description**"
   ]
  },
  {
   "cell_type": "markdown",
   "metadata": {
    "id": "Jlj9pgPHhWXq"
   },
   "source": [
    "The Labor Force Survey (LFS) is a nationwide quarterly survey conducted by the Philippine Statistics Authority (PSA) to gather labor market statistics. It provides insights into the levels and trends of employment, unemployment, and underemployment in the Philippines. The data serves as a quantitative framework for developing labor-related policies and programs.\n",
    "\n",
    "For the April 2016 LFS, data collection was carried out between April 8, 2016, and April 30, 2016. The survey followed a structured methodology to ensure data accuracy and reliability. The sampling design was based on the 2013 Master Sample Design, ensuring comprehensive representation at both the national and regional levels. Data collection was conducted through face-to-face interviews using standardized questionnaires. The process was closely supervised by Regional Directors (RDs) and Provincial Statistics Officers (PSOs) to ensure consistency and adherence to survey protocols. The survey targeted household members aged 15 and older, focusing on individuals within the labor force.\n",
    "This rigorous data collection process enhances the reliability of the survey's findings, making it a valuable resource for policymakers, economists, and researchers examining the Philippine labor market.\n",
    "\n",
    "### Dataset Structure\n",
    "The dataset consists of **180,862** instances and **50** features with rows representing an individual's responses to each question and columns pertaining to the data for a specific attribute across multiple respondents. The features and their respective descriptions are as follows.\n",
    "\n",
    "1.   `PUFREG` - Region the participant belongs to\n",
    "2.   `PUFPRV` - Province code of where the participant resides in\n",
    "3.   `PUFPRRCD` - Recoded province code\n",
    "4.   `PUFHHNUM` - Unique sequential number assigned to each household\n",
    "5.   `PUFURB2K10` - Urban or rural classification based on the 2010 FIES survey\n",
    "6.   `PUFPWGTFIN` - Final weight based on provincial projections\n",
    "7.   `PUFSVYMO` - Month when the survey was conducted\n",
    "8.   `PUFSVYYR` - Year when the survey was conducted\n",
    "9.   `PUFPSU` - Primary Sampling Unit (PSU) number\n",
    "10.   `PUFRPL` - Replication number used for variance estimation\n",
    "11.   `PUFHHSIZE` - Number of household members\n",
    "12.   `PUFC01_LNO` - Line number used to identify each member of the household in the survey\n",
    "13.   `PUFC03_REL` - Relationship of the participant to the head of the household\n",
    "14.   `PUFC04_SEX` - Gender of the participant\n",
    "15.   `PUFC05_AGE` - Age of the participant\n",
    "16.   `PUFC06_MSTAT` - Marital status of the participant\n",
    "17.   `PUFC07_GRADE` - Educational attainment of the participant\n",
    "18.   `PUFC08_CURSCH` - Indicates if the participant is currently attending school\n",
    "19.   `PUFC09_GRADTECH` - Indicates whether the participant is a graduate of a technical/vocational course\n",
    "20.   `PUFC10_CONWR` - Overseas Filipino Worker (OFW) Classification\n",
    "21. `PUFC11_WORK` - Indicates if the participant worked at least one hour in the past week\n",
    "22. `PUFC12_JOB` - Indicates if the participant had a job or business during the past week despite not working\n",
    "23. `PUFC14_PROCC` - Primary occupation of the participant during the past week\n",
    "24. `PUFC16_PKB` - Type of business or industry the participant is involved in\n",
    "25. `PUFC17_NATEM` - Nature of employment of the participant (permanent, short-term).\n",
    "26. `PUFC18_PNWHRS` - Normal working hours per day in the participant’s primary job\n",
    "27. `PUFC19_PHOURS` - Total hours worked by the participant during the past week\n",
    "28. `PUFC20_PWMORE` - Indicates if the participant wanted to work more hours in the past week\n",
    "29. `PUFC21_PLADDW` - Indicates whether the participant looked for additional work during the past week\n",
    "30. `PUFC22_PFWRK` - Indicates whether this was the participant’s first time doing any work\n",
    "31. `PUFC23_PCLASS` - Class of worker for the participant’s primary occupation\n",
    "32. `PUFC24_PBASIS` - Payment basis for the participant’s primary occupation\n",
    "33. `PUFC25_PBASIC` - Basic pay per day for the participant’s primary occupation\n",
    "34. `PUFC26_OJOB` - Indicates if the participant had another job or business during the past week\n",
    "35. `PUFC27_NJOBS` - Number of jobs the participant had during the past week\n",
    "36. `PUFC28_THOURS` - Total hours worked by the participant across all jobs during the past week\n",
    "37. `PUFC29_WWM48H` - Participant's main reason for not working more than 48 hours in the past week\n",
    "38. `PUFC30_LOOKW` - Indicates if the participant looked for work or tried to start a business in the past week\n",
    "39. `PUFC31_FLWRK` - Indicates if it was the participant’s first time looking for work or starting a business\n",
    "40. `PUFC32_JOBSM` - Method the participant used to search for work\n",
    "41. `PUFC33_WEEKS` - Number of weeks the participant spent looking for work\n",
    "42. `PUFC34_WYNOT` - Reason the participant did not look for work\n",
    "43. `PUFC35_LTLOOKW` - Period of the participant’s last job search attempt\n",
    "44. `PUFC36_AVAIL` - Indicates if the participant would have been available for work had an opportunity existed\n",
    "45. `PUFC37_WILLING` - Indicates if the participant was willing to take up work in the past week or within two weeks\n",
    "46. `PUFC38_PREVJOB` - Indicates if the participant had worked at any time before\n",
    "47. `PUFC40_POCC` - Last occupation held by the participant\n",
    "48. `PUFC41_WQTR` - Indicates if the participant worked at all or had a job/business during the past quarter\n",
    "49. `PUFC43_QKB` - Type of business the participant engaged in during the past quarter\n",
    "50. `PUFNEWEMPSTAT` - Employment status based on new employment criteria (employed, unemployed, not in labor force)"
   ]
  },
  {
   "cell_type": "markdown",
   "metadata": {
    "id": "kSYfagjOgeTG"
   },
   "source": [
    "# **Section 3. List of Requirements**"
   ]
  },
  {
   "cell_type": "markdown",
   "metadata": {
    "id": "cW7H0he6iPjX"
   },
   "source": [
    "List all the Python libraries and modules that the project used."
   ]
  },
  {
   "cell_type": "code",
   "execution_count": 1,
   "metadata": {},
   "outputs": [],
   "source": [
    "import pandas as pd\n",
    "import numpy as np\n",
    "import seaborn as sns\n",
    "import matplotlib.pyplot as plt\n",
    "import statsmodels.api as sm\n"
   ]
  },
  {
   "cell_type": "markdown",
   "metadata": {},
   "source": [
    "The rest that will be shown are for the group to use."
   ]
  },
  {
   "cell_type": "code",
   "execution_count": 2,
   "metadata": {},
   "outputs": [],
   "source": [
    "# 1 Windows\n",
    "# 2 Linux\n",
    "# 3 Google Collab\n",
    "ENV = 1\n",
    "sns.set(style=\"whitegrid\")\n",
    "# google drive\n",
    "DRIVE_PATH = '/content/drive/MyDrive/STINTSY/Datasets/'\n",
    "\n",
    "FILENAME = 'LFS PUF April 2016.CSV'\n",
    "LOCAL_PATH = 'data/'\n",
    "\n",
    "import Utils\n",
    "\n",
    "labor_df = Utils.load_data(FILENAME, LOCAL_PATH, ENV)"
   ]
  },
  {
   "cell_type": "markdown",
   "metadata": {
    "id": "eoZIoxlTgiZh"
   },
   "source": [
    "# **Section 4. Data Preprocessing and Cleaning**"
   ]
  },
  {
   "cell_type": "markdown",
   "metadata": {
    "id": "bo5-uzK9iaNQ"
   },
   "source": [
    "To be able to clean the data, first we must identify for any inconsistencies, errors, or missing values that need to be addressed.\n",
    "\n",
    " The process involves using data observability tools to look for various types of problems, including:\n",
    "\n",
    "- Missing or empty data points\n",
    "- Incorrect values\n",
    "- Mismatched data types\n",
    "- Duplicate entries\n",
    "- Inconsistent formatting"
   ]
  },
  {
   "cell_type": "markdown",
   "metadata": {},
   "source": [
    "#### Information about the data"
   ]
  },
  {
   "cell_type": "code",
   "execution_count": 3,
   "metadata": {},
   "outputs": [
    {
     "data": {
      "application/vnd.microsoft.datawrangler.viewer.v0+json": {
       "columns": [
        {
         "name": "index",
         "rawType": "int64",
         "type": "integer"
        },
        {
         "name": "PUFREG",
         "rawType": "int64",
         "type": "integer"
        },
        {
         "name": "PUFPRV",
         "rawType": "int64",
         "type": "integer"
        },
        {
         "name": "PUFPRRCD",
         "rawType": "int64",
         "type": "integer"
        },
        {
         "name": "PUFHHNUM",
         "rawType": "int64",
         "type": "integer"
        },
        {
         "name": "PUFURB2K10",
         "rawType": "int64",
         "type": "integer"
        },
        {
         "name": "PUFPWGTFIN",
         "rawType": "float64",
         "type": "float"
        },
        {
         "name": "PUFSVYMO",
         "rawType": "int64",
         "type": "integer"
        },
        {
         "name": "PUFSVYYR",
         "rawType": "int64",
         "type": "integer"
        },
        {
         "name": "PUFPSU",
         "rawType": "int64",
         "type": "integer"
        },
        {
         "name": "PUFRPL",
         "rawType": "int64",
         "type": "integer"
        },
        {
         "name": "PUFHHSIZE",
         "rawType": "int64",
         "type": "integer"
        },
        {
         "name": "PUFC01_LNO",
         "rawType": "int64",
         "type": "integer"
        },
        {
         "name": "PUFC03_REL",
         "rawType": "int64",
         "type": "integer"
        },
        {
         "name": "PUFC04_SEX",
         "rawType": "int64",
         "type": "integer"
        },
        {
         "name": "PUFC05_AGE",
         "rawType": "int64",
         "type": "integer"
        },
        {
         "name": "PUFC06_MSTAT",
         "rawType": "object",
         "type": "string"
        },
        {
         "name": "PUFC07_GRADE",
         "rawType": "object",
         "type": "string"
        },
        {
         "name": "PUFC08_CURSCH",
         "rawType": "object",
         "type": "string"
        },
        {
         "name": "PUFC09_GRADTECH",
         "rawType": "object",
         "type": "string"
        },
        {
         "name": "PUFC10_CONWR",
         "rawType": "object",
         "type": "string"
        },
        {
         "name": "PUFC11_WORK",
         "rawType": "object",
         "type": "string"
        },
        {
         "name": "PUFC12_JOB",
         "rawType": "object",
         "type": "string"
        },
        {
         "name": "PUFC14_PROCC",
         "rawType": "object",
         "type": "string"
        },
        {
         "name": "PUFC16_PKB",
         "rawType": "object",
         "type": "string"
        },
        {
         "name": "PUFC17_NATEM",
         "rawType": "object",
         "type": "string"
        },
        {
         "name": "PUFC18_PNWHRS",
         "rawType": "object",
         "type": "string"
        },
        {
         "name": "PUFC19_PHOURS",
         "rawType": "object",
         "type": "string"
        },
        {
         "name": "PUFC20_PWMORE",
         "rawType": "object",
         "type": "string"
        },
        {
         "name": "PUFC21_PLADDW",
         "rawType": "object",
         "type": "string"
        },
        {
         "name": "PUFC22_PFWRK",
         "rawType": "object",
         "type": "string"
        },
        {
         "name": "PUFC23_PCLASS",
         "rawType": "object",
         "type": "string"
        },
        {
         "name": "PUFC24_PBASIS",
         "rawType": "object",
         "type": "string"
        },
        {
         "name": "PUFC25_PBASIC",
         "rawType": "object",
         "type": "string"
        },
        {
         "name": "PUFC26_OJOB",
         "rawType": "object",
         "type": "string"
        },
        {
         "name": "PUFC27_NJOBS",
         "rawType": "object",
         "type": "string"
        },
        {
         "name": "PUFC28_THOURS",
         "rawType": "object",
         "type": "string"
        },
        {
         "name": "PUFC29_WWM48H",
         "rawType": "object",
         "type": "string"
        },
        {
         "name": "PUFC30_LOOKW",
         "rawType": "object",
         "type": "string"
        },
        {
         "name": "PUFC31_FLWRK",
         "rawType": "object",
         "type": "string"
        },
        {
         "name": "PUFC32_JOBSM",
         "rawType": "object",
         "type": "string"
        },
        {
         "name": "PUFC33_WEEKS",
         "rawType": "object",
         "type": "string"
        },
        {
         "name": "PUFC34_WYNOT",
         "rawType": "object",
         "type": "string"
        },
        {
         "name": "PUFC35_LTLOOKW",
         "rawType": "object",
         "type": "string"
        },
        {
         "name": "PUFC36_AVAIL",
         "rawType": "object",
         "type": "string"
        },
        {
         "name": "PUFC37_WILLING",
         "rawType": "object",
         "type": "string"
        },
        {
         "name": "PUFC38_PREVJOB",
         "rawType": "object",
         "type": "string"
        },
        {
         "name": "PUFC40_POCC",
         "rawType": "object",
         "type": "string"
        },
        {
         "name": "PUFC41_WQTR",
         "rawType": "object",
         "type": "string"
        },
        {
         "name": "PUFC43_QKB",
         "rawType": "object",
         "type": "string"
        },
        {
         "name": "PUFNEWEMPSTAT",
         "rawType": "object",
         "type": "string"
        }
       ],
       "conversionMethod": "pd.DataFrame",
       "ref": "847dcbce-90f4-40e1-9720-c238720e8db1",
       "rows": [
        [
         "0",
         "1",
         "28",
         "2800",
         "1",
         "2",
         "405.2219",
         "4",
         "2016",
         "217",
         "1",
         "3",
         "1",
         "1",
         "1",
         "49",
         "2",
         "350",
         " ",
         "2",
         "5",
         "1",
         " ",
         "61",
         "01",
         "1",
         "08",
         "024",
         "1",
         "1",
         "2",
         "3",
         " ",
         "     ",
         "1",
         "1",
         "032",
         " ",
         " ",
         " ",
         " ",
         "   ",
         " ",
         " ",
         " ",
         " ",
         " ",
         "  ",
         "1",
         "01",
         "1"
        ],
        [
         "1",
         "1",
         "28",
         "2800",
         "1",
         "2",
         "388.828",
         "4",
         "2016",
         "217",
         "1",
         "3",
         "2",
         "2",
         "2",
         "61",
         "2",
         "350",
         " ",
         "2",
         "5",
         "1",
         " ",
         "92",
         "01",
         "2",
         "04",
         "008",
         "2",
         "2",
         "2",
         "6",
         " ",
         "     ",
         "2",
         " ",
         "008",
         " ",
         " ",
         " ",
         " ",
         "   ",
         " ",
         " ",
         " ",
         " ",
         " ",
         "  ",
         "1",
         "01",
         "1"
        ],
        [
         "2",
         "1",
         "28",
         "2800",
         "1",
         "2",
         "406.1194",
         "4",
         "2016",
         "217",
         "1",
         "3",
         "3",
         "3",
         "1",
         "19",
         "1",
         "350",
         "2",
         "2",
         "5",
         "1",
         " ",
         "92",
         "01",
         "2",
         "08",
         "024",
         "1",
         "1",
         "2",
         "1",
         "3",
         "00250",
         "1",
         "1",
         "034",
         " ",
         " ",
         " ",
         " ",
         "   ",
         " ",
         " ",
         " ",
         " ",
         " ",
         "  ",
         "1",
         "01",
         "1"
        ],
        [
         "3",
         "1",
         "28",
         "2800",
         "2",
         "2",
         "405.2219",
         "4",
         "2016",
         "217",
         "1",
         "4",
         "1",
         "1",
         "1",
         "48",
         "2",
         "320",
         " ",
         "2",
         "5",
         "1",
         " ",
         "61",
         "01",
         "1",
         "04",
         "020",
         "1",
         "1",
         "2",
         "3",
         " ",
         "     ",
         "1",
         "2",
         "033",
         " ",
         " ",
         " ",
         " ",
         "   ",
         " ",
         " ",
         " ",
         " ",
         " ",
         "  ",
         "1",
         "01",
         "1"
        ],
        [
         "4",
         "1",
         "28",
         "2800",
         "2",
         "2",
         "384.3556",
         "4",
         "2016",
         "217",
         "1",
         "4",
         "2",
         "2",
         "2",
         "41",
         "2",
         "350",
         " ",
         "2",
         "5",
         "1",
         " ",
         "91",
         "96",
         "1",
         "12",
         "072",
         "2",
         "2",
         "2",
         "0",
         "4",
         "00115",
         "2",
         " ",
         "072",
         "2",
         " ",
         " ",
         " ",
         "   ",
         " ",
         " ",
         " ",
         " ",
         " ",
         "  ",
         "1",
         "96",
         "1"
        ]
       ],
       "shape": {
        "columns": 50,
        "rows": 5
       }
      },
      "text/html": [
       "<div>\n",
       "<style scoped>\n",
       "    .dataframe tbody tr th:only-of-type {\n",
       "        vertical-align: middle;\n",
       "    }\n",
       "\n",
       "    .dataframe tbody tr th {\n",
       "        vertical-align: top;\n",
       "    }\n",
       "\n",
       "    .dataframe thead th {\n",
       "        text-align: right;\n",
       "    }\n",
       "</style>\n",
       "<table border=\"1\" class=\"dataframe\">\n",
       "  <thead>\n",
       "    <tr style=\"text-align: right;\">\n",
       "      <th></th>\n",
       "      <th>PUFREG</th>\n",
       "      <th>PUFPRV</th>\n",
       "      <th>PUFPRRCD</th>\n",
       "      <th>PUFHHNUM</th>\n",
       "      <th>PUFURB2K10</th>\n",
       "      <th>PUFPWGTFIN</th>\n",
       "      <th>PUFSVYMO</th>\n",
       "      <th>PUFSVYYR</th>\n",
       "      <th>PUFPSU</th>\n",
       "      <th>PUFRPL</th>\n",
       "      <th>...</th>\n",
       "      <th>PUFC33_WEEKS</th>\n",
       "      <th>PUFC34_WYNOT</th>\n",
       "      <th>PUFC35_LTLOOKW</th>\n",
       "      <th>PUFC36_AVAIL</th>\n",
       "      <th>PUFC37_WILLING</th>\n",
       "      <th>PUFC38_PREVJOB</th>\n",
       "      <th>PUFC40_POCC</th>\n",
       "      <th>PUFC41_WQTR</th>\n",
       "      <th>PUFC43_QKB</th>\n",
       "      <th>PUFNEWEMPSTAT</th>\n",
       "    </tr>\n",
       "  </thead>\n",
       "  <tbody>\n",
       "    <tr>\n",
       "      <th>0</th>\n",
       "      <td>1</td>\n",
       "      <td>28</td>\n",
       "      <td>2800</td>\n",
       "      <td>1</td>\n",
       "      <td>2</td>\n",
       "      <td>405.2219</td>\n",
       "      <td>4</td>\n",
       "      <td>2016</td>\n",
       "      <td>217</td>\n",
       "      <td>1</td>\n",
       "      <td>...</td>\n",
       "      <td></td>\n",
       "      <td></td>\n",
       "      <td></td>\n",
       "      <td></td>\n",
       "      <td></td>\n",
       "      <td></td>\n",
       "      <td></td>\n",
       "      <td>1</td>\n",
       "      <td>01</td>\n",
       "      <td>1</td>\n",
       "    </tr>\n",
       "    <tr>\n",
       "      <th>1</th>\n",
       "      <td>1</td>\n",
       "      <td>28</td>\n",
       "      <td>2800</td>\n",
       "      <td>1</td>\n",
       "      <td>2</td>\n",
       "      <td>388.8280</td>\n",
       "      <td>4</td>\n",
       "      <td>2016</td>\n",
       "      <td>217</td>\n",
       "      <td>1</td>\n",
       "      <td>...</td>\n",
       "      <td></td>\n",
       "      <td></td>\n",
       "      <td></td>\n",
       "      <td></td>\n",
       "      <td></td>\n",
       "      <td></td>\n",
       "      <td></td>\n",
       "      <td>1</td>\n",
       "      <td>01</td>\n",
       "      <td>1</td>\n",
       "    </tr>\n",
       "    <tr>\n",
       "      <th>2</th>\n",
       "      <td>1</td>\n",
       "      <td>28</td>\n",
       "      <td>2800</td>\n",
       "      <td>1</td>\n",
       "      <td>2</td>\n",
       "      <td>406.1194</td>\n",
       "      <td>4</td>\n",
       "      <td>2016</td>\n",
       "      <td>217</td>\n",
       "      <td>1</td>\n",
       "      <td>...</td>\n",
       "      <td></td>\n",
       "      <td></td>\n",
       "      <td></td>\n",
       "      <td></td>\n",
       "      <td></td>\n",
       "      <td></td>\n",
       "      <td></td>\n",
       "      <td>1</td>\n",
       "      <td>01</td>\n",
       "      <td>1</td>\n",
       "    </tr>\n",
       "    <tr>\n",
       "      <th>3</th>\n",
       "      <td>1</td>\n",
       "      <td>28</td>\n",
       "      <td>2800</td>\n",
       "      <td>2</td>\n",
       "      <td>2</td>\n",
       "      <td>405.2219</td>\n",
       "      <td>4</td>\n",
       "      <td>2016</td>\n",
       "      <td>217</td>\n",
       "      <td>1</td>\n",
       "      <td>...</td>\n",
       "      <td></td>\n",
       "      <td></td>\n",
       "      <td></td>\n",
       "      <td></td>\n",
       "      <td></td>\n",
       "      <td></td>\n",
       "      <td></td>\n",
       "      <td>1</td>\n",
       "      <td>01</td>\n",
       "      <td>1</td>\n",
       "    </tr>\n",
       "    <tr>\n",
       "      <th>4</th>\n",
       "      <td>1</td>\n",
       "      <td>28</td>\n",
       "      <td>2800</td>\n",
       "      <td>2</td>\n",
       "      <td>2</td>\n",
       "      <td>384.3556</td>\n",
       "      <td>4</td>\n",
       "      <td>2016</td>\n",
       "      <td>217</td>\n",
       "      <td>1</td>\n",
       "      <td>...</td>\n",
       "      <td></td>\n",
       "      <td></td>\n",
       "      <td></td>\n",
       "      <td></td>\n",
       "      <td></td>\n",
       "      <td></td>\n",
       "      <td></td>\n",
       "      <td>1</td>\n",
       "      <td>96</td>\n",
       "      <td>1</td>\n",
       "    </tr>\n",
       "  </tbody>\n",
       "</table>\n",
       "<p>5 rows × 50 columns</p>\n",
       "</div>"
      ],
      "text/plain": [
       "   PUFREG  PUFPRV  PUFPRRCD  PUFHHNUM  PUFURB2K10  PUFPWGTFIN  PUFSVYMO  \\\n",
       "0       1      28      2800         1           2    405.2219         4   \n",
       "1       1      28      2800         1           2    388.8280         4   \n",
       "2       1      28      2800         1           2    406.1194         4   \n",
       "3       1      28      2800         2           2    405.2219         4   \n",
       "4       1      28      2800         2           2    384.3556         4   \n",
       "\n",
       "   PUFSVYYR  PUFPSU  PUFRPL  ...  PUFC33_WEEKS  PUFC34_WYNOT  PUFC35_LTLOOKW  \\\n",
       "0      2016     217       1  ...                                               \n",
       "1      2016     217       1  ...                                               \n",
       "2      2016     217       1  ...                                               \n",
       "3      2016     217       1  ...                                               \n",
       "4      2016     217       1  ...                                               \n",
       "\n",
       "   PUFC36_AVAIL  PUFC37_WILLING PUFC38_PREVJOB PUFC40_POCC PUFC41_WQTR  \\\n",
       "0                                                                    1   \n",
       "1                                                                    1   \n",
       "2                                                                    1   \n",
       "3                                                                    1   \n",
       "4                                                                    1   \n",
       "\n",
       "  PUFC43_QKB PUFNEWEMPSTAT  \n",
       "0         01             1  \n",
       "1         01             1  \n",
       "2         01             1  \n",
       "3         01             1  \n",
       "4         96             1  \n",
       "\n",
       "[5 rows x 50 columns]"
      ]
     },
     "execution_count": 3,
     "metadata": {},
     "output_type": "execute_result"
    }
   ],
   "source": [
    "labor_df.head(5)"
   ]
  },
  {
   "cell_type": "code",
   "execution_count": 4,
   "metadata": {},
   "outputs": [
    {
     "data": {
      "application/vnd.microsoft.datawrangler.viewer.v0+json": {
       "columns": [
        {
         "name": "index",
         "rawType": "int64",
         "type": "integer"
        },
        {
         "name": "PUFREG",
         "rawType": "int64",
         "type": "integer"
        },
        {
         "name": "PUFPRV",
         "rawType": "int64",
         "type": "integer"
        },
        {
         "name": "PUFPRRCD",
         "rawType": "int64",
         "type": "integer"
        },
        {
         "name": "PUFHHNUM",
         "rawType": "int64",
         "type": "integer"
        },
        {
         "name": "PUFURB2K10",
         "rawType": "int64",
         "type": "integer"
        },
        {
         "name": "PUFPWGTFIN",
         "rawType": "float64",
         "type": "float"
        },
        {
         "name": "PUFSVYMO",
         "rawType": "int64",
         "type": "integer"
        },
        {
         "name": "PUFSVYYR",
         "rawType": "int64",
         "type": "integer"
        },
        {
         "name": "PUFPSU",
         "rawType": "int64",
         "type": "integer"
        },
        {
         "name": "PUFRPL",
         "rawType": "int64",
         "type": "integer"
        },
        {
         "name": "PUFHHSIZE",
         "rawType": "int64",
         "type": "integer"
        },
        {
         "name": "PUFC01_LNO",
         "rawType": "int64",
         "type": "integer"
        },
        {
         "name": "PUFC03_REL",
         "rawType": "int64",
         "type": "integer"
        },
        {
         "name": "PUFC04_SEX",
         "rawType": "int64",
         "type": "integer"
        },
        {
         "name": "PUFC05_AGE",
         "rawType": "int64",
         "type": "integer"
        },
        {
         "name": "PUFC06_MSTAT",
         "rawType": "object",
         "type": "string"
        },
        {
         "name": "PUFC07_GRADE",
         "rawType": "object",
         "type": "string"
        },
        {
         "name": "PUFC08_CURSCH",
         "rawType": "object",
         "type": "string"
        },
        {
         "name": "PUFC09_GRADTECH",
         "rawType": "object",
         "type": "string"
        },
        {
         "name": "PUFC10_CONWR",
         "rawType": "object",
         "type": "string"
        },
        {
         "name": "PUFC11_WORK",
         "rawType": "object",
         "type": "string"
        },
        {
         "name": "PUFC12_JOB",
         "rawType": "object",
         "type": "string"
        },
        {
         "name": "PUFC14_PROCC",
         "rawType": "object",
         "type": "string"
        },
        {
         "name": "PUFC16_PKB",
         "rawType": "object",
         "type": "string"
        },
        {
         "name": "PUFC17_NATEM",
         "rawType": "object",
         "type": "string"
        },
        {
         "name": "PUFC18_PNWHRS",
         "rawType": "object",
         "type": "string"
        },
        {
         "name": "PUFC19_PHOURS",
         "rawType": "object",
         "type": "string"
        },
        {
         "name": "PUFC20_PWMORE",
         "rawType": "object",
         "type": "string"
        },
        {
         "name": "PUFC21_PLADDW",
         "rawType": "object",
         "type": "string"
        },
        {
         "name": "PUFC22_PFWRK",
         "rawType": "object",
         "type": "string"
        },
        {
         "name": "PUFC23_PCLASS",
         "rawType": "object",
         "type": "string"
        },
        {
         "name": "PUFC24_PBASIS",
         "rawType": "object",
         "type": "string"
        },
        {
         "name": "PUFC25_PBASIC",
         "rawType": "object",
         "type": "string"
        },
        {
         "name": "PUFC26_OJOB",
         "rawType": "object",
         "type": "string"
        },
        {
         "name": "PUFC27_NJOBS",
         "rawType": "object",
         "type": "string"
        },
        {
         "name": "PUFC28_THOURS",
         "rawType": "object",
         "type": "string"
        },
        {
         "name": "PUFC29_WWM48H",
         "rawType": "object",
         "type": "string"
        },
        {
         "name": "PUFC30_LOOKW",
         "rawType": "object",
         "type": "string"
        },
        {
         "name": "PUFC31_FLWRK",
         "rawType": "object",
         "type": "string"
        },
        {
         "name": "PUFC32_JOBSM",
         "rawType": "object",
         "type": "string"
        },
        {
         "name": "PUFC33_WEEKS",
         "rawType": "object",
         "type": "string"
        },
        {
         "name": "PUFC34_WYNOT",
         "rawType": "object",
         "type": "string"
        },
        {
         "name": "PUFC35_LTLOOKW",
         "rawType": "object",
         "type": "string"
        },
        {
         "name": "PUFC36_AVAIL",
         "rawType": "object",
         "type": "string"
        },
        {
         "name": "PUFC37_WILLING",
         "rawType": "object",
         "type": "string"
        },
        {
         "name": "PUFC38_PREVJOB",
         "rawType": "object",
         "type": "string"
        },
        {
         "name": "PUFC40_POCC",
         "rawType": "object",
         "type": "string"
        },
        {
         "name": "PUFC41_WQTR",
         "rawType": "object",
         "type": "string"
        },
        {
         "name": "PUFC43_QKB",
         "rawType": "object",
         "type": "string"
        },
        {
         "name": "PUFNEWEMPSTAT",
         "rawType": "object",
         "type": "string"
        }
       ],
       "conversionMethod": "pd.DataFrame",
       "ref": "03fe2096-bfbb-4a90-a60c-ac4c33e8fbe8",
       "rows": [
        [
         "180857",
         "17",
         "59",
         "5900",
         "40880",
         "2",
         "239.4341",
         "4",
         "2016",
         "258",
         "1",
         "5",
         "1",
         "1",
         "1",
         "29",
         "2",
         "350",
         " ",
         "2",
         "5",
         "1",
         " ",
         "13",
         "50",
         "1",
         "08",
         "040",
         "2",
         "2",
         "2",
         "4",
         " ",
         "     ",
         "2",
         " ",
         "040",
         " ",
         " ",
         " ",
         " ",
         "   ",
         " ",
         " ",
         " ",
         " ",
         " ",
         "  ",
         "1",
         "50",
         "1"
        ],
        [
         "180858",
         "17",
         "59",
         "5900",
         "40880",
         "2",
         "189.8885",
         "4",
         "2016",
         "258",
         "1",
         "5",
         "2",
         "2",
         "2",
         "29",
         "2",
         "830",
         " ",
         "2",
         "5",
         "2",
         "2",
         "  ",
         "  ",
         " ",
         "  ",
         "   ",
         " ",
         " ",
         " ",
         " ",
         " ",
         "     ",
         " ",
         " ",
         "   ",
         " ",
         "2",
         " ",
         " ",
         "   ",
         "8",
         " ",
         " ",
         " ",
         "2",
         "  ",
         " ",
         "  ",
         "3"
        ],
        [
         "180859",
         "17",
         "59",
         "5900",
         "40880",
         "2",
         "207.7395",
         "4",
         "2016",
         "258",
         "1",
         "5",
         "3",
         "3",
         "2",
         "4",
         " ",
         "   ",
         " ",
         " ",
         " ",
         " ",
         " ",
         "  ",
         "  ",
         " ",
         "  ",
         "   ",
         " ",
         " ",
         " ",
         " ",
         " ",
         "     ",
         " ",
         " ",
         "   ",
         " ",
         " ",
         " ",
         " ",
         "   ",
         " ",
         " ",
         " ",
         " ",
         " ",
         "  ",
         " ",
         "  ",
         " "
        ],
        [
         "180860",
         "17",
         "59",
         "5900",
         "40880",
         "2",
         "207.7395",
         "4",
         "2016",
         "258",
         "1",
         "5",
         "4",
         "3",
         "2",
         "2",
         " ",
         "   ",
         " ",
         " ",
         " ",
         " ",
         " ",
         "  ",
         "  ",
         " ",
         "  ",
         "   ",
         " ",
         " ",
         " ",
         " ",
         " ",
         "     ",
         " ",
         " ",
         "   ",
         " ",
         " ",
         " ",
         " ",
         "   ",
         " ",
         " ",
         " ",
         " ",
         " ",
         "  ",
         " ",
         "  ",
         " "
        ],
        [
         "180861",
         "17",
         "59",
         "5900",
         "40880",
         "2",
         "277.5219",
         "4",
         "2016",
         "258",
         "1",
         "5",
         "5",
         "8",
         "1",
         "18",
         "1",
         "350",
         "2",
         "2",
         "5",
         "1",
         " ",
         "13",
         "01",
         "1",
         "04",
         "028",
         "2",
         "2",
         "2",
         "3",
         " ",
         "     ",
         "2",
         " ",
         "028",
         " ",
         " ",
         " ",
         " ",
         "   ",
         " ",
         " ",
         " ",
         " ",
         " ",
         "  ",
         "1",
         "01",
         "1"
        ]
       ],
       "shape": {
        "columns": 50,
        "rows": 5
       }
      },
      "text/html": [
       "<div>\n",
       "<style scoped>\n",
       "    .dataframe tbody tr th:only-of-type {\n",
       "        vertical-align: middle;\n",
       "    }\n",
       "\n",
       "    .dataframe tbody tr th {\n",
       "        vertical-align: top;\n",
       "    }\n",
       "\n",
       "    .dataframe thead th {\n",
       "        text-align: right;\n",
       "    }\n",
       "</style>\n",
       "<table border=\"1\" class=\"dataframe\">\n",
       "  <thead>\n",
       "    <tr style=\"text-align: right;\">\n",
       "      <th></th>\n",
       "      <th>PUFREG</th>\n",
       "      <th>PUFPRV</th>\n",
       "      <th>PUFPRRCD</th>\n",
       "      <th>PUFHHNUM</th>\n",
       "      <th>PUFURB2K10</th>\n",
       "      <th>PUFPWGTFIN</th>\n",
       "      <th>PUFSVYMO</th>\n",
       "      <th>PUFSVYYR</th>\n",
       "      <th>PUFPSU</th>\n",
       "      <th>PUFRPL</th>\n",
       "      <th>...</th>\n",
       "      <th>PUFC33_WEEKS</th>\n",
       "      <th>PUFC34_WYNOT</th>\n",
       "      <th>PUFC35_LTLOOKW</th>\n",
       "      <th>PUFC36_AVAIL</th>\n",
       "      <th>PUFC37_WILLING</th>\n",
       "      <th>PUFC38_PREVJOB</th>\n",
       "      <th>PUFC40_POCC</th>\n",
       "      <th>PUFC41_WQTR</th>\n",
       "      <th>PUFC43_QKB</th>\n",
       "      <th>PUFNEWEMPSTAT</th>\n",
       "    </tr>\n",
       "  </thead>\n",
       "  <tbody>\n",
       "    <tr>\n",
       "      <th>180857</th>\n",
       "      <td>17</td>\n",
       "      <td>59</td>\n",
       "      <td>5900</td>\n",
       "      <td>40880</td>\n",
       "      <td>2</td>\n",
       "      <td>239.4341</td>\n",
       "      <td>4</td>\n",
       "      <td>2016</td>\n",
       "      <td>258</td>\n",
       "      <td>1</td>\n",
       "      <td>...</td>\n",
       "      <td></td>\n",
       "      <td></td>\n",
       "      <td></td>\n",
       "      <td></td>\n",
       "      <td></td>\n",
       "      <td></td>\n",
       "      <td></td>\n",
       "      <td>1</td>\n",
       "      <td>50</td>\n",
       "      <td>1</td>\n",
       "    </tr>\n",
       "    <tr>\n",
       "      <th>180858</th>\n",
       "      <td>17</td>\n",
       "      <td>59</td>\n",
       "      <td>5900</td>\n",
       "      <td>40880</td>\n",
       "      <td>2</td>\n",
       "      <td>189.8885</td>\n",
       "      <td>4</td>\n",
       "      <td>2016</td>\n",
       "      <td>258</td>\n",
       "      <td>1</td>\n",
       "      <td>...</td>\n",
       "      <td></td>\n",
       "      <td>8</td>\n",
       "      <td></td>\n",
       "      <td></td>\n",
       "      <td></td>\n",
       "      <td>2</td>\n",
       "      <td></td>\n",
       "      <td></td>\n",
       "      <td></td>\n",
       "      <td>3</td>\n",
       "    </tr>\n",
       "    <tr>\n",
       "      <th>180859</th>\n",
       "      <td>17</td>\n",
       "      <td>59</td>\n",
       "      <td>5900</td>\n",
       "      <td>40880</td>\n",
       "      <td>2</td>\n",
       "      <td>207.7395</td>\n",
       "      <td>4</td>\n",
       "      <td>2016</td>\n",
       "      <td>258</td>\n",
       "      <td>1</td>\n",
       "      <td>...</td>\n",
       "      <td></td>\n",
       "      <td></td>\n",
       "      <td></td>\n",
       "      <td></td>\n",
       "      <td></td>\n",
       "      <td></td>\n",
       "      <td></td>\n",
       "      <td></td>\n",
       "      <td></td>\n",
       "      <td></td>\n",
       "    </tr>\n",
       "    <tr>\n",
       "      <th>180860</th>\n",
       "      <td>17</td>\n",
       "      <td>59</td>\n",
       "      <td>5900</td>\n",
       "      <td>40880</td>\n",
       "      <td>2</td>\n",
       "      <td>207.7395</td>\n",
       "      <td>4</td>\n",
       "      <td>2016</td>\n",
       "      <td>258</td>\n",
       "      <td>1</td>\n",
       "      <td>...</td>\n",
       "      <td></td>\n",
       "      <td></td>\n",
       "      <td></td>\n",
       "      <td></td>\n",
       "      <td></td>\n",
       "      <td></td>\n",
       "      <td></td>\n",
       "      <td></td>\n",
       "      <td></td>\n",
       "      <td></td>\n",
       "    </tr>\n",
       "    <tr>\n",
       "      <th>180861</th>\n",
       "      <td>17</td>\n",
       "      <td>59</td>\n",
       "      <td>5900</td>\n",
       "      <td>40880</td>\n",
       "      <td>2</td>\n",
       "      <td>277.5219</td>\n",
       "      <td>4</td>\n",
       "      <td>2016</td>\n",
       "      <td>258</td>\n",
       "      <td>1</td>\n",
       "      <td>...</td>\n",
       "      <td></td>\n",
       "      <td></td>\n",
       "      <td></td>\n",
       "      <td></td>\n",
       "      <td></td>\n",
       "      <td></td>\n",
       "      <td></td>\n",
       "      <td>1</td>\n",
       "      <td>01</td>\n",
       "      <td>1</td>\n",
       "    </tr>\n",
       "  </tbody>\n",
       "</table>\n",
       "<p>5 rows × 50 columns</p>\n",
       "</div>"
      ],
      "text/plain": [
       "        PUFREG  PUFPRV  PUFPRRCD  PUFHHNUM  PUFURB2K10  PUFPWGTFIN  PUFSVYMO  \\\n",
       "180857      17      59      5900     40880           2    239.4341         4   \n",
       "180858      17      59      5900     40880           2    189.8885         4   \n",
       "180859      17      59      5900     40880           2    207.7395         4   \n",
       "180860      17      59      5900     40880           2    207.7395         4   \n",
       "180861      17      59      5900     40880           2    277.5219         4   \n",
       "\n",
       "        PUFSVYYR  PUFPSU  PUFRPL  ...  PUFC33_WEEKS  PUFC34_WYNOT  \\\n",
       "180857      2016     258       1  ...                               \n",
       "180858      2016     258       1  ...                           8   \n",
       "180859      2016     258       1  ...                               \n",
       "180860      2016     258       1  ...                               \n",
       "180861      2016     258       1  ...                               \n",
       "\n",
       "        PUFC35_LTLOOKW  PUFC36_AVAIL  PUFC37_WILLING PUFC38_PREVJOB  \\\n",
       "180857                                                                \n",
       "180858                                                            2   \n",
       "180859                                                                \n",
       "180860                                                                \n",
       "180861                                                                \n",
       "\n",
       "       PUFC40_POCC PUFC41_WQTR PUFC43_QKB PUFNEWEMPSTAT  \n",
       "180857                       1         50             1  \n",
       "180858                                                3  \n",
       "180859                                                   \n",
       "180860                                                   \n",
       "180861                       1         01             1  \n",
       "\n",
       "[5 rows x 50 columns]"
      ]
     },
     "execution_count": 4,
     "metadata": {},
     "output_type": "execute_result"
    }
   ],
   "source": [
    "labor_df.tail(5)"
   ]
  },
  {
   "cell_type": "code",
   "execution_count": 5,
   "metadata": {},
   "outputs": [
    {
     "data": {
      "application/vnd.microsoft.datawrangler.viewer.v0+json": {
       "columns": [
        {
         "name": "index",
         "rawType": "object",
         "type": "string"
        },
        {
         "name": "PUFREG",
         "rawType": "float64",
         "type": "float"
        },
        {
         "name": "PUFPRV",
         "rawType": "float64",
         "type": "float"
        },
        {
         "name": "PUFPRRCD",
         "rawType": "float64",
         "type": "float"
        },
        {
         "name": "PUFHHNUM",
         "rawType": "float64",
         "type": "float"
        },
        {
         "name": "PUFURB2K10",
         "rawType": "float64",
         "type": "float"
        },
        {
         "name": "PUFPWGTFIN",
         "rawType": "float64",
         "type": "float"
        },
        {
         "name": "PUFSVYMO",
         "rawType": "float64",
         "type": "float"
        },
        {
         "name": "PUFSVYYR",
         "rawType": "float64",
         "type": "float"
        },
        {
         "name": "PUFPSU",
         "rawType": "float64",
         "type": "float"
        },
        {
         "name": "PUFRPL",
         "rawType": "float64",
         "type": "float"
        },
        {
         "name": "PUFHHSIZE",
         "rawType": "float64",
         "type": "float"
        },
        {
         "name": "PUFC01_LNO",
         "rawType": "float64",
         "type": "float"
        },
        {
         "name": "PUFC03_REL",
         "rawType": "float64",
         "type": "float"
        },
        {
         "name": "PUFC04_SEX",
         "rawType": "float64",
         "type": "float"
        },
        {
         "name": "PUFC05_AGE",
         "rawType": "float64",
         "type": "float"
        }
       ],
       "conversionMethod": "pd.DataFrame",
       "ref": "3dc4357a-ea8c-4b27-86f0-a12c3a683406",
       "rows": [
        [
         "count",
         "180862.0",
         "180862.0",
         "180862.0",
         "180862.0",
         "180862.0",
         "180862.0",
         "180862.0",
         "180862.0",
         "180862.0",
         "180862.0",
         "180862.0",
         "180862.0",
         "180862.0",
         "180862.0",
         "180862.0"
        ],
        [
         "mean",
         "9.398801296015748",
         "45.8253087989738",
         "4585.055323948646",
         "20528.231872919685",
         "1.574946644402915",
         "568.5271687352788",
         "4.0",
         "2016.0",
         "386.27027236235364",
         "2.490379405292433",
         "5.504782651966693",
         "3.2523913259833463",
         "2.9314892017118024",
         "1.4938737822206987",
         "27.88977231259192"
        ],
        [
         "std",
         "4.66703429449623",
         "24.93976749836276",
         "2494.0287333277706",
         "11827.708144104949",
         "0.4943524569704731",
         "508.51933097854527",
         "0.0",
         "0.0",
         "440.1600447550768",
         "1.1189695364836243",
         "2.3701693807438438",
         "2.0771295425111913",
         "1.8322988459959513",
         "0.4999638502184007",
         "20.052132432987722"
        ],
        [
         "min",
         "1.0",
         "1.0",
         "100.0",
         "1.0",
         "1.0",
         "34.9984",
         "4.0",
         "2016.0",
         "1.0",
         "1.0",
         "1.0",
         "1.0",
         "1.0",
         "1.0",
         "0.0"
        ],
        [
         "25%",
         "5.0",
         "24.0",
         "2402.0",
         "10256.25",
         "1.0",
         "245.06597499999998",
         "4.0",
         "2016.0",
         "107.0",
         "1.0",
         "4.0",
         "2.0",
         "2.0",
         "1.0",
         "11.0"
        ],
        [
         "50%",
         "10.0",
         "46.0",
         "4600.0",
         "20406.0",
         "2.0",
         "392.9935",
         "4.0",
         "2016.0",
         "243.0",
         "2.0",
         "5.0",
         "3.0",
         "3.0",
         "1.0",
         "24.0"
        ],
        [
         "75%",
         "13.0",
         "71.0",
         "7100.0",
         "30962.0",
         "2.0",
         "679.5267749999999",
         "4.0",
         "2016.0",
         "482.0",
         "3.0",
         "7.0",
         "4.0",
         "3.0",
         "2.0",
         "42.0"
        ],
        [
         "max",
         "17.0",
         "98.0",
         "9804.0",
         "40880.0",
         "2.0",
         "4509.316",
         "4.0",
         "2016.0",
         "3053.0",
         "4.0",
         "23.0",
         "23.0",
         "11.0",
         "2.0",
         "99.0"
        ]
       ],
       "shape": {
        "columns": 15,
        "rows": 8
       }
      },
      "text/html": [
       "<div>\n",
       "<style scoped>\n",
       "    .dataframe tbody tr th:only-of-type {\n",
       "        vertical-align: middle;\n",
       "    }\n",
       "\n",
       "    .dataframe tbody tr th {\n",
       "        vertical-align: top;\n",
       "    }\n",
       "\n",
       "    .dataframe thead th {\n",
       "        text-align: right;\n",
       "    }\n",
       "</style>\n",
       "<table border=\"1\" class=\"dataframe\">\n",
       "  <thead>\n",
       "    <tr style=\"text-align: right;\">\n",
       "      <th></th>\n",
       "      <th>PUFREG</th>\n",
       "      <th>PUFPRV</th>\n",
       "      <th>PUFPRRCD</th>\n",
       "      <th>PUFHHNUM</th>\n",
       "      <th>PUFURB2K10</th>\n",
       "      <th>PUFPWGTFIN</th>\n",
       "      <th>PUFSVYMO</th>\n",
       "      <th>PUFSVYYR</th>\n",
       "      <th>PUFPSU</th>\n",
       "      <th>PUFRPL</th>\n",
       "      <th>PUFHHSIZE</th>\n",
       "      <th>PUFC01_LNO</th>\n",
       "      <th>PUFC03_REL</th>\n",
       "      <th>PUFC04_SEX</th>\n",
       "      <th>PUFC05_AGE</th>\n",
       "    </tr>\n",
       "  </thead>\n",
       "  <tbody>\n",
       "    <tr>\n",
       "      <th>count</th>\n",
       "      <td>180862.000000</td>\n",
       "      <td>180862.000000</td>\n",
       "      <td>180862.000000</td>\n",
       "      <td>180862.000000</td>\n",
       "      <td>180862.000000</td>\n",
       "      <td>180862.000000</td>\n",
       "      <td>180862.0</td>\n",
       "      <td>180862.0</td>\n",
       "      <td>180862.000000</td>\n",
       "      <td>180862.000000</td>\n",
       "      <td>180862.000000</td>\n",
       "      <td>180862.000000</td>\n",
       "      <td>180862.000000</td>\n",
       "      <td>180862.000000</td>\n",
       "      <td>180862.000000</td>\n",
       "    </tr>\n",
       "    <tr>\n",
       "      <th>mean</th>\n",
       "      <td>9.398801</td>\n",
       "      <td>45.825309</td>\n",
       "      <td>4585.055324</td>\n",
       "      <td>20528.231873</td>\n",
       "      <td>1.574947</td>\n",
       "      <td>568.527169</td>\n",
       "      <td>4.0</td>\n",
       "      <td>2016.0</td>\n",
       "      <td>386.270272</td>\n",
       "      <td>2.490379</td>\n",
       "      <td>5.504783</td>\n",
       "      <td>3.252391</td>\n",
       "      <td>2.931489</td>\n",
       "      <td>1.493874</td>\n",
       "      <td>27.889772</td>\n",
       "    </tr>\n",
       "    <tr>\n",
       "      <th>std</th>\n",
       "      <td>4.667034</td>\n",
       "      <td>24.939767</td>\n",
       "      <td>2494.028733</td>\n",
       "      <td>11827.708144</td>\n",
       "      <td>0.494352</td>\n",
       "      <td>508.519331</td>\n",
       "      <td>0.0</td>\n",
       "      <td>0.0</td>\n",
       "      <td>440.160045</td>\n",
       "      <td>1.118970</td>\n",
       "      <td>2.370169</td>\n",
       "      <td>2.077130</td>\n",
       "      <td>1.832299</td>\n",
       "      <td>0.499964</td>\n",
       "      <td>20.052132</td>\n",
       "    </tr>\n",
       "    <tr>\n",
       "      <th>min</th>\n",
       "      <td>1.000000</td>\n",
       "      <td>1.000000</td>\n",
       "      <td>100.000000</td>\n",
       "      <td>1.000000</td>\n",
       "      <td>1.000000</td>\n",
       "      <td>34.998400</td>\n",
       "      <td>4.0</td>\n",
       "      <td>2016.0</td>\n",
       "      <td>1.000000</td>\n",
       "      <td>1.000000</td>\n",
       "      <td>1.000000</td>\n",
       "      <td>1.000000</td>\n",
       "      <td>1.000000</td>\n",
       "      <td>1.000000</td>\n",
       "      <td>0.000000</td>\n",
       "    </tr>\n",
       "    <tr>\n",
       "      <th>25%</th>\n",
       "      <td>5.000000</td>\n",
       "      <td>24.000000</td>\n",
       "      <td>2402.000000</td>\n",
       "      <td>10256.250000</td>\n",
       "      <td>1.000000</td>\n",
       "      <td>245.065975</td>\n",
       "      <td>4.0</td>\n",
       "      <td>2016.0</td>\n",
       "      <td>107.000000</td>\n",
       "      <td>1.000000</td>\n",
       "      <td>4.000000</td>\n",
       "      <td>2.000000</td>\n",
       "      <td>2.000000</td>\n",
       "      <td>1.000000</td>\n",
       "      <td>11.000000</td>\n",
       "    </tr>\n",
       "    <tr>\n",
       "      <th>50%</th>\n",
       "      <td>10.000000</td>\n",
       "      <td>46.000000</td>\n",
       "      <td>4600.000000</td>\n",
       "      <td>20406.000000</td>\n",
       "      <td>2.000000</td>\n",
       "      <td>392.993500</td>\n",
       "      <td>4.0</td>\n",
       "      <td>2016.0</td>\n",
       "      <td>243.000000</td>\n",
       "      <td>2.000000</td>\n",
       "      <td>5.000000</td>\n",
       "      <td>3.000000</td>\n",
       "      <td>3.000000</td>\n",
       "      <td>1.000000</td>\n",
       "      <td>24.000000</td>\n",
       "    </tr>\n",
       "    <tr>\n",
       "      <th>75%</th>\n",
       "      <td>13.000000</td>\n",
       "      <td>71.000000</td>\n",
       "      <td>7100.000000</td>\n",
       "      <td>30962.000000</td>\n",
       "      <td>2.000000</td>\n",
       "      <td>679.526775</td>\n",
       "      <td>4.0</td>\n",
       "      <td>2016.0</td>\n",
       "      <td>482.000000</td>\n",
       "      <td>3.000000</td>\n",
       "      <td>7.000000</td>\n",
       "      <td>4.000000</td>\n",
       "      <td>3.000000</td>\n",
       "      <td>2.000000</td>\n",
       "      <td>42.000000</td>\n",
       "    </tr>\n",
       "    <tr>\n",
       "      <th>max</th>\n",
       "      <td>17.000000</td>\n",
       "      <td>98.000000</td>\n",
       "      <td>9804.000000</td>\n",
       "      <td>40880.000000</td>\n",
       "      <td>2.000000</td>\n",
       "      <td>4509.316000</td>\n",
       "      <td>4.0</td>\n",
       "      <td>2016.0</td>\n",
       "      <td>3053.000000</td>\n",
       "      <td>4.000000</td>\n",
       "      <td>23.000000</td>\n",
       "      <td>23.000000</td>\n",
       "      <td>11.000000</td>\n",
       "      <td>2.000000</td>\n",
       "      <td>99.000000</td>\n",
       "    </tr>\n",
       "  </tbody>\n",
       "</table>\n",
       "</div>"
      ],
      "text/plain": [
       "              PUFREG         PUFPRV       PUFPRRCD       PUFHHNUM  \\\n",
       "count  180862.000000  180862.000000  180862.000000  180862.000000   \n",
       "mean        9.398801      45.825309    4585.055324   20528.231873   \n",
       "std         4.667034      24.939767    2494.028733   11827.708144   \n",
       "min         1.000000       1.000000     100.000000       1.000000   \n",
       "25%         5.000000      24.000000    2402.000000   10256.250000   \n",
       "50%        10.000000      46.000000    4600.000000   20406.000000   \n",
       "75%        13.000000      71.000000    7100.000000   30962.000000   \n",
       "max        17.000000      98.000000    9804.000000   40880.000000   \n",
       "\n",
       "          PUFURB2K10     PUFPWGTFIN  PUFSVYMO  PUFSVYYR         PUFPSU  \\\n",
       "count  180862.000000  180862.000000  180862.0  180862.0  180862.000000   \n",
       "mean        1.574947     568.527169       4.0    2016.0     386.270272   \n",
       "std         0.494352     508.519331       0.0       0.0     440.160045   \n",
       "min         1.000000      34.998400       4.0    2016.0       1.000000   \n",
       "25%         1.000000     245.065975       4.0    2016.0     107.000000   \n",
       "50%         2.000000     392.993500       4.0    2016.0     243.000000   \n",
       "75%         2.000000     679.526775       4.0    2016.0     482.000000   \n",
       "max         2.000000    4509.316000       4.0    2016.0    3053.000000   \n",
       "\n",
       "              PUFRPL      PUFHHSIZE     PUFC01_LNO     PUFC03_REL  \\\n",
       "count  180862.000000  180862.000000  180862.000000  180862.000000   \n",
       "mean        2.490379       5.504783       3.252391       2.931489   \n",
       "std         1.118970       2.370169       2.077130       1.832299   \n",
       "min         1.000000       1.000000       1.000000       1.000000   \n",
       "25%         1.000000       4.000000       2.000000       2.000000   \n",
       "50%         2.000000       5.000000       3.000000       3.000000   \n",
       "75%         3.000000       7.000000       4.000000       3.000000   \n",
       "max         4.000000      23.000000      23.000000      11.000000   \n",
       "\n",
       "          PUFC04_SEX     PUFC05_AGE  \n",
       "count  180862.000000  180862.000000  \n",
       "mean        1.493874      27.889772  \n",
       "std         0.499964      20.052132  \n",
       "min         1.000000       0.000000  \n",
       "25%         1.000000      11.000000  \n",
       "50%         1.000000      24.000000  \n",
       "75%         2.000000      42.000000  \n",
       "max         2.000000      99.000000  "
      ]
     },
     "execution_count": 5,
     "metadata": {},
     "output_type": "execute_result"
    }
   ],
   "source": [
    "labor_df.describe()"
   ]
  },
  {
   "cell_type": "code",
   "execution_count": 6,
   "metadata": {},
   "outputs": [
    {
     "name": "stdout",
     "output_type": "stream",
     "text": [
      "<class 'pandas.core.frame.DataFrame'>\n",
      "RangeIndex: 180862 entries, 0 to 180861\n",
      "Data columns (total 50 columns):\n",
      " #   Column           Non-Null Count   Dtype  \n",
      "---  ------           --------------   -----  \n",
      " 0   PUFREG           180862 non-null  int64  \n",
      " 1   PUFPRV           180862 non-null  int64  \n",
      " 2   PUFPRRCD         180862 non-null  int64  \n",
      " 3   PUFHHNUM         180862 non-null  int64  \n",
      " 4   PUFURB2K10       180862 non-null  int64  \n",
      " 5   PUFPWGTFIN       180862 non-null  float64\n",
      " 6   PUFSVYMO         180862 non-null  int64  \n",
      " 7   PUFSVYYR         180862 non-null  int64  \n",
      " 8   PUFPSU           180862 non-null  int64  \n",
      " 9   PUFRPL           180862 non-null  int64  \n",
      " 10  PUFHHSIZE        180862 non-null  int64  \n",
      " 11  PUFC01_LNO       180862 non-null  int64  \n",
      " 12  PUFC03_REL       180862 non-null  int64  \n",
      " 13  PUFC04_SEX       180862 non-null  int64  \n",
      " 14  PUFC05_AGE       180862 non-null  int64  \n",
      " 15  PUFC06_MSTAT     180862 non-null  object \n",
      " 16  PUFC07_GRADE     180862 non-null  object \n",
      " 17  PUFC08_CURSCH    180862 non-null  object \n",
      " 18  PUFC09_GRADTECH  180862 non-null  object \n",
      " 19  PUFC10_CONWR     180862 non-null  object \n",
      " 20  PUFC11_WORK      180862 non-null  object \n",
      " 21  PUFC12_JOB       180862 non-null  object \n",
      " 22  PUFC14_PROCC     180862 non-null  object \n",
      " 23  PUFC16_PKB       180862 non-null  object \n",
      " 24  PUFC17_NATEM     180862 non-null  object \n",
      " 25  PUFC18_PNWHRS    180862 non-null  object \n",
      " 26  PUFC19_PHOURS    180862 non-null  object \n",
      " 27  PUFC20_PWMORE    180862 non-null  object \n",
      " 28  PUFC21_PLADDW    180862 non-null  object \n",
      " 29  PUFC22_PFWRK     180862 non-null  object \n",
      " 30  PUFC23_PCLASS    180862 non-null  object \n",
      " 31  PUFC24_PBASIS    180862 non-null  object \n",
      " 32  PUFC25_PBASIC    180862 non-null  object \n",
      " 33  PUFC26_OJOB      180862 non-null  object \n",
      " 34  PUFC27_NJOBS     180862 non-null  object \n",
      " 35  PUFC28_THOURS    180862 non-null  object \n",
      " 36  PUFC29_WWM48H    180862 non-null  object \n",
      " 37  PUFC30_LOOKW     180862 non-null  object \n",
      " 38  PUFC31_FLWRK     180862 non-null  object \n",
      " 39  PUFC32_JOBSM     180862 non-null  object \n",
      " 40  PUFC33_WEEKS     180862 non-null  object \n",
      " 41  PUFC34_WYNOT     180862 non-null  object \n",
      " 42  PUFC35_LTLOOKW   180862 non-null  object \n",
      " 43  PUFC36_AVAIL     180862 non-null  object \n",
      " 44  PUFC37_WILLING   180862 non-null  object \n",
      " 45  PUFC38_PREVJOB   180862 non-null  object \n",
      " 46  PUFC40_POCC      180862 non-null  object \n",
      " 47  PUFC41_WQTR      180862 non-null  object \n",
      " 48  PUFC43_QKB       180862 non-null  object \n",
      " 49  PUFNEWEMPSTAT    180862 non-null  object \n",
      "dtypes: float64(1), int64(14), object(35)\n",
      "memory usage: 69.0+ MB\n"
     ]
    }
   ],
   "source": [
    "labor_df.info()"
   ]
  },
  {
   "cell_type": "markdown",
   "metadata": {},
   "source": [
    "Now that we are able to manually observe the dataset, we can now move on to querying for data inconsistencies"
   ]
  },
  {
   "cell_type": "markdown",
   "metadata": {},
   "source": [
    "#### Inconsistencies Overview"
   ]
  },
  {
   "cell_type": "markdown",
   "metadata": {},
   "source": [
    "Before we continue, let's first convert object to category type.\n"
   ]
  },
  {
   "cell_type": "code",
   "execution_count": 7,
   "metadata": {},
   "outputs": [],
   "source": [
    "# for col in labor_df.select_dtypes(include=['object']).columns:\n",
    "#     labor_df[col] = labor_df[col].astype('category')"
   ]
  },
  {
   "cell_type": "code",
   "execution_count": 8,
   "metadata": {},
   "outputs": [
    {
     "name": "stdout",
     "output_type": "stream",
     "text": [
      "                 Missing Values  Percentage\n",
      "PUFC06_MSTAT              18339   10.139775\n",
      "PUFC08_CURSCH            107137   59.236877\n",
      "PUFC09_GRADTECH           57782   31.948115\n",
      "PUFC10_CONWR              57782   31.948115\n",
      "PUFC11_WORK               21894   12.105362\n",
      "PUFC12_JOB                93306   51.589610\n",
      "PUFC17_NATEM             109507   60.547268\n",
      "PUFC20_PWMORE            109507   60.547268\n",
      "PUFC21_PLADDW            109507   60.547268\n",
      "PUFC22_PFWRK             109507   60.547268\n",
      "PUFC23_PCLASS            109507   60.547268\n",
      "PUFC24_PBASIS            138947   76.824872\n",
      "PUFC26_OJOB              109507   60.547268\n",
      "PUFC27_NJOBS             174924   96.716834\n",
      "PUFC29_WWM48H            163629   90.471741\n",
      "PUFC30_LOOKW             132692   73.366434\n",
      "PUFC31_FLWRK             178569   98.732183\n",
      "PUFC32_JOBSM             178569   98.732183\n",
      "PUFC34_WYNOT             134985   74.634252\n",
      "PUFC35_LTLOOKW           179269   99.119218\n",
      "PUFC36_AVAIL             174893   96.699694\n",
      "PUFC37_WILLING           174893   96.699694\n",
      "PUFC38_PREVJOB           132692   73.366434\n",
      "PUFC41_WQTR               81627   45.132200\n",
      "PUFNEWEMPSTAT             61337   33.913702\n"
     ]
    }
   ],
   "source": [
    "labor_df.replace(\" \", np.nan, inplace=True)\n",
    "\n",
    "missing_data = labor_df.isnull().sum()\n",
    "missing_percentage = (missing_data / len(labor_df)) * 100\n",
    "\n",
    "missing_df = pd.DataFrame({'Missing Values': missing_data, 'Percentage': missing_percentage})\n",
    "missing_df = missing_df[missing_df['Missing Values'] > 0]\n",
    "\n",
    "print(missing_df)"
   ]
  },
  {
   "cell_type": "markdown",
   "metadata": {},
   "source": [
    "First, we look if there are any missing values in case we need to impute or remove. Here we can see that there is a lot of missing data from specific features. But how do we choose which to impute and which to remove. By looking at the percentages, and considering which features are of importance we can start removing data with missing values greater or equal to 40%. But for those with data missing less than 40%, we can opt to impute."
   ]
  },
  {
   "cell_type": "code",
   "execution_count": 9,
   "metadata": {},
   "outputs": [],
   "source": [
    "columns_to_drop = [\n",
    "    'PUFC08_CURSCH', 'PUFC12_JOB', 'PUFC17_NATEM', 'PUFC20_PWMORE', 'PUFC21_PLADDW',\n",
    "    'PUFC22_PFWRK', 'PUFC23_PCLASS', 'PUFC24_PBASIS', 'PUFC26_OJOB', 'PUFC27_NJOBS',\n",
    "    'PUFC29_WWM48H', 'PUFC30_LOOKW', 'PUFC31_FLWRK', 'PUFC32_JOBSM', 'PUFC34_WYNOT',\n",
    "    'PUFC35_LTLOOKW', 'PUFC36_AVAIL', 'PUFC37_WILLING', 'PUFC38_PREVJOB', 'PUFC41_WQTR'\n",
    "]\n",
    "\n",
    "labor_df.drop(columns=columns_to_drop, inplace=True)"
   ]
  },
  {
   "cell_type": "code",
   "execution_count": 10,
   "metadata": {},
   "outputs": [],
   "source": [
    "categorical_cols_to_impute = ['PUFC06_MSTAT', 'PUFC09_GRADTECH', 'PUFC10_CONWR', 'PUFC11_WORK', 'PUFNEWEMPSTAT']\n",
    "\n",
    "for col in categorical_cols_to_impute:\n",
    "    labor_df.loc[:, col] = labor_df[col].fillna(labor_df[col].mode()[0])"
   ]
  },
  {
   "cell_type": "markdown",
   "metadata": {},
   "source": [
    "Now we will fix datatypes of some important features that we will be using "
   ]
  },
  {
   "cell_type": "markdown",
   "metadata": {},
   "source": [
    "Based on https://elibrary.judiciary.gov.ph/thebookshelf/showdocs/10/74561, it is said that any people under the age of 15 are not allowed to work/part time. So we plan to remove all ages under 15 in the dataset."
   ]
  },
  {
   "cell_type": "code",
   "execution_count": 11,
   "metadata": {},
   "outputs": [],
   "source": [
    "labor_df = labor_df[labor_df['PUFC05_AGE'] >= 15]"
   ]
  },
  {
   "cell_type": "markdown",
   "metadata": {},
   "source": [
    "Basic income will be our target for models, there are a lot of whitespaces/empty string and it is not in the correct datatype."
   ]
  },
  {
   "cell_type": "code",
   "execution_count": 12,
   "metadata": {},
   "outputs": [],
   "source": [
    "# contains many whitespaces as null values\n",
    "\n",
    "labor_df['PUFC25_PBASIC'] = labor_df['PUFC25_PBASIC'].astype(str).replace('     ','')\n",
    "\n",
    "# remove rows where user is employed but no pay (38322 rows)\n",
    "labor_df = labor_df[~ ((labor_df['PUFNEWEMPSTAT'] == '1') & (labor_df['PUFC25_PBASIC'] == '')) ]\n",
    "\n",
    "# # default value of 0\n",
    "labor_df['PUFC25_PBASIC'] = labor_df['PUFC25_PBASIC'].replace('', '0').astype(int)\n",
    "assert (labor_df.shape[0] == (123080 - 38322))"
   ]
  },
  {
   "cell_type": "code",
   "execution_count": 13,
   "metadata": {},
   "outputs": [
    {
     "name": "stdout",
     "output_type": "stream",
     "text": [
      "Remaining Missing Values After Cleaning:\n",
      "Series([], dtype: int64)\n"
     ]
    }
   ],
   "source": [
    "missing_values = labor_df.isnull().sum()  # Compute once\n",
    "missing_values = missing_values[missing_values > 0]  # Filter only missing columns\n",
    "\n",
    "print(\"Remaining Missing Values After Cleaning:\")\n",
    "print(missing_values)\n"
   ]
  },
  {
   "cell_type": "markdown",
   "metadata": {},
   "source": [
    "After dropping features and imputing for some, there are no more missing data. We can now proceed for checking if there are any duplicated data. For this dataset, there should be little concern over duplicated data unless there are records of the same person from the same household, which can be seen as such below."
   ]
  },
  {
   "cell_type": "code",
   "execution_count": 14,
   "metadata": {},
   "outputs": [
    {
     "name": "stdout",
     "output_type": "stream",
     "text": [
      "Number of duplicate individual records in the same household: 0\n"
     ]
    }
   ],
   "source": [
    "duplicate_household_members = labor_df.duplicated(subset=['PUFHHNUM', 'PUFC01_LNO'], keep=False)\n",
    "\n",
    "print(\"Number of duplicate individual records in the same household:\", duplicate_household_members.sum())"
   ]
  },
  {
   "cell_type": "markdown",
   "metadata": {},
   "source": [
    "Finally, now that we've dropped and imputed the missing data we can now deal with outliers."
   ]
  },
  {
   "cell_type": "code",
   "execution_count": 15,
   "metadata": {},
   "outputs": [
    {
     "name": "stdout",
     "output_type": "stream",
     "text": [
      "Skewness: \n",
      "PUFREG           -0.146002\n",
      "PUFPRV           -0.156649\n",
      "PUFPRRCD         -0.157409\n",
      "PUFHHNUM         -0.028835\n",
      "PUFURB2K10       -0.024260\n",
      "PUFPWGTFIN        1.976632\n",
      "PUFSVYMO          0.000000\n",
      "PUFSVYYR          0.000000\n",
      "PUFPSU            2.329415\n",
      "PUFRPL            0.008026\n",
      "PUFHHSIZE         0.932853\n",
      "PUFC01_LNO        1.615803\n",
      "PUFC03_REL        1.915582\n",
      "PUFC04_SEX       -0.166508\n",
      "PUFC05_AGE        0.913579\n",
      "PUFC25_PBASIC    40.782024\n",
      "dtype: float64\n"
     ]
    }
   ],
   "source": [
    "print(\"Skewness: \")\n",
    "numeric_labor_df = labor_df.select_dtypes(include=np.number)\n",
    "print(numeric_labor_df.skew())"
   ]
  },
  {
   "cell_type": "code",
   "execution_count": 16,
   "metadata": {},
   "outputs": [
    {
     "name": "stdout",
     "output_type": "stream",
     "text": [
      "PUFPWGTFIN    0.264673\n",
      "PUFPSU       -0.647807\n",
      "PUFC03_REL    0.661569\n",
      "dtype: float64\n"
     ]
    }
   ],
   "source": [
    "log_transform_cols = ['PUFPWGTFIN', 'PUFPSU', 'PUFC03_REL']\n",
    "for col in log_transform_cols:\n",
    "    labor_df[col] = np.log1p(labor_df[col])\n",
    "\n",
    "print(labor_df[log_transform_cols].skew())"
   ]
  },
  {
   "cell_type": "markdown",
   "metadata": {},
   "source": [
    "# **Section 5. Exploratory Data Analysis**"
   ]
  },
  {
   "cell_type": "markdown",
   "metadata": {},
   "source": [
    "First, let us view the columns that are left after the Data Cleaning and Processing."
   ]
  },
  {
   "cell_type": "code",
   "execution_count": 17,
   "metadata": {},
   "outputs": [
    {
     "name": "stdout",
     "output_type": "stream",
     "text": [
      "<class 'pandas.core.frame.DataFrame'>\n",
      "Index: 84758 entries, 2 to 180858\n",
      "Data columns (total 30 columns):\n",
      " #   Column           Non-Null Count  Dtype  \n",
      "---  ------           --------------  -----  \n",
      " 0   PUFREG           84758 non-null  int64  \n",
      " 1   PUFPRV           84758 non-null  int64  \n",
      " 2   PUFPRRCD         84758 non-null  int64  \n",
      " 3   PUFHHNUM         84758 non-null  int64  \n",
      " 4   PUFURB2K10       84758 non-null  int64  \n",
      " 5   PUFPWGTFIN       84758 non-null  float64\n",
      " 6   PUFSVYMO         84758 non-null  int64  \n",
      " 7   PUFSVYYR         84758 non-null  int64  \n",
      " 8   PUFPSU           84758 non-null  float64\n",
      " 9   PUFRPL           84758 non-null  int64  \n",
      " 10  PUFHHSIZE        84758 non-null  int64  \n",
      " 11  PUFC01_LNO       84758 non-null  int64  \n",
      " 12  PUFC03_REL       84758 non-null  float64\n",
      " 13  PUFC04_SEX       84758 non-null  int64  \n",
      " 14  PUFC05_AGE       84758 non-null  int64  \n",
      " 15  PUFC06_MSTAT     84758 non-null  object \n",
      " 16  PUFC07_GRADE     84758 non-null  object \n",
      " 17  PUFC09_GRADTECH  84758 non-null  object \n",
      " 18  PUFC10_CONWR     84758 non-null  object \n",
      " 19  PUFC11_WORK      84758 non-null  object \n",
      " 20  PUFC14_PROCC     84758 non-null  object \n",
      " 21  PUFC16_PKB       84758 non-null  object \n",
      " 22  PUFC18_PNWHRS    84758 non-null  object \n",
      " 23  PUFC19_PHOURS    84758 non-null  object \n",
      " 24  PUFC25_PBASIC    84758 non-null  int64  \n",
      " 25  PUFC28_THOURS    84758 non-null  object \n",
      " 26  PUFC33_WEEKS     84758 non-null  object \n",
      " 27  PUFC40_POCC      84758 non-null  object \n",
      " 28  PUFC43_QKB       84758 non-null  object \n",
      " 29  PUFNEWEMPSTAT    84758 non-null  object \n",
      "dtypes: float64(3), int64(13), object(14)\n",
      "memory usage: 20.0+ MB\n"
     ]
    }
   ],
   "source": [
    "labor_df.info()"
   ]
  },
  {
   "cell_type": "markdown",
   "metadata": {},
   "source": [
    "1. For the first one, let us see the Age Distribution of the Dataset. "
   ]
  },
  {
   "cell_type": "code",
   "execution_count": 18,
   "metadata": {},
   "outputs": [
    {
     "data": {
      "image/png": "[encoded data removed]",
      "text/plain": [
       "<Figure size 800x500 with 1 Axes>"
      ]
     },
     "metadata": {},
     "output_type": "display_data"
    }
   ],
   "source": [
    "plt.figure(figsize=(8, 5))\n",
    "sns.histplot(labor_df['PUFC05_AGE'], bins=30, kde=True, color='blue')\n",
    "plt.title(\"Age Distribution in Dataset\")\n",
    "plt.xlabel(\"Age\")\n",
    "plt.ylabel(\"Count\")\n",
    "plt.show()"
   ]
  },
  {
   "cell_type": "markdown",
   "metadata": {},
   "source": [
    "2. Gender Distribution"
   ]
  },
  {
   "cell_type": "markdown",
   "metadata": {},
   "source": [
    "Now let's take a look at the gender distribution."
   ]
  },
  {
   "cell_type": "code",
   "execution_count": 19,
   "metadata": {},
   "outputs": [
    {
     "data": {
      "text/plain": [
       "count    84758.000000\n",
       "mean         1.541483\n",
       "std          0.498279\n",
       "min          1.000000\n",
       "25%          1.000000\n",
       "50%          2.000000\n",
       "75%          2.000000\n",
       "max          2.000000\n",
       "Name: PUFC04_SEX, dtype: float64"
      ]
     },
     "execution_count": 19,
     "metadata": {},
     "output_type": "execute_result"
    }
   ],
   "source": [
    "labor_df['PUFC04_SEX'].describe()"
   ]
  },
  {
   "cell_type": "markdown",
   "metadata": {},
   "source": [
    "Here let us map the gender for better visualization"
   ]
  },
  {
   "cell_type": "code",
   "execution_count": 20,
   "metadata": {},
   "outputs": [],
   "source": [
    "gender = {\n",
    "    1: \"Male\",\n",
    "    2: \"Female\",\n",
    "}\n",
    "labor_df['PUFC04_SEX'] = labor_df['PUFC04_SEX'].astype(int)\n",
    "labor_df['PUFC04_SEX'] = labor_df['PUFC04_SEX'].map(gender)"
   ]
  },
  {
   "cell_type": "code",
   "execution_count": 21,
   "metadata": {},
   "outputs": [
    {
     "data": {
      "image/png": "[encoded data removed]",
      "text/plain": [
       "<Figure size 600x400 with 1 Axes>"
      ]
     },
     "metadata": {},
     "output_type": "display_data"
    }
   ],
   "source": [
    "plt.figure(figsize=(6,4))\n",
    "sns.countplot(x='PUFC04_SEX', data=labor_df, hue='PUFC04_SEX', palette=\"coolwarm\", legend=False)\n",
    "plt.title(\"Gender Distribution\")\n",
    "plt.xlabel(\"Gender\")\n",
    "plt.ylabel(\"Count\")\n",
    "plt.show()"
   ]
  },
  {
   "cell_type": "markdown",
   "metadata": {},
   "source": [
    "3. Employment Status Distribution"
   ]
  },
  {
   "cell_type": "code",
   "execution_count": 22,
   "metadata": {},
   "outputs": [
    {
     "data": {
      "text/plain": [
       "array(['1', '3', '2'], dtype=object)"
      ]
     },
     "execution_count": 22,
     "metadata": {},
     "output_type": "execute_result"
    }
   ],
   "source": [
    "labor_df['PUFNEWEMPSTAT'].unique()"
   ]
  },
  {
   "cell_type": "markdown",
   "metadata": {},
   "source": [
    "Let us map the employment status for better visualization."
   ]
  },
  {
   "cell_type": "code",
   "execution_count": 23,
   "metadata": {},
   "outputs": [],
   "source": [
    "employment_status = {\n",
    "    \"1\": \"Employed\",\n",
    "    \"2\": \"Unemployed\",\n",
    "    \"3\": \"Not in the labor force\",\n",
    "}\n",
    "labor_df['PUFNEWEMPSTAT'] = labor_df['PUFNEWEMPSTAT'].astype(str)\n",
    "labor_df['PUFNEWEMPSTAT'] = labor_df['PUFNEWEMPSTAT'].map(employment_status)"
   ]
  },
  {
   "cell_type": "code",
   "execution_count": 24,
   "metadata": {},
   "outputs": [
    {
     "data": {
      "image/png": "[encoded data removed]",
      "text/plain": [
       "<Figure size 600x400 with 1 Axes>"
      ]
     },
     "metadata": {},
     "output_type": "display_data"
    }
   ],
   "source": [
    "plt.figure(figsize=(6,4))\n",
    "sns.countplot(x='PUFNEWEMPSTAT', data=labor_df, hue='PUFNEWEMPSTAT', palette=\"viridis\", legend=False)\n",
    "plt.title(\"Employment Status Distribution\")\n",
    "plt.xlabel(\"Employment Status\")\n",
    "plt.ylabel(\"Count\")\n",
    "plt.show()"
   ]
  },
  {
   "cell_type": "markdown",
   "metadata": {},
   "source": [
    "4. Age VS Martial Status"
   ]
  },
  {
   "cell_type": "code",
   "execution_count": 25,
   "metadata": {},
   "outputs": [
    {
     "data": {
      "text/plain": [
       "array(['1', '2', '3', '4', '6', '5'], dtype=object)"
      ]
     },
     "execution_count": 25,
     "metadata": {},
     "output_type": "execute_result"
    }
   ],
   "source": [
    "labor_df['PUFC06_MSTAT'].unique()"
   ]
  },
  {
   "cell_type": "markdown",
   "metadata": {},
   "source": [
    "Here we see that the categories are 1-6. Which based on the metadata 1 is to Single and so on and so forth. Which is included in the map below and changed for better visualization for our boxplot."
   ]
  },
  {
   "cell_type": "code",
   "execution_count": 26,
   "metadata": {},
   "outputs": [],
   "source": [
    "marital_status_map = {\n",
    "    \"1\": \"Single\",\n",
    "    \"2\": \"Married\",\n",
    "    \"3\": \"Widowed\",\n",
    "    \"4\": \"Divorced\",\n",
    "    \"5\": \"Annuled\",\n",
    "    \"6\": \"Unknown\"\n",
    "}\n",
    "\n",
    "labor_df['PUFC06_MSTAT'] = labor_df['PUFC06_MSTAT'].map(marital_status_map)"
   ]
  },
  {
   "cell_type": "code",
   "execution_count": 27,
   "metadata": {},
   "outputs": [
    {
     "data": {
      "text/plain": [
       "array(['Single', 'Married', 'Widowed', 'Divorced', 'Unknown', 'Annuled'],\n",
       "      dtype=object)"
      ]
     },
     "execution_count": 27,
     "metadata": {},
     "output_type": "execute_result"
    }
   ],
   "source": [
    "labor_df['PUFC06_MSTAT'].unique()"
   ]
  },
  {
   "cell_type": "markdown",
   "metadata": {},
   "source": [
    "As we can see here, it has been changed. we will now do a boxplot for Age and Martial Status."
   ]
  },
  {
   "cell_type": "code",
   "execution_count": 28,
   "metadata": {},
   "outputs": [
    {
     "data": {
      "image/png": "[encoded data removed]",
      "text/plain": [
       "<Figure size 1200x600 with 1 Axes>"
      ]
     },
     "metadata": {},
     "output_type": "display_data"
    }
   ],
   "source": [
    "plt.figure(figsize=(12, 6))\n",
    "sns.boxplot(x='PUFC06_MSTAT', y='PUFC05_AGE', data=labor_df)\n",
    "plt.title(\"Age Distribution by Marital Status\")\n",
    "plt.xlabel(\"Marital Status\")\n",
    "plt.ylabel(\"Age\")\n",
    "plt.show()\n"
   ]
  },
  {
   "cell_type": "markdown",
   "metadata": {},
   "source": [
    "5. Here lets take a look at the Gender Breakdown and their Employment Status"
   ]
  },
  {
   "cell_type": "markdown",
   "metadata": {},
   "source": [
    "Here it is similar to the previous EDA, let us start by mapping it to make it more visually appealing."
   ]
  },
  {
   "cell_type": "code",
   "execution_count": 29,
   "metadata": {},
   "outputs": [
    {
     "data": {
      "text/plain": [
       "array(['Employed', 'Not in the labor force', 'Unemployed'], dtype=object)"
      ]
     },
     "execution_count": 29,
     "metadata": {},
     "output_type": "execute_result"
    }
   ],
   "source": [
    "labor_df['PUFNEWEMPSTAT'].unique()"
   ]
  },
  {
   "cell_type": "code",
   "execution_count": 30,
   "metadata": {},
   "outputs": [
    {
     "data": {
      "text/plain": [
       "array(['Male', 'Female'], dtype=object)"
      ]
     },
     "execution_count": 30,
     "metadata": {},
     "output_type": "execute_result"
    }
   ],
   "source": [
    "labor_df['PUFC04_SEX'].unique() "
   ]
  },
  {
   "cell_type": "code",
   "execution_count": 31,
   "metadata": {},
   "outputs": [
    {
     "data": {
      "text/plain": [
       "array(['Male', 'Female'], dtype=object)"
      ]
     },
     "execution_count": 31,
     "metadata": {},
     "output_type": "execute_result"
    }
   ],
   "source": [
    "labor_df['PUFC04_SEX'].unique() "
   ]
  },
  {
   "cell_type": "markdown",
   "metadata": {},
   "source": [
    "After we are done with mapping them, we show a countplot with employment status by gender"
   ]
  },
  {
   "cell_type": "code",
   "execution_count": 32,
   "metadata": {},
   "outputs": [
    {
     "data": {
      "image/png": "[encoded data removed]",
      "text/plain": [
       "<Figure size 800x500 with 1 Axes>"
      ]
     },
     "metadata": {},
     "output_type": "display_data"
    }
   ],
   "source": [
    "plt.figure(figsize=(8, 5))\n",
    "sns.countplot(x='PUFNEWEMPSTAT', hue='PUFC04_SEX', data=labor_df)\n",
    "plt.title(\"Employment Status by Gender\")\n",
    "plt.xlabel(\"Employment Status\")\n",
    "plt.ylabel(\"Count\")\n",
    "plt.show()"
   ]
  },
  {
   "cell_type": "markdown",
   "metadata": {},
   "source": [
    "6. Income Distribution by Gender"
   ]
  },
  {
   "cell_type": "code",
   "execution_count": 33,
   "metadata": {},
   "outputs": [
    {
     "data": {
      "text/plain": [
       "array([ 250,  115,  200, ...,  728, 1573,  922], shape=(1152,))"
      ]
     },
     "execution_count": 33,
     "metadata": {},
     "output_type": "execute_result"
    }
   ],
   "source": [
    "labor_df['PUFC25_PBASIC'].unique()"
   ]
  },
  {
   "cell_type": "code",
   "execution_count": 34,
   "metadata": {},
   "outputs": [
    {
     "data": {
      "image/png": "[encoded data removed]",
      "text/plain": [
       "<Figure size 800x500 with 1 Axes>"
      ]
     },
     "metadata": {},
     "output_type": "display_data"
    }
   ],
   "source": [
    "plt.figure(figsize=(8, 5))\n",
    "sns.boxplot(x='PUFC04_SEX', y='PUFC25_PBASIC', data=labor_df)\n",
    "plt.yscale(\"log\")  \n",
    "plt.title(\"Income Distribution by Gender\")\n",
    "plt.xlabel(\"Gender\")\n",
    "plt.ylabel(\"Basic Pay\")\n",
    "plt.show()"
   ]
  },
  {
   "cell_type": "markdown",
   "metadata": {},
   "source": [
    "7. Working Hours Analysis\n"
   ]
  },
  {
   "cell_type": "markdown",
   "metadata": {},
   "source": [
    "First let's check the unique for both PUFC18_PNWHRS and PUFC19_PHOURS"
   ]
  },
  {
   "cell_type": "code",
   "execution_count": 35,
   "metadata": {},
   "outputs": [
    {
     "data": {
      "text/plain": [
       "array(['08', '12', '  ', '04', '10', '09', '06', '03', '05', '07', '01',\n",
       "       '02', '15', '11', '14', '16', '13'], dtype=object)"
      ]
     },
     "execution_count": 35,
     "metadata": {},
     "output_type": "execute_result"
    }
   ],
   "source": [
    "labor_df['PUFC18_PNWHRS'].unique()"
   ]
  },
  {
   "cell_type": "code",
   "execution_count": 36,
   "metadata": {},
   "outputs": [
    {
     "data": {
      "text/plain": [
       "array(['024', '072', '048', '   ', '060', '016', '040', '070', '045',\n",
       "       '032', '054', '042', '006', '028', '008', '030', '056', '036',\n",
       "       '020', '015', '009', '021', '084', '000', '050', '018', '012',\n",
       "       '014', '004', '035', '044', '090', '077', '049', '025', '052',\n",
       "       '064', '059', '057', '010', '027', '063', '066', '003', '112',\n",
       "       '096', '078', '091', '098', '022', '055', '007', '002', '058',\n",
       "       '005', '075', '033', '105', '062', '031', '011', '034', '026',\n",
       "       '094', '065', '001', '039', '041', '092', '046', '038', '051',\n",
       "       '080', '074', '068', '061', '019', '088', '069', '073', '082',\n",
       "       '013', '081', '053', '043', '047', '067', '037', '108'],\n",
       "      dtype=object)"
      ]
     },
     "execution_count": 36,
     "metadata": {},
     "output_type": "execute_result"
    }
   ],
   "source": [
    "labor_df['PUFC19_PHOURS'].unique()"
   ]
  },
  {
   "cell_type": "markdown",
   "metadata": {},
   "source": [
    "As we can see, the Normal Working Hours and Number of Hours Worked during the past week looks quite normal with a bit of outlier as there are some that are either too low, or too high"
   ]
  },
  {
   "cell_type": "code",
   "execution_count": 37,
   "metadata": {},
   "outputs": [],
   "source": [
    "labor_df[\"PUFC18_PNWHRS\"] = pd.to_numeric(labor_df[\"PUFC18_PNWHRS\"], errors=\"coerce\")\n",
    "labor_df[\"PUFC19_PHOURS\"] = pd.to_numeric(labor_df[\"PUFC19_PHOURS\"], errors=\"coerce\")\n",
    "\n",
    "bins = [-1, 19, 29, 39, 48, 999]  \n",
    "labels = [\"less than 20 hours\", \"20 - 29\", \"30 - 39\", \"40 - 48\", \"49 and over\"]\n",
    "\n",
    "labor_df[\"PUFC19_PHOURS_CAT\"] = pd.cut(labor_df[\"PUFC19_PHOURS\"], bins=bins, labels=labels, right=True)"
   ]
  },
  {
   "cell_type": "code",
   "execution_count": 38,
   "metadata": {},
   "outputs": [
    {
     "data": {
      "image/png": "[encoded data removed]",
      "text/plain": [
       "<Figure size 1000x600 with 1 Axes>"
      ]
     },
     "metadata": {},
     "output_type": "display_data"
    }
   ],
   "source": [
    "plt.figure(figsize=(10, 6))\n",
    "sns.stripplot(x='PUFC18_PNWHRS', y='PUFC19_PHOURS', data=labor_df, jitter=True, size=4)\n",
    "plt.title(\"Total Hours Worked vs. Normal Working Hours\")\n",
    "plt.xlabel(\"Normal Working Hours\")\n",
    "plt.ylabel(\"Total Hours Worked Category\")\n",
    "plt.show()"
   ]
  },
  {
   "cell_type": "markdown",
   "metadata": {},
   "source": [
    "Here we can see that the average working hours is 8, with some outliers being in 100+ work hours for the week, and some people who barely worked for the week."
   ]
  },
  {
   "cell_type": "markdown",
   "metadata": {},
   "source": [
    "8. Education vs Salary"
   ]
  },
  {
   "cell_type": "code",
   "execution_count": 39,
   "metadata": {},
   "outputs": [
    {
     "data": {
      "text/plain": [
       "array([ 250,  115,  200, ...,  728, 1573,  922], shape=(1152,))"
      ]
     },
     "execution_count": 39,
     "metadata": {},
     "output_type": "execute_result"
    }
   ],
   "source": [
    "labor_df['PUFC25_PBASIC'].unique()"
   ]
  },
  {
   "cell_type": "code",
   "execution_count": 40,
   "metadata": {},
   "outputs": [
    {
     "data": {
      "text/plain": [
       "PUFC07_GRADE\n",
       "350    23371\n",
       "280     8655\n",
       "330     5721\n",
       "320     4775\n",
       "810     4462\n",
       "       ...  \n",
       "501        4\n",
       "576        4\n",
       "542        3\n",
       "544        1\n",
       "585        1\n",
       "Name: count, Length: 66, dtype: int64"
      ]
     },
     "execution_count": 40,
     "metadata": {},
     "output_type": "execute_result"
    }
   ],
   "source": [
    "labor_df['PUFC07_GRADE'].value_counts()"
   ]
  },
  {
   "cell_type": "code",
   "execution_count": 41,
   "metadata": {},
   "outputs": [],
   "source": [
    "education_mapping = {\n",
    "    0: \"No Education\", 10: \"Preschool\",\n",
    "    210: \"Elementary\", 220: \"Elementary\", 230: \"Elementary\", 240: \"Elementary\", 250: \"Elementary\", 260: \"Elementary\", 280: \"Elementary Graduate\",\n",
    "    310: \"High School\", 320: \"High School\", 330: \"High School\", 340: \"High School\", 350: \"High School Graduate\",\n",
    "    410: \"Vocational\", 420: \"Vocational\",\n",
    "    810: \"College (Undergrad)\", 820: \"College (Undergrad)\", 830: \"College (Undergrad)\", 840: \"College (Undergrad)\",\n",
    "    900: \"Post Baccalaureate\"\n",
    "}\n",
    "labor_df['PUFC07_GRADE'] = pd.to_numeric(labor_df['PUFC07_GRADE'], errors='coerce')\n",
    "\n",
    "labor_df['Education_Category'] = labor_df['PUFC07_GRADE'].map(education_mapping).fillna(\"Programs\")\n",
    "\n",
    "education_order = [\"No Education\", \"Preschool\", \"Elementary\", \"Elementary Graduate\", \n",
    "                   \"High School\", \"High School Graduate\", \"Vocational\", \n",
    "                   \"College (Undergrad)\", \"Post Baccalaureate\", \"Programs\"]"
   ]
  },
  {
   "cell_type": "code",
   "execution_count": 42,
   "metadata": {},
   "outputs": [
    {
     "data": {
      "image/png": "[encoded data removed]",
      "text/plain": [
       "<Figure size 1200x600 with 1 Axes>"
      ]
     },
     "metadata": {},
     "output_type": "display_data"
    }
   ],
   "source": [
    "plt.figure(figsize=(12, 6))\n",
    "sns.boxplot(x='Education_Category', y='PUFC25_PBASIC', data=labor_df, order=education_order)\n",
    "plt.yscale(\"log\")  \n",
    "plt.title(\"Salary Distribution by Education Level\")\n",
    "plt.xlabel(\"Education Level\")\n",
    "plt.ylabel(\"Basic Pay\")\n",
    "plt.xticks(rotation=45, ha='right')\n",
    "plt.show()\n"
   ]
  },
  {
   "cell_type": "markdown",
   "metadata": {},
   "source": [
    "Here we can see that employees with no education are little to none. Then with post baccalaureate as one of the highest. But we see that there are a lot of outliers."
   ]
  },
  {
   "cell_type": "markdown",
   "metadata": {},
   "source": [
    "9. Hours Worked vs Age"
   ]
  },
  {
   "cell_type": "markdown",
   "metadata": {},
   "source": [
    "Here Let's take a look at the hours worked vs age"
   ]
  },
  {
   "cell_type": "code",
   "execution_count": 43,
   "metadata": {},
   "outputs": [
    {
     "data": {
      "text/plain": [
       "array(['034', '072', '048', '   ', '060', '024', '040', '056', '047',\n",
       "       '044', '070', '016', '045', '032', '054', '042', '052', '006',\n",
       "       '028', '008', '030', '050', '036', '020', '014', '084', '013',\n",
       "       '021', '000', '064', '018', '012', '046', '004', '035', '015',\n",
       "       '090', '077', '049', '025', '039', '059', '057', '010', '027',\n",
       "       '063', '062', '066', '023', '112', '026', '096', '078', '003',\n",
       "       '053', '009', '091', '098', '005', '043', '022', '019', '055',\n",
       "       '029', '007', '002', '058', '051', '069', '038', '075', '033',\n",
       "       '065', '105', '083', '076', '068', '089', '031', '037', '011',\n",
       "       '092', '017', '100', '088', '094', '071', '041', '081', '074',\n",
       "       '001', '080', '061', '099', '110', '086', '079', '073', '082',\n",
       "       '067', '108', '102'], dtype=object)"
      ]
     },
     "execution_count": 43,
     "metadata": {},
     "output_type": "execute_result"
    }
   ],
   "source": [
    "labor_df['PUFC28_THOURS'].unique()"
   ]
  },
  {
   "cell_type": "code",
   "execution_count": 44,
   "metadata": {},
   "outputs": [
    {
     "data": {
      "text/plain": [
       "array([19, 41, 20, 15, 51, 26, 23, 71, 54, 27, 46, 18, 80, 38, 73, 35, 16,\n",
       "       22, 44, 40, 17, 45, 77, 81, 25, 52, 55, 30, 95, 70, 32, 62, 36, 92,\n",
       "       33, 28, 24, 21, 29, 89, 34, 37, 43, 42, 86, 60, 56, 76, 88, 50, 58,\n",
       "       57, 75, 59, 79, 39, 78, 47, 48, 61, 53, 67, 31, 72, 49, 85, 84, 87,\n",
       "       69, 82, 68, 83, 63, 74, 65, 64, 91, 93, 90, 66, 96, 94, 97, 98, 99])"
      ]
     },
     "execution_count": 44,
     "metadata": {},
     "output_type": "execute_result"
    }
   ],
   "source": [
    "labor_df['PUFC05_AGE'].unique()"
   ]
  },
  {
   "cell_type": "code",
   "execution_count": 45,
   "metadata": {},
   "outputs": [],
   "source": [
    "labor_df['PUFC28_THOURS'] = pd.to_numeric(labor_df['PUFC28_THOURS'], errors='coerce')\n",
    "labor_df['PUFC28_THOURS'] = labor_df['PUFC28_THOURS'].fillna(0)"
   ]
  },
  {
   "cell_type": "code",
   "execution_count": 46,
   "metadata": {},
   "outputs": [
    {
     "data": {
      "image/png": "[encoded data removed]",
      "text/plain": [
       "<Figure size 800x500 with 1 Axes>"
      ]
     },
     "metadata": {},
     "output_type": "display_data"
    }
   ],
   "source": [
    "plt.figure(figsize=(8, 5))\n",
    "sns.scatterplot(x='PUFC05_AGE', y='PUFC28_THOURS', hue='PUFNEWEMPSTAT', data=labor_df, palette=\"viridis\", alpha=0.7)\n",
    "plt.title(\"Age vs. Hours Worked per Week\")\n",
    "plt.xlabel(\"Age\")\n",
    "plt.ylabel(\"Total Hours Worked\")\n",
    "plt.legend(title=\"Employment Status\")\n",
    "plt.show()\n"
   ]
  },
  {
   "cell_type": "markdown",
   "metadata": {},
   "source": [
    "Here we can see that it looks mostly correct, the Not in labor force and unemployed are all on the 0 line as expected. The employed work hours per week are quite varied with some not working, to barely working, to working normally, and to overtime."
   ]
  },
  {
   "cell_type": "markdown",
   "metadata": {},
   "source": [
    "10. Employment Status by Marital Status"
   ]
  },
  {
   "cell_type": "code",
   "execution_count": 47,
   "metadata": {},
   "outputs": [
    {
     "data": {
      "text/plain": [
       "array(['Employed', 'Not in the labor force', 'Unemployed'], dtype=object)"
      ]
     },
     "execution_count": 47,
     "metadata": {},
     "output_type": "execute_result"
    }
   ],
   "source": [
    "labor_df['PUFNEWEMPSTAT'].unique()"
   ]
  },
  {
   "cell_type": "code",
   "execution_count": 48,
   "metadata": {},
   "outputs": [
    {
     "data": {
      "text/plain": [
       "array(['Single', 'Married', 'Widowed', 'Divorced', 'Unknown', 'Annuled'],\n",
       "      dtype=object)"
      ]
     },
     "execution_count": 48,
     "metadata": {},
     "output_type": "execute_result"
    }
   ],
   "source": [
    "labor_df['PUFC06_MSTAT'].unique()"
   ]
  },
  {
   "cell_type": "code",
   "execution_count": 49,
   "metadata": {},
   "outputs": [
    {
     "data": {
      "image/png": "[encoded data removed]",
      "text/plain": [
       "<Figure size 800x500 with 2 Axes>"
      ]
     },
     "metadata": {},
     "output_type": "display_data"
    }
   ],
   "source": [
    "plt.figure(figsize=(8, 5))\n",
    "heatmap_data = pd.crosstab(labor_df['PUFC06_MSTAT'], labor_df['PUFNEWEMPSTAT'])\n",
    "sns.heatmap(heatmap_data, annot=True, cmap=\"coolwarm\", fmt=\"d\")\n",
    "plt.title(\"Employment Status by Marital Status\")\n",
    "plt.xlabel(\"Employment Status\")\n",
    "plt.ylabel(\"Marital Status\")\n",
    "plt.show()"
   ]
  },
  {
   "cell_type": "markdown",
   "metadata": {},
   "source": [
    "Here we can see a majority of Employed and Not in the labor force are mostly in the Single and Married Statuses. "
   ]
  },
  {
   "cell_type": "markdown",
   "metadata": {},
   "source": [
    "---"
   ]
  },
  {
   "cell_type": "markdown",
   "metadata": {},
   "source": [
    "# **Section 6. Initial Model Training**"
   ]
  },
  {
   "cell_type": "code",
   "execution_count": 50,
   "metadata": {},
   "outputs": [],
   "source": [
    "df_cpy = labor_df.copy()\n",
    "df_cpy.dropna(inplace=True)\n",
    "df_cpy = df_cpy[ df_cpy['PUFC25_PBASIC'] < 40000 ]"
   ]
  },
  {
   "cell_type": "code",
   "execution_count": 54,
   "metadata": {},
   "outputs": [],
   "source": [
    "X = df_cpy['PUFC18_PNWHRS']\n",
    "y = df_cpy['PUFC25_PBASIC']\n",
    "\n",
    "ifEncode = True\n",
    "if ifEncode:\n",
    "    from sklearn.preprocessing import OneHotEncoder\n",
    "    # Use sparse_output=False instead of sparse=False (for scikit-learn >= 1.2)\n",
    "    encoder = OneHotEncoder(sparse_output=False, handle_unknown='ignore') \n",
    "    X = df_cpy[['PUFC18_PNWHRS']]  # Keep as DataFrame for feature names\n",
    "    X_encoded = encoder.fit_transform(X)\n",
    "    X = pd.DataFrame(X_encoded, columns=encoder.get_feature_names_out(['PUFC18_PNWHRS']))\n",
    "    X = X.reset_index(drop=True)\n",
    "    y = y.reset_index(drop=True)\n",
    "\n",
    "# print(X.head())"
   ]
  },
  {
   "cell_type": "code",
   "execution_count": 55,
   "metadata": {},
   "outputs": [
    {
     "name": "stdout",
     "output_type": "stream",
     "text": [
      "8.0 308\n",
      "--------\n",
      "PUFC18_PNWHRS_8.0    1.0\n",
      "Name: 100, dtype: float64 308\n"
     ]
    }
   ],
   "source": [
    "index = 100\n",
    "print(df_cpy['PUFC18_PNWHRS'].iloc[index], df_cpy['PUFC25_PBASIC'].iloc[index])\n",
    "print('--------')\n",
    "print(X[X.columns[X.iloc[index] > 0]].iloc[index] , y.iloc[index])"
   ]
  },
  {
   "cell_type": "code",
   "execution_count": 56,
   "metadata": {},
   "outputs": [
    {
     "name": "stdout",
     "output_type": "stream",
     "text": [
      "                            OLS Regression Results                            \n",
      "==============================================================================\n",
      "Dep. Variable:          PUFC25_PBASIC   R-squared:                       0.037\n",
      "Model:                            OLS   Adj. R-squared:                  0.036\n",
      "Method:                 Least Squares   F-statistic:                     86.88\n",
      "Date:                Fri, 28 Mar 2025   Prob (F-statistic):          6.52e-281\n",
      "Time:                        00:11:10   Log-Likelihood:            -2.6773e+05\n",
      "No. Observations:               36587   AIC:                         5.355e+05\n",
      "Df Residuals:                   36570   BIC:                         5.356e+05\n",
      "Df Model:                          16                                         \n",
      "Covariance Type:            nonrobust                                         \n",
      "======================================================================================\n",
      "                         coef    std err          t      P>|t|      [0.025      0.975]\n",
      "--------------------------------------------------------------------------------------\n",
      "const               2.223e+13   2.79e+13      0.797      0.425   -3.24e+13    7.69e+13\n",
      "PUFC18_PNWHRS_1.0  -2.223e+13   2.79e+13     -0.797      0.425   -7.69e+13    3.24e+13\n",
      "PUFC18_PNWHRS_2.0  -2.223e+13   2.79e+13     -0.797      0.425   -7.69e+13    3.24e+13\n",
      "PUFC18_PNWHRS_3.0  -2.223e+13   2.79e+13     -0.797      0.425   -7.69e+13    3.24e+13\n",
      "PUFC18_PNWHRS_4.0  -2.223e+13   2.79e+13     -0.797      0.425   -7.69e+13    3.24e+13\n",
      "PUFC18_PNWHRS_5.0  -2.223e+13   2.79e+13     -0.797      0.425   -7.69e+13    3.24e+13\n",
      "PUFC18_PNWHRS_6.0  -2.223e+13   2.79e+13     -0.797      0.425   -7.69e+13    3.24e+13\n",
      "PUFC18_PNWHRS_7.0  -2.223e+13   2.79e+13     -0.797      0.425   -7.69e+13    3.24e+13\n",
      "PUFC18_PNWHRS_8.0  -2.223e+13   2.79e+13     -0.797      0.425   -7.69e+13    3.24e+13\n",
      "PUFC18_PNWHRS_9.0  -2.223e+13   2.79e+13     -0.797      0.425   -7.69e+13    3.24e+13\n",
      "PUFC18_PNWHRS_10.0 -2.223e+13   2.79e+13     -0.797      0.425   -7.69e+13    3.24e+13\n",
      "PUFC18_PNWHRS_11.0 -2.223e+13   2.79e+13     -0.797      0.425   -7.69e+13    3.24e+13\n",
      "PUFC18_PNWHRS_12.0 -2.223e+13   2.79e+13     -0.797      0.425   -7.69e+13    3.24e+13\n",
      "PUFC18_PNWHRS_13.0 -2.223e+13   2.79e+13     -0.797      0.425   -7.69e+13    3.24e+13\n",
      "PUFC18_PNWHRS_14.0 -2.223e+13   2.79e+13     -0.797      0.425   -7.69e+13    3.24e+13\n",
      "PUFC18_PNWHRS_15.0 -2.223e+13   2.79e+13     -0.797      0.425   -7.69e+13    3.24e+13\n",
      "PUFC18_PNWHRS_16.0 -2.223e+13   2.79e+13     -0.797      0.425   -7.69e+13    3.24e+13\n",
      "==============================================================================\n",
      "Omnibus:                    44656.144   Durbin-Watson:                   1.409\n",
      "Prob(Omnibus):                  0.000   Jarque-Bera (JB):         14774494.660\n",
      "Skew:                           6.272   Prob(JB):                         0.00\n",
      "Kurtosis:                     100.644   Cond. No.                     7.67e+13\n",
      "==============================================================================\n",
      "\n",
      "Notes:\n",
      "[1] Standard Errors assume that the covariance matrix of the errors is correctly specified.\n",
      "[2] The smallest eigenvalue is 1.01e-23. This might indicate that there are\n",
      "strong multicollinearity problems or that the design matrix is singular.\n"
     ]
    }
   ],
   "source": [
    "X = sm.add_constant(X)\n",
    "\n",
    "model = sm.OLS(y, X).fit()\n",
    "print(model.summary())"
   ]
  },
  {
   "cell_type": "code",
   "execution_count": 57,
   "metadata": {},
   "outputs": [],
   "source": [
    "y_pred = model.predict(X)\n",
    "y_true = y\n",
    "if not ifEncode:\n",
    "    plt.scatter(X, y, label='Actual data')\n",
    "    plt.plot(X, y_pred, color='red', linewidth=2, label='prediction line')\n",
    "    plt.xlabel('Hours worked')\n",
    "    plt.ylabel('Salary')\n",
    "    plt.legend()\n",
    "    plt.title('')\n",
    "    plt.show()"
   ]
  },
  {
   "cell_type": "code",
   "execution_count": 58,
   "metadata": {},
   "outputs": [
    {
     "data": {
      "image/png": "[encoded data removed]",
      "text/plain": [
       "<Figure size 800x600 with 1 Axes>"
      ]
     },
     "metadata": {},
     "output_type": "display_data"
    }
   ],
   "source": [
    "plt.figure(figsize=(8, 6))\n",
    "plt.scatter(y, y_pred, alpha=0.5, label=\"Predicted vs True\")\n",
    "plt.plot([min(y_true), max(y_true)], [min(y_true), max(y_true)], color=\"red\", linestyle=\"--\", label=\"Perfect Prediction\")\n",
    "plt.title(\"Actual vs Predicted Salary\")\n",
    "plt.xlabel(\"Actual Salary\")\n",
    "plt.ylabel(\"Predicted Salary\")\n",
    "plt.legend()\n",
    "plt.show()"
   ]
  },
  {
   "cell_type": "markdown",
   "metadata": {},
   "source": [
    "---"
   ]
  },
  {
   "cell_type": "markdown",
   "metadata": {},
   "source": [
    "Check if we can group some values together"
   ]
  },
  {
   "cell_type": "code",
   "execution_count": 59,
   "metadata": {},
   "outputs": [
    {
     "name": "stderr",
     "output_type": "stream",
     "text": [
      "C:\\Users\\Kendrick\\AppData\\Local\\Temp\\ipykernel_12620\\1662841177.py:9: SettingWithCopyWarning: \n",
      "A value is trying to be set on a copy of a slice from a DataFrame.\n",
      "Try using .loc[row_indexer,col_indexer] = value instead\n",
      "\n",
      "See the caveats in the documentation: https://pandas.pydata.org/pandas-docs/stable/user_guide/indexing.html#returning-a-view-versus-a-copy\n",
      "  df_cpy['PUFC16_PKB'] = df_cpy['PUFC16_PKB'].apply(map_sector)\n"
     ]
    }
   ],
   "source": [
    "from sklearn.preprocessing import OneHotEncoder\n",
    "from Utils import map_sector\n",
    "encoder = OneHotEncoder(sparse_output=False, drop='first', handle_unknown='ignore')  \n",
    "\n",
    "\n",
    "category_cols = ['PUFC04_SEX','Education_Category','PUFC09_GRADTECH','PUFC10_CONWR','PUFC16_PKB', 'PUFC18_PNWHRS']\n",
    "cols = ['PUFC05_AGE','PUFC25_PBASIC']\n",
    "df_cpy = labor_df[(category_cols + cols)]\n",
    "df_cpy['PUFC16_PKB'] = df_cpy['PUFC16_PKB'].apply(map_sector)"
   ]
  },
  {
   "cell_type": "code",
   "execution_count": 60,
   "metadata": {},
   "outputs": [],
   "source": [
    "df_cpy = df_cpy[df_cpy['PUFC16_PKB'] != 'Unknown']\n",
    "df_cpy = df_cpy[df_cpy['PUFC25_PBASIC'] < 40000]"
   ]
  },
  {
   "cell_type": "code",
   "execution_count": 61,
   "metadata": {},
   "outputs": [],
   "source": [
    "encoded_array = encoder.fit_transform(df_cpy[category_cols])\n",
    "\n",
    "encoded_df = pd.DataFrame(encoded_array, columns=encoder.get_feature_names_out(category_cols))\n",
    "\n",
    "# Drop original categorical columns and merge the new encoded columns\n",
    "df_cpy = df_cpy.drop(columns=category_cols).reset_index(drop=True)\n",
    "df_cpy = pd.concat([df_cpy, encoded_df], axis=1)"
   ]
  },
  {
   "cell_type": "code",
   "execution_count": 62,
   "metadata": {},
   "outputs": [
    {
     "data": {
      "application/vnd.microsoft.datawrangler.viewer.v0+json": {
       "columns": [
        {
         "name": "index",
         "rawType": "int64",
         "type": "integer"
        },
        {
         "name": "PUFC05_AGE",
         "rawType": "int64",
         "type": "integer"
        },
        {
         "name": "PUFC25_PBASIC",
         "rawType": "int64",
         "type": "integer"
        },
        {
         "name": "PUFC04_SEX_Male",
         "rawType": "float64",
         "type": "float"
        },
        {
         "name": "Education_Category_Elementary",
         "rawType": "float64",
         "type": "float"
        },
        {
         "name": "Education_Category_Elementary Graduate",
         "rawType": "float64",
         "type": "float"
        },
        {
         "name": "Education_Category_High School",
         "rawType": "float64",
         "type": "float"
        },
        {
         "name": "Education_Category_High School Graduate",
         "rawType": "float64",
         "type": "float"
        },
        {
         "name": "Education_Category_No Education",
         "rawType": "float64",
         "type": "float"
        },
        {
         "name": "Education_Category_Post Baccalaureate",
         "rawType": "float64",
         "type": "float"
        },
        {
         "name": "Education_Category_Preschool",
         "rawType": "float64",
         "type": "float"
        },
        {
         "name": "Education_Category_Programs",
         "rawType": "float64",
         "type": "float"
        },
        {
         "name": "Education_Category_Vocational",
         "rawType": "float64",
         "type": "float"
        },
        {
         "name": "PUFC09_GRADTECH_2",
         "rawType": "float64",
         "type": "float"
        },
        {
         "name": "PUFC10_CONWR_5",
         "rawType": "float64",
         "type": "float"
        },
        {
         "name": "PUFC16_PKB_INDUSTRY",
         "rawType": "float64",
         "type": "float"
        },
        {
         "name": "PUFC16_PKB_SERVICES",
         "rawType": "float64",
         "type": "float"
        },
        {
         "name": "PUFC18_PNWHRS_2.0",
         "rawType": "float64",
         "type": "float"
        },
        {
         "name": "PUFC18_PNWHRS_3.0",
         "rawType": "float64",
         "type": "float"
        },
        {
         "name": "PUFC18_PNWHRS_4.0",
         "rawType": "float64",
         "type": "float"
        },
        {
         "name": "PUFC18_PNWHRS_5.0",
         "rawType": "float64",
         "type": "float"
        },
        {
         "name": "PUFC18_PNWHRS_6.0",
         "rawType": "float64",
         "type": "float"
        },
        {
         "name": "PUFC18_PNWHRS_7.0",
         "rawType": "float64",
         "type": "float"
        },
        {
         "name": "PUFC18_PNWHRS_8.0",
         "rawType": "float64",
         "type": "float"
        },
        {
         "name": "PUFC18_PNWHRS_9.0",
         "rawType": "float64",
         "type": "float"
        },
        {
         "name": "PUFC18_PNWHRS_10.0",
         "rawType": "float64",
         "type": "float"
        },
        {
         "name": "PUFC18_PNWHRS_11.0",
         "rawType": "float64",
         "type": "float"
        },
        {
         "name": "PUFC18_PNWHRS_12.0",
         "rawType": "float64",
         "type": "float"
        },
        {
         "name": "PUFC18_PNWHRS_13.0",
         "rawType": "float64",
         "type": "float"
        },
        {
         "name": "PUFC18_PNWHRS_14.0",
         "rawType": "float64",
         "type": "float"
        },
        {
         "name": "PUFC18_PNWHRS_15.0",
         "rawType": "float64",
         "type": "float"
        },
        {
         "name": "PUFC18_PNWHRS_16.0",
         "rawType": "float64",
         "type": "float"
        }
       ],
       "conversionMethod": "pd.DataFrame",
       "ref": "efac8c52-a938-4202-b285-c8f8256bbdde",
       "rows": [
        [
         "0",
         "19",
         "250",
         "1.0",
         "0.0",
         "0.0",
         "0.0",
         "1.0",
         "0.0",
         "0.0",
         "0.0",
         "0.0",
         "0.0",
         "1.0",
         "1.0",
         "0.0",
         "0.0",
         "0.0",
         "0.0",
         "0.0",
         "0.0",
         "0.0",
         "0.0",
         "1.0",
         "0.0",
         "0.0",
         "0.0",
         "0.0",
         "0.0",
         "0.0",
         "0.0",
         "0.0"
        ],
        [
         "1",
         "41",
         "115",
         "0.0",
         "0.0",
         "0.0",
         "0.0",
         "1.0",
         "0.0",
         "0.0",
         "0.0",
         "0.0",
         "0.0",
         "1.0",
         "1.0",
         "0.0",
         "1.0",
         "0.0",
         "0.0",
         "0.0",
         "0.0",
         "0.0",
         "0.0",
         "0.0",
         "0.0",
         "0.0",
         "0.0",
         "1.0",
         "0.0",
         "0.0",
         "0.0",
         "0.0"
        ],
        [
         "2",
         "20",
         "200",
         "1.0",
         "0.0",
         "0.0",
         "0.0",
         "1.0",
         "0.0",
         "0.0",
         "0.0",
         "0.0",
         "0.0",
         "1.0",
         "1.0",
         "0.0",
         "1.0",
         "0.0",
         "0.0",
         "0.0",
         "0.0",
         "0.0",
         "0.0",
         "1.0",
         "0.0",
         "0.0",
         "0.0",
         "0.0",
         "0.0",
         "0.0",
         "0.0",
         "0.0"
        ],
        [
         "3",
         "23",
         "335",
         "1.0",
         "0.0",
         "0.0",
         "0.0",
         "1.0",
         "0.0",
         "0.0",
         "0.0",
         "0.0",
         "0.0",
         "1.0",
         "1.0",
         "0.0",
         "1.0",
         "0.0",
         "0.0",
         "0.0",
         "0.0",
         "0.0",
         "0.0",
         "0.0",
         "0.0",
         "0.0",
         "0.0",
         "1.0",
         "0.0",
         "0.0",
         "0.0",
         "0.0"
        ],
        [
         "4",
         "71",
         "350",
         "1.0",
         "1.0",
         "0.0",
         "0.0",
         "0.0",
         "0.0",
         "0.0",
         "0.0",
         "0.0",
         "0.0",
         "1.0",
         "1.0",
         "1.0",
         "0.0",
         "0.0",
         "0.0",
         "0.0",
         "0.0",
         "0.0",
         "0.0",
         "1.0",
         "0.0",
         "0.0",
         "0.0",
         "0.0",
         "0.0",
         "0.0",
         "0.0",
         "0.0"
        ],
        [
         "5",
         "54",
         "200",
         "0.0",
         "1.0",
         "0.0",
         "0.0",
         "0.0",
         "0.0",
         "0.0",
         "0.0",
         "0.0",
         "0.0",
         "1.0",
         "1.0",
         "0.0",
         "1.0",
         "0.0",
         "0.0",
         "1.0",
         "0.0",
         "0.0",
         "0.0",
         "0.0",
         "0.0",
         "0.0",
         "0.0",
         "0.0",
         "0.0",
         "0.0",
         "0.0",
         "0.0"
        ],
        [
         "6",
         "27",
         "909",
         "1.0",
         "0.0",
         "0.0",
         "0.0",
         "0.0",
         "0.0",
         "0.0",
         "0.0",
         "1.0",
         "0.0",
         "1.0",
         "1.0",
         "0.0",
         "1.0",
         "0.0",
         "0.0",
         "0.0",
         "0.0",
         "0.0",
         "0.0",
         "1.0",
         "0.0",
         "0.0",
         "0.0",
         "0.0",
         "0.0",
         "0.0",
         "0.0",
         "0.0"
        ],
        [
         "7",
         "46",
         "400",
         "1.0",
         "0.0",
         "0.0",
         "1.0",
         "0.0",
         "0.0",
         "0.0",
         "0.0",
         "0.0",
         "0.0",
         "1.0",
         "1.0",
         "1.0",
         "0.0",
         "0.0",
         "0.0",
         "0.0",
         "0.0",
         "0.0",
         "0.0",
         "1.0",
         "0.0",
         "0.0",
         "0.0",
         "0.0",
         "0.0",
         "0.0",
         "0.0",
         "0.0"
        ],
        [
         "8",
         "23",
         "320",
         "1.0",
         "0.0",
         "0.0",
         "0.0",
         "1.0",
         "0.0",
         "0.0",
         "0.0",
         "0.0",
         "0.0",
         "1.0",
         "1.0",
         "1.0",
         "0.0",
         "0.0",
         "0.0",
         "0.0",
         "0.0",
         "0.0",
         "0.0",
         "1.0",
         "0.0",
         "0.0",
         "0.0",
         "0.0",
         "0.0",
         "0.0",
         "0.0",
         "0.0"
        ],
        [
         "9",
         "38",
         "1029",
         "0.0",
         "0.0",
         "0.0",
         "0.0",
         "0.0",
         "0.0",
         "0.0",
         "0.0",
         "1.0",
         "0.0",
         "1.0",
         "1.0",
         "0.0",
         "1.0",
         "0.0",
         "0.0",
         "0.0",
         "0.0",
         "0.0",
         "0.0",
         "1.0",
         "0.0",
         "0.0",
         "0.0",
         "0.0",
         "0.0",
         "0.0",
         "0.0",
         "0.0"
        ],
        [
         "10",
         "35",
         "153",
         "1.0",
         "0.0",
         "0.0",
         "0.0",
         "1.0",
         "0.0",
         "0.0",
         "0.0",
         "0.0",
         "0.0",
         "1.0",
         "1.0",
         "0.0",
         "1.0",
         "0.0",
         "0.0",
         "1.0",
         "0.0",
         "0.0",
         "0.0",
         "0.0",
         "0.0",
         "0.0",
         "0.0",
         "0.0",
         "0.0",
         "0.0",
         "0.0",
         "0.0"
        ],
        [
         "11",
         "19",
         "115",
         "0.0",
         "0.0",
         "0.0",
         "0.0",
         "1.0",
         "0.0",
         "0.0",
         "0.0",
         "0.0",
         "0.0",
         "1.0",
         "1.0",
         "0.0",
         "1.0",
         "0.0",
         "0.0",
         "0.0",
         "0.0",
         "0.0",
         "0.0",
         "0.0",
         "0.0",
         "1.0",
         "0.0",
         "0.0",
         "0.0",
         "0.0",
         "0.0",
         "0.0"
        ],
        [
         "12",
         "51",
         "100",
         "0.0",
         "0.0",
         "1.0",
         "0.0",
         "0.0",
         "0.0",
         "0.0",
         "0.0",
         "0.0",
         "0.0",
         "1.0",
         "1.0",
         "0.0",
         "1.0",
         "0.0",
         "0.0",
         "0.0",
         "0.0",
         "0.0",
         "0.0",
         "1.0",
         "0.0",
         "0.0",
         "0.0",
         "0.0",
         "0.0",
         "0.0",
         "0.0",
         "0.0"
        ],
        [
         "13",
         "20",
         "240",
         "0.0",
         "0.0",
         "0.0",
         "0.0",
         "1.0",
         "0.0",
         "0.0",
         "0.0",
         "0.0",
         "0.0",
         "1.0",
         "1.0",
         "0.0",
         "1.0",
         "0.0",
         "0.0",
         "0.0",
         "0.0",
         "0.0",
         "0.0",
         "1.0",
         "0.0",
         "0.0",
         "0.0",
         "0.0",
         "0.0",
         "0.0",
         "0.0",
         "0.0"
        ],
        [
         "14",
         "22",
         "100",
         "0.0",
         "0.0",
         "0.0",
         "0.0",
         "1.0",
         "0.0",
         "0.0",
         "0.0",
         "0.0",
         "0.0",
         "1.0",
         "1.0",
         "0.0",
         "1.0",
         "0.0",
         "0.0",
         "0.0",
         "0.0",
         "0.0",
         "0.0",
         "1.0",
         "0.0",
         "0.0",
         "0.0",
         "0.0",
         "0.0",
         "0.0",
         "0.0",
         "0.0"
        ],
        [
         "15",
         "44",
         "1100",
         "1.0",
         "0.0",
         "0.0",
         "0.0",
         "0.0",
         "0.0",
         "1.0",
         "0.0",
         "0.0",
         "0.0",
         "1.0",
         "1.0",
         "0.0",
         "1.0",
         "0.0",
         "0.0",
         "0.0",
         "0.0",
         "0.0",
         "0.0",
         "1.0",
         "0.0",
         "0.0",
         "0.0",
         "0.0",
         "0.0",
         "0.0",
         "0.0",
         "0.0"
        ],
        [
         "16",
         "40",
         "1666",
         "0.0",
         "0.0",
         "0.0",
         "0.0",
         "0.0",
         "0.0",
         "0.0",
         "0.0",
         "1.0",
         "0.0",
         "1.0",
         "1.0",
         "0.0",
         "1.0",
         "0.0",
         "0.0",
         "0.0",
         "0.0",
         "0.0",
         "0.0",
         "1.0",
         "0.0",
         "0.0",
         "0.0",
         "0.0",
         "0.0",
         "0.0",
         "0.0",
         "0.0"
        ],
        [
         "17",
         "26",
         "192",
         "1.0",
         "0.0",
         "0.0",
         "0.0",
         "0.0",
         "0.0",
         "0.0",
         "0.0",
         "1.0",
         "0.0",
         "1.0",
         "1.0",
         "0.0",
         "1.0",
         "0.0",
         "0.0",
         "0.0",
         "0.0",
         "0.0",
         "0.0",
         "1.0",
         "0.0",
         "0.0",
         "0.0",
         "0.0",
         "0.0",
         "0.0",
         "0.0",
         "0.0"
        ],
        [
         "18",
         "45",
         "550",
         "1.0",
         "0.0",
         "0.0",
         "0.0",
         "0.0",
         "0.0",
         "0.0",
         "0.0",
         "1.0",
         "0.0",
         "1.0",
         "1.0",
         "1.0",
         "0.0",
         "0.0",
         "0.0",
         "0.0",
         "0.0",
         "0.0",
         "0.0",
         "1.0",
         "0.0",
         "0.0",
         "0.0",
         "0.0",
         "0.0",
         "0.0",
         "0.0",
         "0.0"
        ],
        [
         "19",
         "38",
         "300",
         "1.0",
         "0.0",
         "1.0",
         "0.0",
         "0.0",
         "0.0",
         "0.0",
         "0.0",
         "0.0",
         "0.0",
         "1.0",
         "1.0",
         "0.0",
         "1.0",
         "0.0",
         "0.0",
         "0.0",
         "0.0",
         "0.0",
         "0.0",
         "1.0",
         "0.0",
         "0.0",
         "0.0",
         "0.0",
         "0.0",
         "0.0",
         "0.0",
         "0.0"
        ],
        [
         "20",
         "52",
         "568",
         "1.0",
         "0.0",
         "0.0",
         "0.0",
         "0.0",
         "0.0",
         "0.0",
         "0.0",
         "1.0",
         "0.0",
         "1.0",
         "1.0",
         "0.0",
         "1.0",
         "0.0",
         "0.0",
         "0.0",
         "0.0",
         "0.0",
         "0.0",
         "1.0",
         "0.0",
         "0.0",
         "0.0",
         "0.0",
         "0.0",
         "0.0",
         "0.0",
         "0.0"
        ],
        [
         "21",
         "55",
         "320",
         "1.0",
         "1.0",
         "0.0",
         "0.0",
         "0.0",
         "0.0",
         "0.0",
         "0.0",
         "0.0",
         "0.0",
         "1.0",
         "1.0",
         "1.0",
         "0.0",
         "0.0",
         "0.0",
         "0.0",
         "0.0",
         "0.0",
         "0.0",
         "1.0",
         "0.0",
         "0.0",
         "0.0",
         "0.0",
         "0.0",
         "0.0",
         "0.0",
         "0.0"
        ],
        [
         "22",
         "45",
         "200",
         "1.0",
         "1.0",
         "0.0",
         "0.0",
         "0.0",
         "0.0",
         "0.0",
         "0.0",
         "0.0",
         "0.0",
         "1.0",
         "1.0",
         "1.0",
         "0.0",
         "0.0",
         "0.0",
         "0.0",
         "0.0",
         "0.0",
         "0.0",
         "1.0",
         "0.0",
         "0.0",
         "0.0",
         "0.0",
         "0.0",
         "0.0",
         "0.0",
         "0.0"
        ],
        [
         "23",
         "30",
         "170",
         "1.0",
         "0.0",
         "0.0",
         "0.0",
         "1.0",
         "0.0",
         "0.0",
         "0.0",
         "0.0",
         "0.0",
         "1.0",
         "1.0",
         "1.0",
         "0.0",
         "0.0",
         "0.0",
         "0.0",
         "0.0",
         "0.0",
         "0.0",
         "0.0",
         "1.0",
         "0.0",
         "0.0",
         "0.0",
         "0.0",
         "0.0",
         "0.0",
         "0.0"
        ],
        [
         "24",
         "62",
         "1818",
         "0.0",
         "0.0",
         "0.0",
         "0.0",
         "0.0",
         "0.0",
         "0.0",
         "0.0",
         "1.0",
         "0.0",
         "1.0",
         "1.0",
         "0.0",
         "1.0",
         "0.0",
         "0.0",
         "0.0",
         "0.0",
         "0.0",
         "0.0",
         "1.0",
         "0.0",
         "0.0",
         "0.0",
         "0.0",
         "0.0",
         "0.0",
         "0.0",
         "0.0"
        ],
        [
         "25",
         "33",
         "636",
         "1.0",
         "0.0",
         "0.0",
         "0.0",
         "0.0",
         "0.0",
         "0.0",
         "0.0",
         "1.0",
         "0.0",
         "1.0",
         "1.0",
         "0.0",
         "1.0",
         "0.0",
         "0.0",
         "0.0",
         "0.0",
         "0.0",
         "0.0",
         "1.0",
         "0.0",
         "0.0",
         "0.0",
         "0.0",
         "0.0",
         "0.0",
         "0.0",
         "0.0"
        ],
        [
         "26",
         "29",
         "166",
         "1.0",
         "0.0",
         "0.0",
         "1.0",
         "0.0",
         "0.0",
         "0.0",
         "0.0",
         "0.0",
         "0.0",
         "1.0",
         "1.0",
         "0.0",
         "1.0",
         "0.0",
         "0.0",
         "0.0",
         "0.0",
         "1.0",
         "0.0",
         "0.0",
         "0.0",
         "0.0",
         "0.0",
         "0.0",
         "0.0",
         "0.0",
         "0.0",
         "0.0"
        ],
        [
         "27",
         "19",
         "33",
         "1.0",
         "0.0",
         "0.0",
         "0.0",
         "1.0",
         "0.0",
         "0.0",
         "0.0",
         "0.0",
         "0.0",
         "1.0",
         "1.0",
         "0.0",
         "1.0",
         "0.0",
         "0.0",
         "0.0",
         "0.0",
         "1.0",
         "0.0",
         "0.0",
         "0.0",
         "0.0",
         "0.0",
         "0.0",
         "0.0",
         "0.0",
         "0.0",
         "0.0"
        ],
        [
         "28",
         "24",
         "58",
         "0.0",
         "0.0",
         "0.0",
         "0.0",
         "1.0",
         "0.0",
         "0.0",
         "0.0",
         "0.0",
         "0.0",
         "1.0",
         "1.0",
         "0.0",
         "1.0",
         "0.0",
         "0.0",
         "0.0",
         "0.0",
         "0.0",
         "0.0",
         "1.0",
         "0.0",
         "0.0",
         "0.0",
         "0.0",
         "0.0",
         "0.0",
         "0.0",
         "0.0"
        ],
        [
         "29",
         "21",
         "200",
         "1.0",
         "0.0",
         "0.0",
         "0.0",
         "0.0",
         "0.0",
         "0.0",
         "0.0",
         "0.0",
         "0.0",
         "1.0",
         "1.0",
         "0.0",
         "1.0",
         "0.0",
         "0.0",
         "0.0",
         "0.0",
         "0.0",
         "0.0",
         "1.0",
         "0.0",
         "0.0",
         "0.0",
         "0.0",
         "0.0",
         "0.0",
         "0.0",
         "0.0"
        ],
        [
         "30",
         "34",
         "409",
         "1.0",
         "0.0",
         "0.0",
         "0.0",
         "1.0",
         "0.0",
         "0.0",
         "0.0",
         "0.0",
         "0.0",
         "1.0",
         "1.0",
         "0.0",
         "1.0",
         "0.0",
         "0.0",
         "0.0",
         "0.0",
         "0.0",
         "0.0",
         "1.0",
         "0.0",
         "0.0",
         "0.0",
         "0.0",
         "0.0",
         "0.0",
         "0.0",
         "0.0"
        ],
        [
         "31",
         "34",
         "253",
         "0.0",
         "0.0",
         "0.0",
         "0.0",
         "0.0",
         "0.0",
         "0.0",
         "0.0",
         "1.0",
         "0.0",
         "1.0",
         "1.0",
         "0.0",
         "1.0",
         "0.0",
         "0.0",
         "0.0",
         "0.0",
         "0.0",
         "0.0",
         "1.0",
         "0.0",
         "0.0",
         "0.0",
         "0.0",
         "0.0",
         "0.0",
         "0.0",
         "0.0"
        ],
        [
         "32",
         "25",
         "375",
         "1.0",
         "0.0",
         "0.0",
         "0.0",
         "1.0",
         "0.0",
         "0.0",
         "0.0",
         "0.0",
         "0.0",
         "0.0",
         "1.0",
         "1.0",
         "0.0",
         "0.0",
         "0.0",
         "0.0",
         "0.0",
         "0.0",
         "0.0",
         "1.0",
         "0.0",
         "0.0",
         "0.0",
         "0.0",
         "0.0",
         "0.0",
         "0.0",
         "0.0"
        ],
        [
         "33",
         "23",
         "400",
         "0.0",
         "0.0",
         "0.0",
         "0.0",
         "1.0",
         "0.0",
         "0.0",
         "0.0",
         "0.0",
         "0.0",
         "1.0",
         "1.0",
         "0.0",
         "1.0",
         "0.0",
         "0.0",
         "0.0",
         "0.0",
         "0.0",
         "0.0",
         "1.0",
         "0.0",
         "0.0",
         "0.0",
         "0.0",
         "0.0",
         "0.0",
         "0.0",
         "0.0"
        ],
        [
         "34",
         "37",
         "250",
         "1.0",
         "0.0",
         "0.0",
         "0.0",
         "1.0",
         "0.0",
         "0.0",
         "0.0",
         "0.0",
         "0.0",
         "1.0",
         "1.0",
         "0.0",
         "1.0",
         "0.0",
         "0.0",
         "0.0",
         "0.0",
         "0.0",
         "0.0",
         "1.0",
         "0.0",
         "0.0",
         "0.0",
         "0.0",
         "0.0",
         "0.0",
         "0.0",
         "0.0"
        ],
        [
         "35",
         "43",
         "100",
         "0.0",
         "0.0",
         "0.0",
         "0.0",
         "1.0",
         "0.0",
         "0.0",
         "0.0",
         "0.0",
         "0.0",
         "1.0",
         "1.0",
         "0.0",
         "1.0",
         "0.0",
         "0.0",
         "0.0",
         "0.0",
         "0.0",
         "0.0",
         "1.0",
         "0.0",
         "0.0",
         "0.0",
         "0.0",
         "0.0",
         "0.0",
         "0.0",
         "0.0"
        ],
        [
         "36",
         "33",
         "400",
         "0.0",
         "0.0",
         "0.0",
         "1.0",
         "0.0",
         "0.0",
         "0.0",
         "0.0",
         "0.0",
         "0.0",
         "1.0",
         "1.0",
         "0.0",
         "1.0",
         "0.0",
         "0.0",
         "0.0",
         "0.0",
         "1.0",
         "0.0",
         "0.0",
         "0.0",
         "0.0",
         "0.0",
         "0.0",
         "0.0",
         "0.0",
         "0.0",
         "0.0"
        ],
        [
         "37",
         "17",
         "150",
         "0.0",
         "0.0",
         "0.0",
         "1.0",
         "0.0",
         "0.0",
         "0.0",
         "0.0",
         "0.0",
         "0.0",
         "1.0",
         "1.0",
         "0.0",
         "1.0",
         "0.0",
         "0.0",
         "0.0",
         "0.0",
         "0.0",
         "0.0",
         "1.0",
         "0.0",
         "0.0",
         "0.0",
         "0.0",
         "0.0",
         "0.0",
         "0.0",
         "0.0"
        ],
        [
         "38",
         "52",
         "100",
         "0.0",
         "0.0",
         "0.0",
         "0.0",
         "1.0",
         "0.0",
         "0.0",
         "0.0",
         "0.0",
         "0.0",
         "1.0",
         "1.0",
         "0.0",
         "1.0",
         "0.0",
         "0.0",
         "0.0",
         "0.0",
         "1.0",
         "0.0",
         "0.0",
         "0.0",
         "0.0",
         "0.0",
         "0.0",
         "0.0",
         "0.0",
         "0.0",
         "0.0"
        ],
        [
         "39",
         "23",
         "308",
         "0.0",
         "0.0",
         "0.0",
         "0.0",
         "0.0",
         "0.0",
         "0.0",
         "0.0",
         "1.0",
         "0.0",
         "1.0",
         "1.0",
         "0.0",
         "1.0",
         "0.0",
         "0.0",
         "0.0",
         "0.0",
         "0.0",
         "0.0",
         "0.0",
         "0.0",
         "0.0",
         "0.0",
         "1.0",
         "0.0",
         "0.0",
         "0.0",
         "0.0"
        ],
        [
         "40",
         "22",
         "253",
         "1.0",
         "0.0",
         "0.0",
         "0.0",
         "0.0",
         "0.0",
         "0.0",
         "0.0",
         "0.0",
         "0.0",
         "1.0",
         "1.0",
         "0.0",
         "1.0",
         "0.0",
         "0.0",
         "0.0",
         "0.0",
         "0.0",
         "0.0",
         "1.0",
         "0.0",
         "0.0",
         "0.0",
         "0.0",
         "0.0",
         "0.0",
         "0.0",
         "0.0"
        ],
        [
         "41",
         "34",
         "250",
         "1.0",
         "0.0",
         "0.0",
         "0.0",
         "0.0",
         "0.0",
         "0.0",
         "0.0",
         "0.0",
         "0.0",
         "1.0",
         "1.0",
         "0.0",
         "0.0",
         "0.0",
         "0.0",
         "1.0",
         "0.0",
         "0.0",
         "0.0",
         "0.0",
         "0.0",
         "0.0",
         "0.0",
         "0.0",
         "0.0",
         "0.0",
         "0.0",
         "0.0"
        ],
        [
         "42",
         "29",
         "270",
         "1.0",
         "0.0",
         "0.0",
         "0.0",
         "0.0",
         "0.0",
         "0.0",
         "0.0",
         "1.0",
         "0.0",
         "1.0",
         "1.0",
         "0.0",
         "1.0",
         "0.0",
         "0.0",
         "0.0",
         "0.0",
         "0.0",
         "0.0",
         "1.0",
         "0.0",
         "0.0",
         "0.0",
         "0.0",
         "0.0",
         "0.0",
         "0.0",
         "0.0"
        ],
        [
         "43",
         "41",
         "200",
         "1.0",
         "0.0",
         "1.0",
         "0.0",
         "0.0",
         "0.0",
         "0.0",
         "0.0",
         "0.0",
         "0.0",
         "1.0",
         "1.0",
         "0.0",
         "0.0",
         "0.0",
         "0.0",
         "0.0",
         "0.0",
         "0.0",
         "0.0",
         "1.0",
         "0.0",
         "0.0",
         "0.0",
         "0.0",
         "0.0",
         "0.0",
         "0.0",
         "0.0"
        ],
        [
         "44",
         "60",
         "200",
         "0.0",
         "1.0",
         "0.0",
         "0.0",
         "0.0",
         "0.0",
         "0.0",
         "0.0",
         "0.0",
         "0.0",
         "1.0",
         "1.0",
         "0.0",
         "0.0",
         "0.0",
         "0.0",
         "0.0",
         "0.0",
         "0.0",
         "0.0",
         "1.0",
         "0.0",
         "0.0",
         "0.0",
         "0.0",
         "0.0",
         "0.0",
         "0.0",
         "0.0"
        ],
        [
         "45",
         "21",
         "200",
         "1.0",
         "1.0",
         "0.0",
         "0.0",
         "0.0",
         "0.0",
         "0.0",
         "0.0",
         "0.0",
         "0.0",
         "1.0",
         "1.0",
         "0.0",
         "0.0",
         "0.0",
         "0.0",
         "0.0",
         "0.0",
         "0.0",
         "0.0",
         "1.0",
         "0.0",
         "0.0",
         "0.0",
         "0.0",
         "0.0",
         "0.0",
         "0.0",
         "0.0"
        ],
        [
         "46",
         "54",
         "200",
         "1.0",
         "1.0",
         "0.0",
         "0.0",
         "0.0",
         "0.0",
         "0.0",
         "0.0",
         "0.0",
         "0.0",
         "1.0",
         "1.0",
         "0.0",
         "0.0",
         "0.0",
         "0.0",
         "0.0",
         "0.0",
         "0.0",
         "0.0",
         "1.0",
         "0.0",
         "0.0",
         "0.0",
         "0.0",
         "0.0",
         "0.0",
         "0.0",
         "0.0"
        ],
        [
         "47",
         "54",
         "200",
         "0.0",
         "0.0",
         "1.0",
         "0.0",
         "0.0",
         "0.0",
         "0.0",
         "0.0",
         "0.0",
         "0.0",
         "1.0",
         "1.0",
         "0.0",
         "0.0",
         "0.0",
         "0.0",
         "0.0",
         "0.0",
         "0.0",
         "0.0",
         "1.0",
         "0.0",
         "0.0",
         "0.0",
         "0.0",
         "0.0",
         "0.0",
         "0.0",
         "0.0"
        ],
        [
         "48",
         "28",
         "200",
         "1.0",
         "0.0",
         "1.0",
         "0.0",
         "0.0",
         "0.0",
         "0.0",
         "0.0",
         "0.0",
         "0.0",
         "1.0",
         "1.0",
         "0.0",
         "0.0",
         "0.0",
         "0.0",
         "0.0",
         "0.0",
         "0.0",
         "0.0",
         "1.0",
         "0.0",
         "0.0",
         "0.0",
         "0.0",
         "0.0",
         "0.0",
         "0.0",
         "0.0"
        ],
        [
         "49",
         "24",
         "200",
         "0.0",
         "0.0",
         "0.0",
         "0.0",
         "1.0",
         "0.0",
         "0.0",
         "0.0",
         "0.0",
         "0.0",
         "1.0",
         "1.0",
         "0.0",
         "0.0",
         "0.0",
         "0.0",
         "0.0",
         "0.0",
         "0.0",
         "0.0",
         "1.0",
         "0.0",
         "0.0",
         "0.0",
         "0.0",
         "0.0",
         "0.0",
         "0.0",
         "0.0"
        ]
       ],
       "shape": {
        "columns": 31,
        "rows": 36587
       }
      },
      "text/html": [
       "<div>\n",
       "<style scoped>\n",
       "    .dataframe tbody tr th:only-of-type {\n",
       "        vertical-align: middle;\n",
       "    }\n",
       "\n",
       "    .dataframe tbody tr th {\n",
       "        vertical-align: top;\n",
       "    }\n",
       "\n",
       "    .dataframe thead th {\n",
       "        text-align: right;\n",
       "    }\n",
       "</style>\n",
       "<table border=\"1\" class=\"dataframe\">\n",
       "  <thead>\n",
       "    <tr style=\"text-align: right;\">\n",
       "      <th></th>\n",
       "      <th>PUFC05_AGE</th>\n",
       "      <th>PUFC25_PBASIC</th>\n",
       "      <th>PUFC04_SEX_Male</th>\n",
       "      <th>Education_Category_Elementary</th>\n",
       "      <th>Education_Category_Elementary Graduate</th>\n",
       "      <th>Education_Category_High School</th>\n",
       "      <th>Education_Category_High School Graduate</th>\n",
       "      <th>Education_Category_No Education</th>\n",
       "      <th>Education_Category_Post Baccalaureate</th>\n",
       "      <th>Education_Category_Preschool</th>\n",
       "      <th>...</th>\n",
       "      <th>PUFC18_PNWHRS_7.0</th>\n",
       "      <th>PUFC18_PNWHRS_8.0</th>\n",
       "      <th>PUFC18_PNWHRS_9.0</th>\n",
       "      <th>PUFC18_PNWHRS_10.0</th>\n",
       "      <th>PUFC18_PNWHRS_11.0</th>\n",
       "      <th>PUFC18_PNWHRS_12.0</th>\n",
       "      <th>PUFC18_PNWHRS_13.0</th>\n",
       "      <th>PUFC18_PNWHRS_14.0</th>\n",
       "      <th>PUFC18_PNWHRS_15.0</th>\n",
       "      <th>PUFC18_PNWHRS_16.0</th>\n",
       "    </tr>\n",
       "  </thead>\n",
       "  <tbody>\n",
       "    <tr>\n",
       "      <th>0</th>\n",
       "      <td>19</td>\n",
       "      <td>250</td>\n",
       "      <td>1.0</td>\n",
       "      <td>0.0</td>\n",
       "      <td>0.0</td>\n",
       "      <td>0.0</td>\n",
       "      <td>1.0</td>\n",
       "      <td>0.0</td>\n",
       "      <td>0.0</td>\n",
       "      <td>0.0</td>\n",
       "      <td>...</td>\n",
       "      <td>0.0</td>\n",
       "      <td>1.0</td>\n",
       "      <td>0.0</td>\n",
       "      <td>0.0</td>\n",
       "      <td>0.0</td>\n",
       "      <td>0.0</td>\n",
       "      <td>0.0</td>\n",
       "      <td>0.0</td>\n",
       "      <td>0.0</td>\n",
       "      <td>0.0</td>\n",
       "    </tr>\n",
       "    <tr>\n",
       "      <th>1</th>\n",
       "      <td>41</td>\n",
       "      <td>115</td>\n",
       "      <td>0.0</td>\n",
       "      <td>0.0</td>\n",
       "      <td>0.0</td>\n",
       "      <td>0.0</td>\n",
       "      <td>1.0</td>\n",
       "      <td>0.0</td>\n",
       "      <td>0.0</td>\n",
       "      <td>0.0</td>\n",
       "      <td>...</td>\n",
       "      <td>0.0</td>\n",
       "      <td>0.0</td>\n",
       "      <td>0.0</td>\n",
       "      <td>0.0</td>\n",
       "      <td>0.0</td>\n",
       "      <td>1.0</td>\n",
       "      <td>0.0</td>\n",
       "      <td>0.0</td>\n",
       "      <td>0.0</td>\n",
       "      <td>0.0</td>\n",
       "    </tr>\n",
       "    <tr>\n",
       "      <th>2</th>\n",
       "      <td>20</td>\n",
       "      <td>200</td>\n",
       "      <td>1.0</td>\n",
       "      <td>0.0</td>\n",
       "      <td>0.0</td>\n",
       "      <td>0.0</td>\n",
       "      <td>1.0</td>\n",
       "      <td>0.0</td>\n",
       "      <td>0.0</td>\n",
       "      <td>0.0</td>\n",
       "      <td>...</td>\n",
       "      <td>0.0</td>\n",
       "      <td>1.0</td>\n",
       "      <td>0.0</td>\n",
       "      <td>0.0</td>\n",
       "      <td>0.0</td>\n",
       "      <td>0.0</td>\n",
       "      <td>0.0</td>\n",
       "      <td>0.0</td>\n",
       "      <td>0.0</td>\n",
       "      <td>0.0</td>\n",
       "    </tr>\n",
       "    <tr>\n",
       "      <th>3</th>\n",
       "      <td>23</td>\n",
       "      <td>335</td>\n",
       "      <td>1.0</td>\n",
       "      <td>0.0</td>\n",
       "      <td>0.0</td>\n",
       "      <td>0.0</td>\n",
       "      <td>1.0</td>\n",
       "      <td>0.0</td>\n",
       "      <td>0.0</td>\n",
       "      <td>0.0</td>\n",
       "      <td>...</td>\n",
       "      <td>0.0</td>\n",
       "      <td>0.0</td>\n",
       "      <td>0.0</td>\n",
       "      <td>0.0</td>\n",
       "      <td>0.0</td>\n",
       "      <td>1.0</td>\n",
       "      <td>0.0</td>\n",
       "      <td>0.0</td>\n",
       "      <td>0.0</td>\n",
       "      <td>0.0</td>\n",
       "    </tr>\n",
       "    <tr>\n",
       "      <th>4</th>\n",
       "      <td>71</td>\n",
       "      <td>350</td>\n",
       "      <td>1.0</td>\n",
       "      <td>1.0</td>\n",
       "      <td>0.0</td>\n",
       "      <td>0.0</td>\n",
       "      <td>0.0</td>\n",
       "      <td>0.0</td>\n",
       "      <td>0.0</td>\n",
       "      <td>0.0</td>\n",
       "      <td>...</td>\n",
       "      <td>0.0</td>\n",
       "      <td>1.0</td>\n",
       "      <td>0.0</td>\n",
       "      <td>0.0</td>\n",
       "      <td>0.0</td>\n",
       "      <td>0.0</td>\n",
       "      <td>0.0</td>\n",
       "      <td>0.0</td>\n",
       "      <td>0.0</td>\n",
       "      <td>0.0</td>\n",
       "    </tr>\n",
       "    <tr>\n",
       "      <th>...</th>\n",
       "      <td>...</td>\n",
       "      <td>...</td>\n",
       "      <td>...</td>\n",
       "      <td>...</td>\n",
       "      <td>...</td>\n",
       "      <td>...</td>\n",
       "      <td>...</td>\n",
       "      <td>...</td>\n",
       "      <td>...</td>\n",
       "      <td>...</td>\n",
       "      <td>...</td>\n",
       "      <td>...</td>\n",
       "      <td>...</td>\n",
       "      <td>...</td>\n",
       "      <td>...</td>\n",
       "      <td>...</td>\n",
       "      <td>...</td>\n",
       "      <td>...</td>\n",
       "      <td>...</td>\n",
       "      <td>...</td>\n",
       "      <td>...</td>\n",
       "    </tr>\n",
       "    <tr>\n",
       "      <th>36582</th>\n",
       "      <td>26</td>\n",
       "      <td>287</td>\n",
       "      <td>0.0</td>\n",
       "      <td>0.0</td>\n",
       "      <td>0.0</td>\n",
       "      <td>0.0</td>\n",
       "      <td>1.0</td>\n",
       "      <td>0.0</td>\n",
       "      <td>0.0</td>\n",
       "      <td>0.0</td>\n",
       "      <td>...</td>\n",
       "      <td>0.0</td>\n",
       "      <td>1.0</td>\n",
       "      <td>0.0</td>\n",
       "      <td>0.0</td>\n",
       "      <td>0.0</td>\n",
       "      <td>0.0</td>\n",
       "      <td>0.0</td>\n",
       "      <td>0.0</td>\n",
       "      <td>0.0</td>\n",
       "      <td>0.0</td>\n",
       "    </tr>\n",
       "    <tr>\n",
       "      <th>36583</th>\n",
       "      <td>55</td>\n",
       "      <td>230</td>\n",
       "      <td>1.0</td>\n",
       "      <td>0.0</td>\n",
       "      <td>0.0</td>\n",
       "      <td>1.0</td>\n",
       "      <td>0.0</td>\n",
       "      <td>0.0</td>\n",
       "      <td>0.0</td>\n",
       "      <td>0.0</td>\n",
       "      <td>...</td>\n",
       "      <td>0.0</td>\n",
       "      <td>1.0</td>\n",
       "      <td>0.0</td>\n",
       "      <td>0.0</td>\n",
       "      <td>0.0</td>\n",
       "      <td>0.0</td>\n",
       "      <td>0.0</td>\n",
       "      <td>0.0</td>\n",
       "      <td>0.0</td>\n",
       "      <td>0.0</td>\n",
       "    </tr>\n",
       "    <tr>\n",
       "      <th>36584</th>\n",
       "      <td>52</td>\n",
       "      <td>903</td>\n",
       "      <td>0.0</td>\n",
       "      <td>0.0</td>\n",
       "      <td>0.0</td>\n",
       "      <td>0.0</td>\n",
       "      <td>0.0</td>\n",
       "      <td>0.0</td>\n",
       "      <td>0.0</td>\n",
       "      <td>0.0</td>\n",
       "      <td>...</td>\n",
       "      <td>0.0</td>\n",
       "      <td>1.0</td>\n",
       "      <td>0.0</td>\n",
       "      <td>0.0</td>\n",
       "      <td>0.0</td>\n",
       "      <td>0.0</td>\n",
       "      <td>0.0</td>\n",
       "      <td>0.0</td>\n",
       "      <td>0.0</td>\n",
       "      <td>0.0</td>\n",
       "    </tr>\n",
       "    <tr>\n",
       "      <th>36585</th>\n",
       "      <td>27</td>\n",
       "      <td>320</td>\n",
       "      <td>0.0</td>\n",
       "      <td>0.0</td>\n",
       "      <td>0.0</td>\n",
       "      <td>0.0</td>\n",
       "      <td>0.0</td>\n",
       "      <td>0.0</td>\n",
       "      <td>0.0</td>\n",
       "      <td>0.0</td>\n",
       "      <td>...</td>\n",
       "      <td>0.0</td>\n",
       "      <td>1.0</td>\n",
       "      <td>0.0</td>\n",
       "      <td>0.0</td>\n",
       "      <td>0.0</td>\n",
       "      <td>0.0</td>\n",
       "      <td>0.0</td>\n",
       "      <td>0.0</td>\n",
       "      <td>0.0</td>\n",
       "      <td>0.0</td>\n",
       "    </tr>\n",
       "    <tr>\n",
       "      <th>36586</th>\n",
       "      <td>25</td>\n",
       "      <td>520</td>\n",
       "      <td>1.0</td>\n",
       "      <td>0.0</td>\n",
       "      <td>0.0</td>\n",
       "      <td>0.0</td>\n",
       "      <td>0.0</td>\n",
       "      <td>0.0</td>\n",
       "      <td>0.0</td>\n",
       "      <td>0.0</td>\n",
       "      <td>...</td>\n",
       "      <td>0.0</td>\n",
       "      <td>1.0</td>\n",
       "      <td>0.0</td>\n",
       "      <td>0.0</td>\n",
       "      <td>0.0</td>\n",
       "      <td>0.0</td>\n",
       "      <td>0.0</td>\n",
       "      <td>0.0</td>\n",
       "      <td>0.0</td>\n",
       "      <td>0.0</td>\n",
       "    </tr>\n",
       "  </tbody>\n",
       "</table>\n",
       "<p>36587 rows × 31 columns</p>\n",
       "</div>"
      ],
      "text/plain": [
       "       PUFC05_AGE  PUFC25_PBASIC  PUFC04_SEX_Male  \\\n",
       "0              19            250              1.0   \n",
       "1              41            115              0.0   \n",
       "2              20            200              1.0   \n",
       "3              23            335              1.0   \n",
       "4              71            350              1.0   \n",
       "...           ...            ...              ...   \n",
       "36582          26            287              0.0   \n",
       "36583          55            230              1.0   \n",
       "36584          52            903              0.0   \n",
       "36585          27            320              0.0   \n",
       "36586          25            520              1.0   \n",
       "\n",
       "       Education_Category_Elementary  Education_Category_Elementary Graduate  \\\n",
       "0                                0.0                                     0.0   \n",
       "1                                0.0                                     0.0   \n",
       "2                                0.0                                     0.0   \n",
       "3                                0.0                                     0.0   \n",
       "4                                1.0                                     0.0   \n",
       "...                              ...                                     ...   \n",
       "36582                            0.0                                     0.0   \n",
       "36583                            0.0                                     0.0   \n",
       "36584                            0.0                                     0.0   \n",
       "36585                            0.0                                     0.0   \n",
       "36586                            0.0                                     0.0   \n",
       "\n",
       "       Education_Category_High School  \\\n",
       "0                                 0.0   \n",
       "1                                 0.0   \n",
       "2                                 0.0   \n",
       "3                                 0.0   \n",
       "4                                 0.0   \n",
       "...                               ...   \n",
       "36582                             0.0   \n",
       "36583                             1.0   \n",
       "36584                             0.0   \n",
       "36585                             0.0   \n",
       "36586                             0.0   \n",
       "\n",
       "       Education_Category_High School Graduate  \\\n",
       "0                                          1.0   \n",
       "1                                          1.0   \n",
       "2                                          1.0   \n",
       "3                                          1.0   \n",
       "4                                          0.0   \n",
       "...                                        ...   \n",
       "36582                                      1.0   \n",
       "36583                                      0.0   \n",
       "36584                                      0.0   \n",
       "36585                                      0.0   \n",
       "36586                                      0.0   \n",
       "\n",
       "       Education_Category_No Education  Education_Category_Post Baccalaureate  \\\n",
       "0                                  0.0                                    0.0   \n",
       "1                                  0.0                                    0.0   \n",
       "2                                  0.0                                    0.0   \n",
       "3                                  0.0                                    0.0   \n",
       "4                                  0.0                                    0.0   \n",
       "...                                ...                                    ...   \n",
       "36582                              0.0                                    0.0   \n",
       "36583                              0.0                                    0.0   \n",
       "36584                              0.0                                    0.0   \n",
       "36585                              0.0                                    0.0   \n",
       "36586                              0.0                                    0.0   \n",
       "\n",
       "       Education_Category_Preschool  ...  PUFC18_PNWHRS_7.0  \\\n",
       "0                               0.0  ...                0.0   \n",
       "1                               0.0  ...                0.0   \n",
       "2                               0.0  ...                0.0   \n",
       "3                               0.0  ...                0.0   \n",
       "4                               0.0  ...                0.0   \n",
       "...                             ...  ...                ...   \n",
       "36582                           0.0  ...                0.0   \n",
       "36583                           0.0  ...                0.0   \n",
       "36584                           0.0  ...                0.0   \n",
       "36585                           0.0  ...                0.0   \n",
       "36586                           0.0  ...                0.0   \n",
       "\n",
       "       PUFC18_PNWHRS_8.0  PUFC18_PNWHRS_9.0  PUFC18_PNWHRS_10.0  \\\n",
       "0                    1.0                0.0                 0.0   \n",
       "1                    0.0                0.0                 0.0   \n",
       "2                    1.0                0.0                 0.0   \n",
       "3                    0.0                0.0                 0.0   \n",
       "4                    1.0                0.0                 0.0   \n",
       "...                  ...                ...                 ...   \n",
       "36582                1.0                0.0                 0.0   \n",
       "36583                1.0                0.0                 0.0   \n",
       "36584                1.0                0.0                 0.0   \n",
       "36585                1.0                0.0                 0.0   \n",
       "36586                1.0                0.0                 0.0   \n",
       "\n",
       "       PUFC18_PNWHRS_11.0  PUFC18_PNWHRS_12.0  PUFC18_PNWHRS_13.0  \\\n",
       "0                     0.0                 0.0                 0.0   \n",
       "1                     0.0                 1.0                 0.0   \n",
       "2                     0.0                 0.0                 0.0   \n",
       "3                     0.0                 1.0                 0.0   \n",
       "4                     0.0                 0.0                 0.0   \n",
       "...                   ...                 ...                 ...   \n",
       "36582                 0.0                 0.0                 0.0   \n",
       "36583                 0.0                 0.0                 0.0   \n",
       "36584                 0.0                 0.0                 0.0   \n",
       "36585                 0.0                 0.0                 0.0   \n",
       "36586                 0.0                 0.0                 0.0   \n",
       "\n",
       "       PUFC18_PNWHRS_14.0  PUFC18_PNWHRS_15.0  PUFC18_PNWHRS_16.0  \n",
       "0                     0.0                 0.0                 0.0  \n",
       "1                     0.0                 0.0                 0.0  \n",
       "2                     0.0                 0.0                 0.0  \n",
       "3                     0.0                 0.0                 0.0  \n",
       "4                     0.0                 0.0                 0.0  \n",
       "...                   ...                 ...                 ...  \n",
       "36582                 0.0                 0.0                 0.0  \n",
       "36583                 0.0                 0.0                 0.0  \n",
       "36584                 0.0                 0.0                 0.0  \n",
       "36585                 0.0                 0.0                 0.0  \n",
       "36586                 0.0                 0.0                 0.0  \n",
       "\n",
       "[36587 rows x 31 columns]"
      ]
     },
     "execution_count": 62,
     "metadata": {},
     "output_type": "execute_result"
    }
   ],
   "source": [
    "df_cpy"
   ]
  },
  {
   "cell_type": "code",
   "execution_count": 63,
   "metadata": {},
   "outputs": [
    {
     "data": {
      "image/png": "[encoded data removed]",
      "text/plain": [
       "<Figure size 800x600 with 1 Axes>"
      ]
     },
     "metadata": {},
     "output_type": "display_data"
    }
   ],
   "source": [
    "import matplotlib.pyplot as plt\n",
    "import pandas as pd\n",
    "from sklearn.decomposition import PCA\n",
    "from sklearn.preprocessing import StandardScaler\n",
    "\n",
    "# Ensure df_cpy is numeric for PCA\n",
    "# df_numeric = df_cpy.select_dtypes(include=['number']).dropna()\n",
    "\n",
    "# Standardize the data\n",
    "scaler = StandardScaler()\n",
    "df_scaled = scaler.fit_transform(df_cpy)\n",
    "\n",
    "pca = PCA(n_components=2) \n",
    "pca_result = pca.fit_transform(df_scaled)\n",
    "\n",
    "# Create a DataFrame for visualization\n",
    "df_pca = pd.DataFrame(pca_result, columns=['PC1', 'PC2'])\n",
    "\n",
    "# Scatter plot\n",
    "plt.figure(figsize=(8, 6))\n",
    "plt.scatter(df_pca['PC1'], df_pca['PC2'], alpha=0.5)\n",
    "plt.xlabel('Principal Component 1')\n",
    "plt.ylabel('Principal Component 2')\n",
    "plt.title('PCA Scatter Plot')\n",
    "plt.grid(True)\n",
    "plt.show()\n"
   ]
  },
  {
   "cell_type": "code",
   "execution_count": 64,
   "metadata": {},
   "outputs": [],
   "source": [
    "# from sklearn.manifold import TSNE, MDS, Isomap, LocallyLinearEmbedding"
   ]
  },
  {
   "cell_type": "code",
   "execution_count": 65,
   "metadata": {},
   "outputs": [],
   "source": [
    "# perplexities = [5, 10, 30, 50, 100]\n",
    "\n",
    "# fig, axes = plt.subplots(1, len(perplexities), figsize=(20, 5))\n",
    "\n",
    "# for i, perplexity in enumerate(perplexities):\n",
    "    \n",
    "#     a = TSNE(n_components=2, perplexity=perplexity)\n",
    "#     df_tsne = a.fit_transform(df_scaled)\n",
    "\n",
    "#     ax = axes[i]\n",
    "#     ax.scatter(df_tsne[:, 0], df_tsne[:, 1], alpha=0.5)\n",
    "#     ax.set_title(f\"t-SNE (Perplexity={perplexity})\")\n",
    "#     ax.set_xlabel(\"Dim 1\")\n",
    "#     ax.set_ylabel(\"Dim 2\")\n",
    "#     ax.grid(True)\n",
    "# plt.tight_layout()\n",
    "# plt.show()"
   ]
  },
  {
   "cell_type": "code",
   "execution_count": 66,
   "metadata": {},
   "outputs": [],
   "source": [
    "# perplexities = 200\n",
    "\n",
    "# a = TSNE(n_components=2, perplexity=perplexity)\n",
    "# df_tsne = a.fit_transform(df_scaled)\n",
    "# plt.scatter(df_tsne[:, 0], df_tsne[:, 1], alpha=0.5)"
   ]
  },
  {
   "cell_type": "markdown",
   "metadata": {},
   "source": [
    "---"
   ]
  },
  {
   "cell_type": "markdown",
   "metadata": {},
   "source": [
    "KNN "
   ]
  },
  {
   "cell_type": "code",
   "execution_count": 67,
   "metadata": {},
   "outputs": [
    {
     "name": "stdout",
     "output_type": "stream",
     "text": [
      "KNN Accuracy: 0.1090\n"
     ]
    }
   ],
   "source": [
    "from sklearn.model_selection import train_test_split\n",
    "from sklearn.neighbors import KNeighborsClassifier\n",
    "from sklearn.metrics import accuracy_score\n",
    "\n",
    "\n",
    "target_column = 'PUFC25_PBASIC'\n",
    "# df_cpy = df_scaled.copy()\n",
    "df_cpy = df_cpy.dropna(subset=[target_column])\n",
    "\n",
    "X = df_cpy.drop(columns=[target_column])\n",
    "y = df_cpy[target_column]\n",
    "\n",
    "# Normalize numerical features (after encoding)\n",
    "scaler = StandardScaler()\n",
    "X_scaled = scaler.fit_transform(X)\n",
    "# Split into train and test sets\n",
    "X_train, X_test, y_train, y_test = train_test_split(X, y, test_size=0.2, random_state=42)\n",
    "\n",
    "# Train KNN Classifier\n",
    "k = 20\n",
    "knn = KNeighborsClassifier(n_neighbors=k)\n",
    "knn.fit(X_train, y_train)\n",
    "\n",
    "# Predict on test set\n",
    "y_pred = knn.predict(X_test)\n",
    "\n",
    "# Evaluate accuracy\n",
    "accuracy = accuracy_score(y_test, y_pred)\n",
    "print(f\"KNN Accuracy: {accuracy:.4f}\")"
   ]
  },
  {
   "cell_type": "code",
   "execution_count": null,
   "metadata": {},
   "outputs": [
    {
     "name": "stdout",
     "output_type": "stream",
     "text": [
      "Top Features by Permutation Importance:\n",
      "              Feature  Importance\n",
      "1       PUFC18_PNWHRS    0.331664\n",
      "0          PUFC05_AGE    0.050599\n",
      "47   PUFC07_GRADE_634    0.045660\n",
      "42   PUFC07_GRADE_614    0.029749\n",
      "53   PUFC07_GRADE_652    0.019528\n",
      "..                ...         ...\n",
      "13   PUFC07_GRADE_310   -0.000203\n",
      "14   PUFC07_GRADE_320   -0.000211\n",
      "15   PUFC07_GRADE_330   -0.000273\n",
      "2   PUFC04_SEX_Female   -0.001648\n",
      "3     PUFC04_SEX_Male   -0.001683\n",
      "\n",
      "[70 rows x 2 columns]\n"
     ]
    }
   ],
   "source": [
    "import pandas as pd\n",
    "from sklearn.ensemble import RandomForestRegressor\n",
    "from sklearn.inspection import permutation_importance\n",
    "from sklearn.model_selection import train_test_split\n",
    "\n",
    "# Example: Predict salary (PUFC25_PBASIC)\n",
    "X = labor_df[['PUFC05_AGE', 'PUFC04_SEX', 'PUFC07_GRADE', 'PUFC18_PNWHRS']]\n",
    "y = labor_df['PUFC25_PBASIC']\n",
    "\n",
    "# Encode categorical features (like in your notebook)\n",
    "X = pd.get_dummies(X, columns=['PUFC04_SEX', 'PUFC07_GRADE'])\n",
    "\n",
    "# Train-test split\n",
    "X_train, X_test, y_train, y_test = train_test_split(X, y, test_size=0.2, random_state=42)\n",
    "\n",
    "# Train a model (Random Forest for robustness)\n",
    "model = RandomForestRegressor()\n",
    "model.fit(X_train, y_train)\n",
    "\n",
    "# Calculate permutation importance\n",
    "result = permutation_importance(model, X_test, y_test, n_repeats=10, random_state=42)\n",
    "\n",
    "# Get top features\n",
    "importance_df = pd.DataFrame({\n",
    "    'Feature': X.columns,\n",
    "    'Importance': result.importances_mean\n",
    "}).sort_values('Importance', ascending=False)\n",
    "\n",
    "print(\"Top Features by Permutation Importance:\")\n",
    "print(importance_df)"
   ]
  },
  {
   "cell_type": "code",
   "execution_count": 70,
   "metadata": {},
   "outputs": [
    {
     "name": "stdout",
     "output_type": "stream",
     "text": [
      "Top Features by Permutation Importance:\n",
      "                  Feature  Importance\n",
      "0              PUFC05_AGE    0.087713\n",
      "6     PUFC06_MSTAT_Single    0.012571\n",
      "5    PUFC06_MSTAT_Married    0.008764\n",
      "1       PUFC04_SEX_Female    0.007618\n",
      "2         PUFC04_SEX_Male    0.006257\n",
      "8    PUFC06_MSTAT_Widowed    0.000081\n",
      "3    PUFC06_MSTAT_Annuled    0.000068\n",
      "7    PUFC06_MSTAT_Unknown   -0.000002\n",
      "4   PUFC06_MSTAT_Divorced   -0.000009\n",
      "9       PUFC09_GRADTECH_1   -0.000448\n",
      "10      PUFC09_GRADTECH_2   -0.000532\n"
     ]
    }
   ],
   "source": [
    "import pandas as pd\n",
    "from sklearn.ensemble import RandomForestRegressor\n",
    "from sklearn.inspection import permutation_importance\n",
    "from sklearn.model_selection import train_test_split\n",
    "\n",
    "# predict the same ones as decision trees\n",
    "X = labor_df[['PUFC05_AGE', 'PUFC04_SEX', 'PUFC06_MSTAT', 'PUFC09_GRADTECH']]\n",
    "y = labor_df['PUFC25_PBASIC']\n",
    "\n",
    "# Encode categorical features (like in your notebook)\n",
    "X = pd.get_dummies(X, columns=['PUFC04_SEX', 'PUFC06_MSTAT', 'PUFC09_GRADTECH'])\n",
    "\n",
    "# Train-test split\n",
    "X_train, X_test, y_train, y_test = train_test_split(X, y, test_size=0.2, random_state=42)\n",
    "\n",
    "# Train a model (Random Forest for robustness)\n",
    "model = RandomForestRegressor()\n",
    "model.fit(X_train, y_train)\n",
    "\n",
    "# Calculate permutation importance\n",
    "result = permutation_importance(model, X_test, y_test, n_repeats=10, random_state=42)\n",
    "\n",
    "# Get top features\n",
    "importance_df = pd.DataFrame({\n",
    "    'Feature': X.columns,\n",
    "    'Importance': result.importances_mean\n",
    "}).sort_values('Importance', ascending=False)\n",
    "\n",
    "print(\"Top Features by Permutation Importance:\")\n",
    "print(importance_df)"
   ]
  },
  {
   "cell_type": "markdown",
   "metadata": {},
   "source": [
    "# **Section 7. Error Analysis**"
   ]
  },
  {
   "cell_type": "markdown",
   "metadata": {},
   "source": [
    "# **Section 8. Improving Model Performance**\n",
    "\n",
    "\n"
   ]
  },
  {
   "cell_type": "markdown",
   "metadata": {},
   "source": [
    "# **Section 9. Model Performance Summary**"
   ]
  },
  {
   "cell_type": "markdown",
   "metadata": {},
   "source": [
    "# **Section 10. Insights and Conclusions** "
   ]
  },
  {
   "cell_type": "markdown",
   "metadata": {},
   "source": [
    "# **Section 11. References (included AI transcript)**"
   ]
  }
 ],
 "metadata": {
  "colab": {
   "authorship_tag": "ABX9TyOeRKcmPgsIB86Q4ZR7AqB5",
   "provenance": []
  },
  "kernelspec": {
   "display_name": "Python 3",
   "name": "python3"
  },
  "language_info": {
   "codemirror_mode": {
    "name": "ipython",
    "version": 3
   },
   "file_extension": ".py",
   "mimetype": "text/x-python",
   "name": "python",
   "nbconvert_exporter": "python",
   "pygments_lexer": "ipython3",
   "version": "3.13.2"
  }
 },
 "nbformat": 4,
 "nbformat_minor": 0
}
